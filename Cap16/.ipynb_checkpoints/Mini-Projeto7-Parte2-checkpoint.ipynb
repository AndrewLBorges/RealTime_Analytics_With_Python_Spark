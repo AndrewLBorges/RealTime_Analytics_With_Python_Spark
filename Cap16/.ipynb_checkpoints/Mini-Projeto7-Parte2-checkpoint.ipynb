{
 "cells": [
  {
   "cell_type": "markdown",
   "id": "89fb6d7b",
   "metadata": {},
   "source": [
    "# <font color='blue'>Big Data Real-Time Analytics com Python e Spark</font>\n",
    "\n",
    "## <font color='blue'>Mini-Projeto 7</font>\n",
    "\n",
    "### <font color='blue'>Sistema de Recomendação em Tempo Real com Machine Learning, PySpark, Spark Streaming e Kafka</font>"
   ]
  },
  {
   "cell_type": "code",
   "execution_count": 1,
   "id": "ad383edf",
   "metadata": {},
   "outputs": [
    {
     "name": "stdout",
     "output_type": "stream",
     "text": [
      "Versão da Linguagem Python Usada Neste Jupyter Notebook: 3.9.13\n"
     ]
    }
   ],
   "source": [
    "# Versão da Linguagem Python\n",
    "from platform import python_version\n",
    "print('Versão da Linguagem Python Usada Neste Jupyter Notebook:', python_version())"
   ]
  },
  {
   "cell_type": "code",
   "execution_count": 2,
   "id": "6a6d4e53",
   "metadata": {},
   "outputs": [],
   "source": [
    "# Para atualizar um pacote, execute o comando abaixo no terminal ou prompt de comando:\n",
    "# pip install -U nome_pacote\n",
    "\n",
    "# Para instalar a versão exata de um pacote, execute o comando abaixo no terminal ou prompt de comando:\n",
    "#!pip install nome_pacote==versão_desejada\n",
    "\n",
    "# Depois de instalar ou atualizar o pacote, reinicie o jupyter notebook.\n",
    "\n",
    "# Instala o pacote watermark. \n",
    "# Esse pacote é usado para gravar as versões de outros pacotes usados neste jupyter notebook.\n",
    "#!pip install -q -U watermark"
   ]
  },
  {
   "cell_type": "code",
   "execution_count": 3,
   "id": "03cb8567",
   "metadata": {},
   "outputs": [],
   "source": [
    "# Importa o findspark e inicializa\n",
    "import findspark\n",
    "findspark.init()"
   ]
  },
  {
   "cell_type": "code",
   "execution_count": 4,
   "id": "53be27fb",
   "metadata": {},
   "outputs": [],
   "source": [
    "# Imports\n",
    "import os\n",
    "import time\n",
    "import random\n",
    "import pyspark\n",
    "from pyspark.sql import SparkSession\n",
    "from pyspark.sql.functions import *\n",
    "from pyspark.ml.feature import Normalizer, StandardScaler"
   ]
  },
  {
   "cell_type": "code",
   "execution_count": 5,
   "id": "86a329d7",
   "metadata": {},
   "outputs": [
    {
     "name": "stdout",
     "output_type": "stream",
     "text": [
      "Author: Andrew Borges\n",
      "\n",
      "findspark: 2.0.1\n",
      "sys      : 3.9.13 (main, Aug 25 2022, 23:51:50) [MSC v.1916 64 bit (AMD64)]\n",
      "pyspark  : 3.3.2\n",
      "\n"
     ]
    }
   ],
   "source": [
    "# Versões dos pacotes usados neste jupyter notebook\n",
    "%reload_ext watermark\n",
    "%watermark -a \"Andrew Borges\" --iversions"
   ]
  },
  {
   "cell_type": "code",
   "execution_count": 6,
   "id": "77f8285d",
   "metadata": {},
   "outputs": [],
   "source": [
    "# Endereço do servidor Kafka\n",
    "SERVER = 'localhost:9092'"
   ]
  },
  {
   "cell_type": "code",
   "execution_count": 7,
   "id": "e660388c",
   "metadata": {},
   "outputs": [],
   "source": [
    "# Nome do tópico\n",
    "TOPIC = \"dsaminiprojeto7\""
   ]
  },
  {
   "cell_type": "code",
   "execution_count": 8,
   "id": "e1e93396",
   "metadata": {},
   "outputs": [],
   "source": [
    "# Conectores do Spark para o Apache Kafka\n",
    "spark_jars =  (\"{},{},{},{},{}\".format(os.getcwd() + \"/jars/spark-sql-kafka-0-10_2.12-3.2.1.jar\",  \n",
    "                                       os.getcwd() + \"/jars/kafka-clients-2.1.1.jar\", \n",
    "                                       os.getcwd() + \"/jars/spark-streaming-kafka-0-10-assembly_2.12-3.3.2.jar\", \n",
    "                                       os.getcwd() + \"/jars/commons-pool2-2.8.0.jar\",  \n",
    "                                       os.getcwd() + \"/jars/spark-token-provider-kafka-0-10_2.12-3.1.2.jar\"))"
   ]
  },
  {
   "cell_type": "code",
   "execution_count": 9,
   "id": "680bf4b2",
   "metadata": {},
   "outputs": [],
   "source": [
    "# Inicializa sessão Spark\n",
    "spark = SparkSession \\\n",
    "        .builder \\\n",
    "        .config(\"spark.jars\", spark_jars) \\\n",
    "        .appName(\"Mini-Projeto7\") \\\n",
    "        .getOrCreate()"
   ]
  },
  {
   "cell_type": "code",
   "execution_count": 10,
   "id": "13b605fe",
   "metadata": {},
   "outputs": [],
   "source": [
    "spark.sparkContext.setLogLevel(\"ERROR\")"
   ]
  },
  {
   "cell_type": "code",
   "execution_count": 11,
   "id": "1919d541",
   "metadata": {},
   "outputs": [],
   "source": [
    "# Usamos o Spark Streaming para leitura do streaming de dados do Kafka e salvamos em um dataframe\n",
    "df = spark \\\n",
    "        .readStream \\\n",
    "        .format(\"kafka\") \\\n",
    "        .option(\"kafka.bootstrap.servers\", SERVER) \\\n",
    "        .option(\"subscribe\", TOPIC) \\\n",
    "        .option(\"startingOffsets\", \"latest\") \\\n",
    "        .load()"
   ]
  },
  {
   "cell_type": "code",
   "execution_count": 12,
   "id": "8a5445d5",
   "metadata": {},
   "outputs": [],
   "source": [
    "# Selecionamos a coluna timestamp como string e salvamos em um novo dataframe\n",
    "df1 = df.selectExpr(\"CAST(value AS STRING)\", \"timestamp\")"
   ]
  },
  {
   "cell_type": "code",
   "execution_count": 13,
   "id": "89082704",
   "metadata": {},
   "outputs": [],
   "source": [
    "# Definimos o schema com o nome de cada coluna e o tipo de dado\n",
    "def_schema = \"order_id INT, id STRING, name STRING, popularity INT, duration_ms DOUBLE, \" \\\n",
    "            + \"artists STRING, id_artists STRING, release_date STRING, \" \\\n",
    "            + \"danceability DOUBLE, energy DOUBLE, key INT, loudness DOUBLE, \" \\\n",
    "            + \"mode INT, speechiness DOUBLE, \" \\\n",
    "            + \"acousticness DOUBLE, instrumentalness DOUBLE, liveness DOUBLE, \" \\\n",
    "            + \"valence DOUBLE, tempo DOUBLE, time_signature DOUBLE\""
   ]
  },
  {
   "cell_type": "code",
   "execution_count": 14,
   "id": "b5345ba4",
   "metadata": {},
   "outputs": [],
   "source": [
    "# Selecionamos o straming de dados de acordo com o schema e salvamos em um novo dataframe\n",
    "df2 = df1.select(from_csv(col(\"value\"), def_schema).alias(\"song\"), \"timestamp\")"
   ]
  },
  {
   "cell_type": "code",
   "execution_count": 15,
   "id": "603a6fc7",
   "metadata": {},
   "outputs": [
    {
     "name": "stdout",
     "output_type": "stream",
     "text": [
      "root\n",
      " |-- order_id: integer (nullable = true)\n",
      " |-- id: string (nullable = true)\n",
      " |-- name: string (nullable = true)\n",
      " |-- popularity: integer (nullable = true)\n",
      " |-- duration_ms: double (nullable = true)\n",
      " |-- artists: string (nullable = true)\n",
      " |-- id_artists: string (nullable = true)\n",
      " |-- release_date: string (nullable = true)\n",
      " |-- danceability: double (nullable = true)\n",
      " |-- energy: double (nullable = true)\n",
      " |-- key: integer (nullable = true)\n",
      " |-- loudness: double (nullable = true)\n",
      " |-- mode: integer (nullable = true)\n",
      " |-- speechiness: double (nullable = true)\n",
      " |-- acousticness: double (nullable = true)\n",
      " |-- instrumentalness: double (nullable = true)\n",
      " |-- liveness: double (nullable = true)\n",
      " |-- valence: double (nullable = true)\n",
      " |-- tempo: double (nullable = true)\n",
      " |-- time_signature: double (nullable = true)\n",
      " |-- timestamp: timestamp (nullable = true)\n",
      "\n"
     ]
    }
   ],
   "source": [
    "# Criamos uma view na memória do Spark e visualizamos o schema\n",
    "df3 = df2.select(\"song.*\", \"timestamp\")\n",
    "df3.createOrReplaceTempView(\"df3_View\");\n",
    "df3.printSchema()"
   ]
  },
  {
   "cell_type": "code",
   "execution_count": 16,
   "id": "e025b461",
   "metadata": {},
   "outputs": [],
   "source": [
    "# Selecionamos os dados com as músicas do stream\n",
    "musicas_stream = spark.sql(\"SELECT * FROM df3_View\")"
   ]
  },
  {
   "cell_type": "code",
   "execution_count": 17,
   "id": "fb32d40b",
   "metadata": {},
   "outputs": [
    {
     "data": {
      "text/plain": [
       "False"
      ]
     },
     "execution_count": 17,
     "metadata": {},
     "output_type": "execute_result"
    }
   ],
   "source": [
    "# Criamos o stream de dados no Spark Streaming\n",
    "musicas_stream_spark = musicas_stream \\\n",
    "        .writeStream \\\n",
    "        .trigger(processingTime='5 seconds') \\\n",
    "        .outputMode(\"append\") \\\n",
    "        .option(\"truncate\", \"false\") \\\n",
    "        .format(\"memory\") \\\n",
    "        .queryName(\"tabela_spark\") \\\n",
    "        .start()\n",
    "\n",
    "musicas_stream_spark.awaitTermination(1)"
   ]
  },
  {
   "cell_type": "code",
   "execution_count": 18,
   "id": "bf645bd0",
   "metadata": {},
   "outputs": [],
   "source": [
    "# Selecionamos as músicas da tabela de stream Spark\n",
    "spark_songs = spark.sql(\"SELECT * FROM tabela_spark\")"
   ]
  },
  {
   "cell_type": "code",
   "execution_count": 19,
   "id": "e3663330",
   "metadata": {},
   "outputs": [
    {
     "name": "stdout",
     "output_type": "stream",
     "text": [
      "+--------+---+----+----------+-----------+-------+----------+------------+------------+------+---+--------+----+-----------+------------+----------------+--------+-------+-----+--------------+---------+\n",
      "|order_id| id|name|popularity|duration_ms|artists|id_artists|release_date|danceability|energy|key|loudness|mode|speechiness|acousticness|instrumentalness|liveness|valence|tempo|time_signature|timestamp|\n",
      "+--------+---+----+----------+-----------+-------+----------+------------+------------+------+---+--------+----+-----------+------------+----------------+--------+-------+-----+--------------+---------+\n",
      "+--------+---+----+----------+-----------+-------+----------+------------+------------+------+---+--------+----+-----------+------------+----------------+--------+-------+-----+--------------+---------+\n",
      "\n"
     ]
    }
   ],
   "source": [
    "# Agora sim podemos visualizar o stream em tempo real como tabela do Spark\n",
    "spark_songs.show(5)"
   ]
  },
  {
   "cell_type": "code",
   "execution_count": 25,
   "id": "3f320dc1",
   "metadata": {},
   "outputs": [
    {
     "name": "stdout",
     "output_type": "stream",
     "text": [
      "+--------+--------------------+--------------------+----------+-----------+--------------------+\n",
      "|order_id|                  id|                name|popularity|duration_ms|             artists|\n",
      "+--------+--------------------+--------------------+----------+-----------+--------------------+\n",
      "|      64|2UmBKKBkxqw80NEPK...|Field Test - Wayside|         0|   180571.0|       TerrellMorris|\n",
      "|      65|3SmYK0ZLkvxmRIvDV...|             Coconut|        21|   182089.0|           JamesKaye|\n",
      "|      66|2TNSepy0fs13kXyTI...|                Heat|        14|   220000.0|     StevenAlexander|\n",
      "|      67|2jjuzjDbmVOI7kNCS...|Dance in the Livi...|        52|   244539.0|NVTHVNForrestPark...|\n",
      "|      68|6lgfJ2cdjMYT7RYtS...|             Corners|         6|   298432.0|      HarveyTrisdale|\n",
      "+--------+--------------------+--------------------+----------+-----------+--------------------+\n",
      "only showing top 5 rows\n",
      "\n"
     ]
    }
   ],
   "source": [
    "# Podemos visualizar apenas algumas colunas, por exemplo\n",
    "spark_songs.select('order_id', 'id', 'name', 'popularity', 'duration_ms', 'artists').show(5)"
   ]
  },
  {
   "cell_type": "code",
   "execution_count": 31,
   "id": "34fb0d32",
   "metadata": {},
   "outputs": [
    {
     "data": {
      "text/plain": [
       "171"
      ]
     },
     "execution_count": 31,
     "metadata": {},
     "output_type": "execute_result"
    }
   ],
   "source": [
    "# Contagem de músicas extraídas em tempo real\n",
    "spark_songs.count()"
   ]
  },
  {
   "cell_type": "markdown",
   "id": "cc058cee",
   "metadata": {},
   "source": [
    "Aguarde alguns minutos antes de seguir com a execução para que o streaming de dados possa ser coletado."
   ]
  },
  {
   "cell_type": "markdown",
   "id": "e07e16fd",
   "metadata": {},
   "source": [
    "> Vamos agora trabalhar na extração de dados do Spotify"
   ]
  },
  {
   "cell_type": "code",
   "execution_count": null,
   "id": "0a33d6eb",
   "metadata": {},
   "outputs": [],
   "source": [
    "# https://pypi.org/projectspotipy/\n",
    "!pip install -q spotipy"
   ]
  },
  {
   "cell_type": "code",
   "execution_count": 32,
   "id": "50267dd9",
   "metadata": {},
   "outputs": [],
   "source": [
    "# Imports\n",
    "import os\n",
    "import ujson\n",
    "import spotipy\n",
    "import spotipy.util\n",
    "from pyspark.ml.feature import VectorAssembler\n",
    "from pyspark.ml.feature import StandardScaler\n",
    "from pyspark.ml.clustering import KMeans\n",
    "from pyspark.ml.evaluation import ClusteringEvaluator\n",
    "import numpy as np\n",
    "import pandas as pd\n",
    "import matplotlib.pyplot as plt\n",
    "import seaborn as sns\n",
    "from tqdm import tqdm"
   ]
  },
  {
   "cell_type": "code",
   "execution_count": 33,
   "id": "7813d50b",
   "metadata": {},
   "outputs": [
    {
     "name": "stdout",
     "output_type": "stream",
     "text": [
      "Author: Andrew Borges\n",
      "\n",
      "findspark : 2.0.1\n",
      "sys       : 3.9.13 (main, Aug 25 2022, 23:51:50) [MSC v.1916 64 bit (AMD64)]\n",
      "spotipy   : 2.23.0\n",
      "ujson     : 5.4.0\n",
      "pyspark   : 3.3.2\n",
      "numpy     : 1.22.3\n",
      "pandas    : 1.5.3\n",
      "seaborn   : 0.12.2\n",
      "matplotlib: 3.7.1\n",
      "\n"
     ]
    }
   ],
   "source": [
    "# Versões dos pacotes usados neste jupyter notebook\n",
    "%reload_ext watermark\n",
    "%watermark -a \"Andrew Borges\" --iversions"
   ]
  },
  {
   "cell_type": "code",
   "execution_count": 34,
   "id": "6e8aff65",
   "metadata": {},
   "outputs": [],
   "source": [
    "# Aqui você coloca as suas chaves de API do Spotify\n",
    "os.environ[\"SPOTIPY_CLIENT_ID\"] = '007ab677fe8b4c838adae2a69fd81880'\n",
    "os.environ[\"SPOTIPY_CLIENT_SECRET\"] = '6ae38bfcbc304591a31c859c3732d0ee'\n",
    "os.environ[\"SPOTIPY_REDIRECT_URI\"] = 'https://localhost:7777/callback'"
   ]
  },
  {
   "cell_type": "markdown",
   "id": "c5ffca14",
   "metadata": {},
   "source": [
    "https://developer.spotify.com/documentation/general/authorization/scopes/"
   ]
  },
  {
   "cell_type": "code",
   "execution_count": 35,
   "id": "9bce3625",
   "metadata": {},
   "outputs": [],
   "source": [
    "# Escopo de extração das preferências do usário\n",
    "scope = 'user-library-read'"
   ]
  },
  {
   "cell_type": "code",
   "execution_count": 36,
   "id": "24852771",
   "metadata": {},
   "outputs": [],
   "source": [
    "# Username no Spotify\n",
    "username = 'andrewborges71@gmail.com'"
   ]
  },
  {
   "cell_type": "code",
   "execution_count": 37,
   "id": "ee57eec3",
   "metadata": {},
   "outputs": [],
   "source": [
    "# Criação do token de acesso\n",
    "token = spotipy.util.prompt_for_user_token(username, scope)"
   ]
  },
  {
   "cell_type": "code",
   "execution_count": 38,
   "id": "ceeaab1c",
   "metadata": {},
   "outputs": [],
   "source": [
    "# CRia o objeto de autenticação\n",
    "spotipy_obj = spotipy.Spotify(auth = token)"
   ]
  },
  {
   "cell_type": "code",
   "execution_count": 39,
   "id": "ce5839bc",
   "metadata": {},
   "outputs": [],
   "source": [
    "# Extrai até 50 músicas da lista de favoritos do usuário\n",
    "saved_tracks = spotipy_obj.current_user_saved_tracks(limit = 50)"
   ]
  },
  {
   "cell_type": "code",
   "execution_count": 40,
   "id": "2f5c242a",
   "metadata": {},
   "outputs": [
    {
     "name": "stdout",
     "output_type": "stream",
     "text": [
      "Total de Tracks: 105 \n"
     ]
    }
   ],
   "source": [
    "n_tracks = saved_tracks['total']\n",
    "print('Total de Tracks: %d ' % n_tracks)"
   ]
  },
  {
   "cell_type": "code",
   "execution_count": 41,
   "id": "97f61930",
   "metadata": {},
   "outputs": [],
   "source": [
    "# Função para extrair os atributos da lista de músicas do usuário\n",
    "def select_features(track_response):\n",
    "    return {\n",
    "        'id': str(track_response['track']['id']),\n",
    "        'name': str(track_response['track']['name']),\n",
    "        'artists': [artist['name'] for artist in track_response['track']['artists']],\n",
    "        'popularity': track_response['track']['popularity']\n",
    "    }"
   ]
  },
  {
   "cell_type": "code",
   "execution_count": 42,
   "id": "cc658e4c",
   "metadata": {},
   "outputs": [],
   "source": [
    "# Aplica a função\n",
    "tracks = [select_features(track) for track in saved_tracks['items']]"
   ]
  },
  {
   "cell_type": "code",
   "execution_count": 43,
   "id": "a0b525f3",
   "metadata": {},
   "outputs": [],
   "source": [
    "# Extrai os atributos das músicas preferidas do usuário\n",
    "while saved_tracks['next']:\n",
    "    saved_tracks = spotipy_obj.next(saved_tracks)\n",
    "    tracks.extend([select_features(track) for track in saved_tracks['items']])"
   ]
  },
  {
   "cell_type": "code",
   "execution_count": 44,
   "id": "e1387bf5",
   "metadata": {},
   "outputs": [],
   "source": [
    "# Criamos o dataframe do pandas\n",
    "df_tracks = pd.DataFrame(tracks)\n",
    "pd.set_option('display.max_rows', len(tracks))\n",
    "df_tracks['artists'] = df_tracks['artists'].apply(lambda artists: artists[0])"
   ]
  },
  {
   "cell_type": "code",
   "execution_count": 45,
   "id": "215b2094",
   "metadata": {},
   "outputs": [
    {
     "data": {
      "text/html": [
       "<div>\n",
       "<style scoped>\n",
       "    .dataframe tbody tr th:only-of-type {\n",
       "        vertical-align: middle;\n",
       "    }\n",
       "\n",
       "    .dataframe tbody tr th {\n",
       "        vertical-align: top;\n",
       "    }\n",
       "\n",
       "    .dataframe thead th {\n",
       "        text-align: right;\n",
       "    }\n",
       "</style>\n",
       "<table border=\"1\" class=\"dataframe\">\n",
       "  <thead>\n",
       "    <tr style=\"text-align: right;\">\n",
       "      <th></th>\n",
       "      <th>id</th>\n",
       "      <th>name</th>\n",
       "      <th>artists</th>\n",
       "      <th>popularity</th>\n",
       "    </tr>\n",
       "  </thead>\n",
       "  <tbody>\n",
       "    <tr>\n",
       "      <th>0</th>\n",
       "      <td>73EQPKdoo72AxZXJ7Xhiq1</td>\n",
       "      <td>虹の彼方に</td>\n",
       "      <td>ReoNa</td>\n",
       "      <td>52</td>\n",
       "    </tr>\n",
       "    <tr>\n",
       "      <th>1</th>\n",
       "      <td>4D6aGrA0NCTxXQMgOcAX3P</td>\n",
       "      <td>Alive</td>\n",
       "      <td>ReoNa</td>\n",
       "      <td>39</td>\n",
       "    </tr>\n",
       "    <tr>\n",
       "      <th>2</th>\n",
       "      <td>1f6wH1mWgPfxoSfWWlmh0K</td>\n",
       "      <td>シャル・ウィ・ダンス?</td>\n",
       "      <td>ReoNa</td>\n",
       "      <td>41</td>\n",
       "    </tr>\n",
       "    <tr>\n",
       "      <th>3</th>\n",
       "      <td>2fgAVfnav5XAEwKi19PVxC</td>\n",
       "      <td>生命線</td>\n",
       "      <td>ReoNa</td>\n",
       "      <td>44</td>\n",
       "    </tr>\n",
       "    <tr>\n",
       "      <th>4</th>\n",
       "      <td>3GsiCUipvdSCOSNVcHkJYl</td>\n",
       "      <td>ないない</td>\n",
       "      <td>ReoNa</td>\n",
       "      <td>45</td>\n",
       "    </tr>\n",
       "    <tr>\n",
       "      <th>5</th>\n",
       "      <td>2j1r3ubqqxuoTFaPVnTV1j</td>\n",
       "      <td>ANIMA</td>\n",
       "      <td>ReoNa</td>\n",
       "      <td>61</td>\n",
       "    </tr>\n",
       "    <tr>\n",
       "      <th>6</th>\n",
       "      <td>5vsM9UppL2iTgOfenMB6Gz</td>\n",
       "      <td>飛行艇</td>\n",
       "      <td>King Gnu</td>\n",
       "      <td>60</td>\n",
       "    </tr>\n",
       "    <tr>\n",
       "      <th>7</th>\n",
       "      <td>0r2PAeROizyyoFMpu0fvwI</td>\n",
       "      <td>Prayer X</td>\n",
       "      <td>King Gnu</td>\n",
       "      <td>60</td>\n",
       "    </tr>\n",
       "    <tr>\n",
       "      <th>8</th>\n",
       "      <td>7gdbaUPut1M0ewKOSAqvyW</td>\n",
       "      <td>Stardom</td>\n",
       "      <td>King Gnu</td>\n",
       "      <td>64</td>\n",
       "    </tr>\n",
       "    <tr>\n",
       "      <th>9</th>\n",
       "      <td>34PR0zLBVl7VMF9E7dDwdo</td>\n",
       "      <td>雨燦々</td>\n",
       "      <td>King Gnu</td>\n",
       "      <td>65</td>\n",
       "    </tr>\n",
       "  </tbody>\n",
       "</table>\n",
       "</div>"
      ],
      "text/plain": [
       "                       id         name   artists  popularity\n",
       "0  73EQPKdoo72AxZXJ7Xhiq1        虹の彼方に     ReoNa          52\n",
       "1  4D6aGrA0NCTxXQMgOcAX3P        Alive     ReoNa          39\n",
       "2  1f6wH1mWgPfxoSfWWlmh0K  シャル・ウィ・ダンス?     ReoNa          41\n",
       "3  2fgAVfnav5XAEwKi19PVxC          生命線     ReoNa          44\n",
       "4  3GsiCUipvdSCOSNVcHkJYl         ないない     ReoNa          45\n",
       "5  2j1r3ubqqxuoTFaPVnTV1j        ANIMA     ReoNa          61\n",
       "6  5vsM9UppL2iTgOfenMB6Gz          飛行艇  King Gnu          60\n",
       "7  0r2PAeROizyyoFMpu0fvwI     Prayer X  King Gnu          60\n",
       "8  7gdbaUPut1M0ewKOSAqvyW      Stardom  King Gnu          64\n",
       "9  34PR0zLBVl7VMF9E7dDwdo          雨燦々  King Gnu          65"
      ]
     },
     "execution_count": 45,
     "metadata": {},
     "output_type": "execute_result"
    }
   ],
   "source": [
    "df_tracks.head(10)"
   ]
  },
  {
   "cell_type": "code",
   "execution_count": 46,
   "id": "63ffa6ec",
   "metadata": {},
   "outputs": [],
   "source": [
    "# Dicionário para os atributos de áudio\n",
    "audio_features = {}"
   ]
  },
  {
   "cell_type": "code",
   "execution_count": 47,
   "id": "cc33423c",
   "metadata": {},
   "outputs": [],
   "source": [
    "# Extrai os atributos de áudio\n",
    "for idd in df_tracks['id'].tolist():\n",
    "    audio_features[idd] = spotipy_obj.audio_features(idd)[0]"
   ]
  },
  {
   "cell_type": "code",
   "execution_count": 48,
   "id": "8c27df3a",
   "metadata": {},
   "outputs": [],
   "source": [
    "# Adicionamos os atributos ao dataframe\n",
    "df_tracks['acousticness'] = df_tracks['id'].apply(lambda idd: audio_features[idd]['acousticness'])\n",
    "df_tracks['speechiness'] = df_tracks['id'].apply(lambda idd: audio_features[idd]['speechiness'])\n",
    "df_tracks['key'] = df_tracks['id'].apply(lambda idd: str(audio_features[idd]['key']))\n",
    "df_tracks['liveness'] = df_tracks['id'].apply(lambda idd: audio_features[idd]['liveness'])\n",
    "df_tracks['instrumentalness'] = df_tracks['id'].apply(lambda idd: audio_features[idd]['instrumentalness'])\n",
    "df_tracks['energy'] = df_tracks['id'].apply(lambda idd: audio_features[idd]['energy'])\n",
    "df_tracks['tempo'] = df_tracks['id'].apply(lambda idd: audio_features[idd]['tempo'])\n",
    "df_tracks['loudness'] = df_tracks['id'].apply(lambda idd: audio_features[idd]['loudness'])\n",
    "df_tracks['danceability'] = df_tracks['id'].apply(lambda idd: audio_features[idd]['danceability'])\n",
    "df_tracks['valence'] = df_tracks['id'].apply(lambda idd: audio_features[idd]['valence'])"
   ]
  },
  {
   "cell_type": "code",
   "execution_count": 49,
   "id": "f66d68e8",
   "metadata": {},
   "outputs": [
    {
     "data": {
      "text/html": [
       "<div>\n",
       "<style scoped>\n",
       "    .dataframe tbody tr th:only-of-type {\n",
       "        vertical-align: middle;\n",
       "    }\n",
       "\n",
       "    .dataframe tbody tr th {\n",
       "        vertical-align: top;\n",
       "    }\n",
       "\n",
       "    .dataframe thead th {\n",
       "        text-align: right;\n",
       "    }\n",
       "</style>\n",
       "<table border=\"1\" class=\"dataframe\">\n",
       "  <thead>\n",
       "    <tr style=\"text-align: right;\">\n",
       "      <th></th>\n",
       "      <th>id</th>\n",
       "      <th>name</th>\n",
       "      <th>artists</th>\n",
       "      <th>popularity</th>\n",
       "      <th>acousticness</th>\n",
       "      <th>speechiness</th>\n",
       "      <th>key</th>\n",
       "      <th>liveness</th>\n",
       "      <th>instrumentalness</th>\n",
       "      <th>energy</th>\n",
       "      <th>tempo</th>\n",
       "      <th>loudness</th>\n",
       "      <th>danceability</th>\n",
       "      <th>valence</th>\n",
       "    </tr>\n",
       "  </thead>\n",
       "  <tbody>\n",
       "    <tr>\n",
       "      <th>0</th>\n",
       "      <td>73EQPKdoo72AxZXJ7Xhiq1</td>\n",
       "      <td>虹の彼方に</td>\n",
       "      <td>ReoNa</td>\n",
       "      <td>52</td>\n",
       "      <td>0.94500</td>\n",
       "      <td>0.0283</td>\n",
       "      <td>5</td>\n",
       "      <td>0.1240</td>\n",
       "      <td>0.000016</td>\n",
       "      <td>0.214</td>\n",
       "      <td>97.301</td>\n",
       "      <td>-9.397</td>\n",
       "      <td>0.605</td>\n",
       "      <td>0.391</td>\n",
       "    </tr>\n",
       "    <tr>\n",
       "      <th>1</th>\n",
       "      <td>4D6aGrA0NCTxXQMgOcAX3P</td>\n",
       "      <td>Alive</td>\n",
       "      <td>ReoNa</td>\n",
       "      <td>39</td>\n",
       "      <td>0.00172</td>\n",
       "      <td>0.0527</td>\n",
       "      <td>0</td>\n",
       "      <td>0.1230</td>\n",
       "      <td>0.000000</td>\n",
       "      <td>0.744</td>\n",
       "      <td>150.400</td>\n",
       "      <td>-5.505</td>\n",
       "      <td>0.361</td>\n",
       "      <td>0.264</td>\n",
       "    </tr>\n",
       "    <tr>\n",
       "      <th>2</th>\n",
       "      <td>1f6wH1mWgPfxoSfWWlmh0K</td>\n",
       "      <td>シャル・ウィ・ダンス?</td>\n",
       "      <td>ReoNa</td>\n",
       "      <td>41</td>\n",
       "      <td>0.05120</td>\n",
       "      <td>0.0474</td>\n",
       "      <td>5</td>\n",
       "      <td>0.0542</td>\n",
       "      <td>0.000000</td>\n",
       "      <td>0.815</td>\n",
       "      <td>116.986</td>\n",
       "      <td>-5.100</td>\n",
       "      <td>0.614</td>\n",
       "      <td>0.671</td>\n",
       "    </tr>\n",
       "    <tr>\n",
       "      <th>3</th>\n",
       "      <td>2fgAVfnav5XAEwKi19PVxC</td>\n",
       "      <td>生命線</td>\n",
       "      <td>ReoNa</td>\n",
       "      <td>44</td>\n",
       "      <td>0.07770</td>\n",
       "      <td>0.0551</td>\n",
       "      <td>4</td>\n",
       "      <td>0.1040</td>\n",
       "      <td>0.000000</td>\n",
       "      <td>0.672</td>\n",
       "      <td>170.042</td>\n",
       "      <td>-6.158</td>\n",
       "      <td>0.440</td>\n",
       "      <td>0.494</td>\n",
       "    </tr>\n",
       "    <tr>\n",
       "      <th>4</th>\n",
       "      <td>3GsiCUipvdSCOSNVcHkJYl</td>\n",
       "      <td>ないない</td>\n",
       "      <td>ReoNa</td>\n",
       "      <td>45</td>\n",
       "      <td>0.01390</td>\n",
       "      <td>0.0432</td>\n",
       "      <td>5</td>\n",
       "      <td>0.0813</td>\n",
       "      <td>0.000000</td>\n",
       "      <td>0.772</td>\n",
       "      <td>130.014</td>\n",
       "      <td>-4.689</td>\n",
       "      <td>0.624</td>\n",
       "      <td>0.819</td>\n",
       "    </tr>\n",
       "  </tbody>\n",
       "</table>\n",
       "</div>"
      ],
      "text/plain": [
       "                       id         name artists  popularity  acousticness  \\\n",
       "0  73EQPKdoo72AxZXJ7Xhiq1        虹の彼方に   ReoNa          52       0.94500   \n",
       "1  4D6aGrA0NCTxXQMgOcAX3P        Alive   ReoNa          39       0.00172   \n",
       "2  1f6wH1mWgPfxoSfWWlmh0K  シャル・ウィ・ダンス?   ReoNa          41       0.05120   \n",
       "3  2fgAVfnav5XAEwKi19PVxC          生命線   ReoNa          44       0.07770   \n",
       "4  3GsiCUipvdSCOSNVcHkJYl         ないない   ReoNa          45       0.01390   \n",
       "\n",
       "   speechiness key  liveness  instrumentalness  energy    tempo  loudness  \\\n",
       "0       0.0283   5    0.1240          0.000016   0.214   97.301    -9.397   \n",
       "1       0.0527   0    0.1230          0.000000   0.744  150.400    -5.505   \n",
       "2       0.0474   5    0.0542          0.000000   0.815  116.986    -5.100   \n",
       "3       0.0551   4    0.1040          0.000000   0.672  170.042    -6.158   \n",
       "4       0.0432   5    0.0813          0.000000   0.772  130.014    -4.689   \n",
       "\n",
       "   danceability  valence  \n",
       "0         0.605    0.391  \n",
       "1         0.361    0.264  \n",
       "2         0.614    0.671  \n",
       "3         0.440    0.494  \n",
       "4         0.624    0.819  "
      ]
     },
     "execution_count": 49,
     "metadata": {},
     "output_type": "execute_result"
    }
   ],
   "source": [
    "df_tracks.head()"
   ]
  },
  {
   "cell_type": "code",
   "execution_count": 50,
   "id": "c0ebb435",
   "metadata": {},
   "outputs": [
    {
     "data": {
      "text/html": [
       "<div>\n",
       "<style scoped>\n",
       "    .dataframe tbody tr th:only-of-type {\n",
       "        vertical-align: middle;\n",
       "    }\n",
       "\n",
       "    .dataframe tbody tr th {\n",
       "        vertical-align: top;\n",
       "    }\n",
       "\n",
       "    .dataframe thead th {\n",
       "        text-align: right;\n",
       "    }\n",
       "</style>\n",
       "<table border=\"1\" class=\"dataframe\">\n",
       "  <thead>\n",
       "    <tr style=\"text-align: right;\">\n",
       "      <th></th>\n",
       "      <th>id</th>\n",
       "      <th>name</th>\n",
       "      <th>artists</th>\n",
       "      <th>popularity</th>\n",
       "      <th>acousticness</th>\n",
       "      <th>speechiness</th>\n",
       "      <th>key</th>\n",
       "      <th>liveness</th>\n",
       "      <th>instrumentalness</th>\n",
       "      <th>energy</th>\n",
       "      <th>tempo</th>\n",
       "      <th>loudness</th>\n",
       "      <th>danceability</th>\n",
       "      <th>valence</th>\n",
       "    </tr>\n",
       "  </thead>\n",
       "  <tbody>\n",
       "    <tr>\n",
       "      <th>0</th>\n",
       "      <td>73EQPKdoo72AxZXJ7Xhiq1</td>\n",
       "      <td>虹の彼方に</td>\n",
       "      <td>ReoNa</td>\n",
       "      <td>52</td>\n",
       "      <td>0.945</td>\n",
       "      <td>0.0283</td>\n",
       "      <td>5</td>\n",
       "      <td>0.124</td>\n",
       "      <td>0.000016</td>\n",
       "      <td>0.214</td>\n",
       "      <td>97.301</td>\n",
       "      <td>-9.397</td>\n",
       "      <td>0.605</td>\n",
       "      <td>0.391</td>\n",
       "    </tr>\n",
       "  </tbody>\n",
       "</table>\n",
       "</div>"
      ],
      "text/plain": [
       "                       id   name artists  popularity  acousticness  \\\n",
       "0  73EQPKdoo72AxZXJ7Xhiq1  虹の彼方に   ReoNa          52         0.945   \n",
       "\n",
       "   speechiness key  liveness  instrumentalness  energy   tempo  loudness  \\\n",
       "0       0.0283   5     0.124          0.000016   0.214  97.301    -9.397   \n",
       "\n",
       "   danceability  valence  \n",
       "0         0.605    0.391  "
      ]
     },
     "execution_count": 50,
     "metadata": {},
     "output_type": "execute_result"
    }
   ],
   "source": [
    "# Selecionamos uma música randomicamente\n",
    "musica_randomica = random.randint(0, len(df_tracks) - 1)\n",
    "df_musica_randomica = df_tracks.head(musica_randomica)[-1:]\n",
    "df_musica_randomica"
   ]
  },
  {
   "cell_type": "code",
   "execution_count": 51,
   "id": "f465e810",
   "metadata": {},
   "outputs": [
    {
     "name": "stdout",
     "output_type": "stream",
     "text": [
      "+--------+--------------------+--------------------+----------+-----------+--------------------+--------------------+------------+------------+------+---+--------+----+-----------+------------+----------------+--------+-------+-------+--------------+--------------------+\n",
      "|order_id|                  id|                name|popularity|duration_ms|             artists|          id_artists|release_date|danceability|energy|key|loudness|mode|speechiness|acousticness|instrumentalness|liveness|valence|  tempo|time_signature|           timestamp|\n",
      "+--------+--------------------+--------------------+----------+-----------+--------------------+--------------------+------------+------------+------+---+--------+----+-----------+------------+----------------+--------+-------+-------+--------------+--------------------+\n",
      "|      64|2UmBKKBkxqw80NEPK...|Field Test - Wayside|         0|   180571.0|       TerrellMorris|CagcqFXnteDagiWhaZdU|  2018-07-18|       0.766| 0.344|  2| -10.951|   1|      0.189|       0.375|         3.37E-5|  0.0755|  0.522|105.009|           4.0|2023-04-17 16:38:...|\n",
      "|      65|3SmYK0ZLkvxmRIvDV...|             Coconut|        21|   182089.0|           JamesKaye|  doOopdJwYnzLouOjJG|  2018-07-27|       0.502| 0.529|  7|  -8.311|   1|      0.233|       0.614|             0.0|   0.937|  0.354| 81.184|           4.0|2023-04-17 16:38:...|\n",
      "|      66|2TNSepy0fs13kXyTI...|                Heat|        14|   220000.0|     StevenAlexander|    DRgmFoBjljUXXfdP|  2018-07-20|       0.647| 0.486|  9| -11.757|   0|     0.0427|       0.126|         0.00111|  0.0777|  0.772| 83.981|           4.0|2023-04-17 16:38:...|\n",
      "|      67|2jjuzjDbmVOI7kNCS...|Dance in the Livi...|        52|   244539.0|NVTHVNForrestPark...|BqGcPMYKUBDhzahfq...|  2018-07-25|       0.758| 0.684|  6|  -5.037|   0|      0.085|      0.0953|         2.11E-6|   0.149|   0.73|109.953|           4.0|2023-04-17 16:38:...|\n",
      "|      68|6lgfJ2cdjMYT7RYtS...|             Corners|         6|   298432.0|      HarveyTrisdale|  MFKiCQWiNBhPTHHVdK|  2018-07-20|       0.539| 0.699|  7|  -6.173|   1|     0.0395|      0.0191|         5.92E-4|   0.122|  0.547| 115.06|           4.0|2023-04-17 16:38:...|\n",
      "+--------+--------------------+--------------------+----------+-----------+--------------------+--------------------+------------+------------+------+---+--------+----+-----------+------------+----------------+--------+-------+-------+--------------+--------------------+\n",
      "only showing top 5 rows\n",
      "\n"
     ]
    }
   ],
   "source": [
    "# Músicas do streaming do Spark\n",
    "spark_songs.show(5)"
   ]
  },
  {
   "cell_type": "code",
   "execution_count": 52,
   "id": "92e78970",
   "metadata": {},
   "outputs": [],
   "source": [
    "# Não precisamos mais dessas colunas\n",
    "spark_songs = spark_songs.drop('order_id',\n",
    "                              'mode',\n",
    "                              'release_date',\n",
    "                              'id_artists',\n",
    "                              'time_signature',\n",
    "                              'duration_ms',\n",
    "                              'timestamp')"
   ]
  },
  {
   "cell_type": "code",
   "execution_count": 53,
   "id": "19c06a91",
   "metadata": {},
   "outputs": [
    {
     "name": "stderr",
     "output_type": "stream",
     "text": [
      "E:\\spark-3.3.2-bin-hadoop3\\python\\pyspark\\sql\\pandas\\conversion.py:474: FutureWarning: iteritems is deprecated and will be removed in a future version. Use .items instead.\n",
      "  for column, series in pdf.iteritems():\n",
      "E:\\spark-3.3.2-bin-hadoop3\\python\\pyspark\\sql\\pandas\\conversion.py:486: FutureWarning: iteritems is deprecated and will be removed in a future version. Use .items instead.\n",
      "  for column, series in pdf.iteritems():\n"
     ]
    }
   ],
   "source": [
    "# Cria o dataframe com a música escolhida randomicamente\n",
    "df_sp = spark.createDataFrame(df_musica_randomica)"
   ]
  },
  {
   "cell_type": "code",
   "execution_count": 54,
   "id": "3c9056c8",
   "metadata": {},
   "outputs": [],
   "source": [
    "# Concatena músicas do streaming do Spark com a música do Spotify\n",
    "df = spark_songs.union(df_sp)"
   ]
  },
  {
   "cell_type": "code",
   "execution_count": 55,
   "id": "5a6954c6",
   "metadata": {},
   "outputs": [
    {
     "name": "stdout",
     "output_type": "stream",
     "text": [
      "+--------------------+--------------------+----------+--------------------+------------+------+---+--------+-----------+------------+----------------+--------+-------+-------+\n",
      "|                  id|                name|popularity|             artists|danceability|energy|key|loudness|speechiness|acousticness|instrumentalness|liveness|valence|  tempo|\n",
      "+--------------------+--------------------+----------+--------------------+------------+------+---+--------+-----------+------------+----------------+--------+-------+-------+\n",
      "|2UmBKKBkxqw80NEPK...|Field Test - Wayside|         0|       TerrellMorris|       0.766| 0.344|  2| -10.951|      0.189|       0.375|         3.37E-5|  0.0755|  0.522|105.009|\n",
      "|3SmYK0ZLkvxmRIvDV...|             Coconut|        21|           JamesKaye|       0.502| 0.529|  7|  -8.311|      0.233|       0.614|             0.0|   0.937|  0.354| 81.184|\n",
      "|2TNSepy0fs13kXyTI...|                Heat|        14|     StevenAlexander|       0.647| 0.486|  9| -11.757|     0.0427|       0.126|         0.00111|  0.0777|  0.772| 83.981|\n",
      "|2jjuzjDbmVOI7kNCS...|Dance in the Livi...|        52|NVTHVNForrestPark...|       0.758| 0.684|  6|  -5.037|      0.085|      0.0953|         2.11E-6|   0.149|   0.73|109.953|\n",
      "|6lgfJ2cdjMYT7RYtS...|             Corners|         6|      HarveyTrisdale|       0.539| 0.699|  7|  -6.173|     0.0395|      0.0191|         5.92E-4|   0.122|  0.547| 115.06|\n",
      "+--------------------+--------------------+----------+--------------------+------------+------+---+--------+-----------+------------+----------------+--------+-------+-------+\n",
      "only showing top 5 rows\n",
      "\n"
     ]
    }
   ],
   "source": [
    "df.show(5)"
   ]
  },
  {
   "cell_type": "markdown",
   "id": "84e6742a",
   "metadata": {},
   "source": [
    "## Pré-Processamento dos Dados"
   ]
  },
  {
   "cell_type": "code",
   "execution_count": 56,
   "id": "e1a0d09f",
   "metadata": {},
   "outputs": [],
   "source": [
    "# Preparamos o VectorAssembler\n",
    "vetor = VectorAssembler(inputCols= ['danceability',\n",
    "                                   'energy',\n",
    "                                   'loudness',\n",
    "                                   'speechiness',\n",
    "                                   'acousticness',\n",
    "                                   'instrumentalness',\n",
    "                                   'liveness',\n",
    "                                   'valence',\n",
    "                                   'tempo'],\n",
    "                       outputCol= 'song_features')"
   ]
  },
  {
   "cell_type": "code",
   "execution_count": 57,
   "id": "fd66409b",
   "metadata": {},
   "outputs": [],
   "source": [
    "# Descartamos valores inválidos\n",
    "assembled = vetor.setHandleInvalid(\"skip\").transform(df)"
   ]
  },
  {
   "cell_type": "code",
   "execution_count": 58,
   "id": "2c98c332",
   "metadata": {},
   "outputs": [],
   "source": [
    "# Preparamos o padronizador \n",
    "std = StandardScaler(inputCol='song_features', outputCol='standardized')"
   ]
  },
  {
   "cell_type": "code",
   "execution_count": 59,
   "id": "f52fd485",
   "metadata": {},
   "outputs": [],
   "source": [
    "# Treinamos o padronizador\n",
    "scale = std.fit(assembled)"
   ]
  },
  {
   "cell_type": "code",
   "execution_count": 60,
   "id": "2390e443",
   "metadata": {},
   "outputs": [],
   "source": [
    "# Dataframe com dados padronizados\n",
    "df = scale.transform(assembled)"
   ]
  },
  {
   "cell_type": "code",
   "execution_count": 61,
   "id": "6c8fd213",
   "metadata": {},
   "outputs": [
    {
     "name": "stdout",
     "output_type": "stream",
     "text": [
      "+--------------------+--------------------+----------+--------------------+------------+------+---+--------+-----------+------------+----------------+--------+-------+-------+--------------------+--------------------+\n",
      "|                  id|                name|popularity|             artists|danceability|energy|key|loudness|speechiness|acousticness|instrumentalness|liveness|valence|  tempo|       song_features|        standardized|\n",
      "+--------------------+--------------------+----------+--------------------+------------+------+---+--------+-----------+------------+----------------+--------+-------+-------+--------------------+--------------------+\n",
      "|2UmBKKBkxqw80NEPK...|Field Test - Wayside|         0|       TerrellMorris|       0.766| 0.344|  2| -10.951|      0.189|       0.375|         3.37E-5|  0.0755|  0.522|105.009|[0.766,0.344,-10....|[4.71356805097892...|\n",
      "|3SmYK0ZLkvxmRIvDV...|             Coconut|        21|           JamesKaye|       0.502| 0.529|  7|  -8.311|      0.233|       0.614|             0.0|   0.937|  0.354| 81.184|[0.502,0.529,-8.3...|[3.08904851382691...|\n",
      "|2TNSepy0fs13kXyTI...|                Heat|        14|     StevenAlexander|       0.647| 0.486|  9| -11.757|     0.0427|       0.126|         0.00111|  0.0777|  0.772| 83.981|[0.647,0.486,-11....|[3.98130356264146...|\n",
      "|2jjuzjDbmVOI7kNCS...|Dance in the Livi...|        52|NVTHVNForrestPark...|       0.758| 0.684|  6|  -5.037|      0.085|      0.0953|         2.11E-6|   0.149|   0.73|109.953|[0.758,0.684,-5.0...|[4.66434018621673...|\n",
      "|6lgfJ2cdjMYT7RYtS...|             Corners|         6|      HarveyTrisdale|       0.539| 0.699|  7|  -6.173|     0.0395|      0.0191|         5.92E-4|   0.122|  0.547| 115.06|[0.539,0.699,-6.1...|[3.31672738835200...|\n",
      "+--------------------+--------------------+----------+--------------------+------------+------+---+--------+-----------+------------+----------------+--------+-------+-------+--------------------+--------------------+\n",
      "only showing top 5 rows\n",
      "\n"
     ]
    }
   ],
   "source": [
    "df.show(5)"
   ]
  },
  {
   "cell_type": "markdown",
   "id": "48370152",
   "metadata": {},
   "source": [
    "## Machine Learning com Aprendizado Não Supervisionado"
   ]
  },
  {
   "cell_type": "code",
   "execution_count": 62,
   "id": "0015c5e5",
   "metadata": {},
   "outputs": [],
   "source": [
    "# Cria o objeto do modelo\n",
    "objeto_KMeans = KMeans(featuresCol='standardized', k = 3)"
   ]
  },
  {
   "cell_type": "code",
   "execution_count": 63,
   "id": "b001740e",
   "metadata": {},
   "outputs": [],
   "source": [
    "# Treina o modelo\n",
    "modelo_KMeans = objeto_KMeans.fit(df)"
   ]
  },
  {
   "cell_type": "code",
   "execution_count": 64,
   "id": "d0cf574f",
   "metadata": {},
   "outputs": [],
   "source": [
    "# Previsões do modelo\n",
    "df_output = modelo_KMeans.transform(df)"
   ]
  },
  {
   "cell_type": "markdown",
   "id": "20ef7db9",
   "metadata": {},
   "source": [
    "## Sistema de Recomendação"
   ]
  },
  {
   "cell_type": "code",
   "execution_count": 65,
   "id": "8c0bd9f0",
   "metadata": {},
   "outputs": [],
   "source": [
    "# Classe\n",
    "class RecoSystem():\n",
    "    \n",
    "    # Método construtor\n",
    "    def __init__(self, data):\n",
    "        self.data_ = data\n",
    "        \n",
    "    # Mètodo de recomendação\n",
    "    def Recom(self, nome_musica, amount = 1):\n",
    "        \n",
    "        # Lista para as distâncias\n",
    "        distancias = []\n",
    "        \n",
    "        # Seleciona a música\n",
    "        song = self.data_[(self.data_.name.str.lower() == nome_musica.lower())].head(1).values[0]\n",
    "        res_dt = self.data_[self.data_.name.str.lower() != nome_musica.lower()]\n",
    "        \n",
    "        # Loop para cálculo das distâncias\n",
    "        for i_song in tqdm(res_dt.values):\n",
    "            \n",
    "            # Inicializa a distância\n",
    "            distancia = 0\n",
    "            \n",
    "            # Loop para calcular a distância\n",
    "            for col in np.arange(len(res_dt.columns)):\n",
    "                if not col in [0, 1, 2, 14]:\n",
    "                    distancia = distancia + np.absolute(float(song[col]) - float(i_song[col]))\n",
    "                    \n",
    "            # Adiciona na lista de distâncias\n",
    "            distancias.append(distancia)\n",
    "            \n",
    "        res_dt['distance'] = distancias\n",
    "        res_dt = res_dt.sort_values('distance')\n",
    "        \n",
    "        columns = ['id', 'name',\n",
    "                  'artists',\n",
    "                  'acousticness',\n",
    "                  'liveness',\n",
    "                  'instrumentalness',\n",
    "                  'energy',\n",
    "                  'danceability',\n",
    "                  'valence']\n",
    "        \n",
    "        return res_dt[columns][:amount]"
   ]
  },
  {
   "cell_type": "code",
   "execution_count": 66,
   "id": "907fd301",
   "metadata": {},
   "outputs": [],
   "source": [
    "# Nomes das colunas\n",
    "datalabel = df_output.select('id',\n",
    "                             'name',\n",
    "                             'artists',\n",
    "                             'danceability',\n",
    "                             'energy',\n",
    "                             'key',\n",
    "                             'loudness',\n",
    "                             'speechiness',\n",
    "                             'acousticness',\n",
    "                             'instrumentalness',\n",
    "                             'liveness',\n",
    "                             'valence',\n",
    "                             'tempo',\n",
    "                             'prediction')"
   ]
  },
  {
   "cell_type": "code",
   "execution_count": 67,
   "id": "8b971f2d",
   "metadata": {},
   "outputs": [],
   "source": [
    "# Dataset final\n",
    "df_final = datalabel.toPandas()\n",
    "df_final.drop(df_final[df_final['artists'] == 0].index, inplace=True)\n",
    "df_final.drop_duplicates(inplace=True)\n",
    "df_final.drop(df_final[df_final['danceability'] == 0.000].index, inplace=True)\n",
    "df_final.drop(df_final[df_final['liveness'] == 0.000].index, inplace=True)\n",
    "df_final.drop(df_final[df_final['instrumentalness'] == 0.000000].index, inplace=True)\n",
    "df_final.drop(df_final[df_final['energy'] == 0.0000].index, inplace=True)\n",
    "df_final.drop(df_final[df_final['danceability'] == 0.000].index, inplace=True)\n",
    "df_final.drop(df_final[df_final['valence'] == 0.000].index, inplace=True)"
   ]
  },
  {
   "cell_type": "code",
   "execution_count": 68,
   "id": "a17864a7",
   "metadata": {},
   "outputs": [
    {
     "data": {
      "text/plain": [
       "(237, 14)"
      ]
     },
     "execution_count": 68,
     "metadata": {},
     "output_type": "execute_result"
    }
   ],
   "source": [
    "df_final.shape"
   ]
  },
  {
   "cell_type": "code",
   "execution_count": 69,
   "id": "e019ebef",
   "metadata": {},
   "outputs": [
    {
     "data": {
      "text/html": [
       "<div>\n",
       "<style scoped>\n",
       "    .dataframe tbody tr th:only-of-type {\n",
       "        vertical-align: middle;\n",
       "    }\n",
       "\n",
       "    .dataframe tbody tr th {\n",
       "        vertical-align: top;\n",
       "    }\n",
       "\n",
       "    .dataframe thead th {\n",
       "        text-align: right;\n",
       "    }\n",
       "</style>\n",
       "<table border=\"1\" class=\"dataframe\">\n",
       "  <thead>\n",
       "    <tr style=\"text-align: right;\">\n",
       "      <th></th>\n",
       "      <th>id</th>\n",
       "      <th>name</th>\n",
       "      <th>artists</th>\n",
       "      <th>danceability</th>\n",
       "      <th>energy</th>\n",
       "      <th>key</th>\n",
       "      <th>loudness</th>\n",
       "      <th>speechiness</th>\n",
       "      <th>acousticness</th>\n",
       "      <th>instrumentalness</th>\n",
       "      <th>liveness</th>\n",
       "      <th>valence</th>\n",
       "      <th>tempo</th>\n",
       "      <th>prediction</th>\n",
       "    </tr>\n",
       "  </thead>\n",
       "  <tbody>\n",
       "    <tr>\n",
       "      <th>168</th>\n",
       "      <td>35dXkqJ55L0Pz2s1mQrCZ0</td>\n",
       "      <td>Odyssey</td>\n",
       "      <td>POLYPOLY</td>\n",
       "      <td>0.705</td>\n",
       "      <td>0.351</td>\n",
       "      <td>9</td>\n",
       "      <td>-9.551</td>\n",
       "      <td>0.2910</td>\n",
       "      <td>0.62500</td>\n",
       "      <td>0.83600</td>\n",
       "      <td>0.0938</td>\n",
       "      <td>0.4170</td>\n",
       "      <td>99.991</td>\n",
       "      <td>2</td>\n",
       "    </tr>\n",
       "    <tr>\n",
       "      <th>15</th>\n",
       "      <td>07ZIVNs0d8TQqoVfWKu6dn</td>\n",
       "      <td>January's End</td>\n",
       "      <td>NigilCaenaan</td>\n",
       "      <td>0.786</td>\n",
       "      <td>0.855</td>\n",
       "      <td>1</td>\n",
       "      <td>-7.625</td>\n",
       "      <td>0.0596</td>\n",
       "      <td>0.00633</td>\n",
       "      <td>0.88300</td>\n",
       "      <td>0.1110</td>\n",
       "      <td>0.0373</td>\n",
       "      <td>134.006</td>\n",
       "      <td>1</td>\n",
       "    </tr>\n",
       "    <tr>\n",
       "      <th>83</th>\n",
       "      <td>3YKQqS7xr8DcXggBwv4I5P</td>\n",
       "      <td>Meltaway</td>\n",
       "      <td>Zhao</td>\n",
       "      <td>0.802</td>\n",
       "      <td>0.343</td>\n",
       "      <td>5</td>\n",
       "      <td>-11.150</td>\n",
       "      <td>0.0512</td>\n",
       "      <td>0.26900</td>\n",
       "      <td>0.01870</td>\n",
       "      <td>0.0723</td>\n",
       "      <td>0.4380</td>\n",
       "      <td>115.998</td>\n",
       "      <td>0</td>\n",
       "    </tr>\n",
       "    <tr>\n",
       "      <th>117</th>\n",
       "      <td>7HP1L9c77IUgyYbK8ubIny</td>\n",
       "      <td>Pipe Dreams</td>\n",
       "      <td>RegularSpread</td>\n",
       "      <td>0.446</td>\n",
       "      <td>0.557</td>\n",
       "      <td>4</td>\n",
       "      <td>-6.517</td>\n",
       "      <td>0.0381</td>\n",
       "      <td>0.62800</td>\n",
       "      <td>0.00982</td>\n",
       "      <td>0.5140</td>\n",
       "      <td>0.3230</td>\n",
       "      <td>174.084</td>\n",
       "      <td>1</td>\n",
       "    </tr>\n",
       "    <tr>\n",
       "      <th>269</th>\n",
       "      <td>1X3GHmCJQ9v53Ll6CLuUZJ</td>\n",
       "      <td>Sexy</td>\n",
       "      <td>Jilly</td>\n",
       "      <td>0.719</td>\n",
       "      <td>0.737</td>\n",
       "      <td>0</td>\n",
       "      <td>-6.631</td>\n",
       "      <td>0.0873</td>\n",
       "      <td>0.24000</td>\n",
       "      <td>0.00128</td>\n",
       "      <td>0.1610</td>\n",
       "      <td>0.7890</td>\n",
       "      <td>159.068</td>\n",
       "      <td>1</td>\n",
       "    </tr>\n",
       "  </tbody>\n",
       "</table>\n",
       "</div>"
      ],
      "text/plain": [
       "                         id           name        artists  danceability  \\\n",
       "168  35dXkqJ55L0Pz2s1mQrCZ0        Odyssey       POLYPOLY         0.705   \n",
       "15   07ZIVNs0d8TQqoVfWKu6dn  January's End   NigilCaenaan         0.786   \n",
       "83   3YKQqS7xr8DcXggBwv4I5P       Meltaway           Zhao         0.802   \n",
       "117  7HP1L9c77IUgyYbK8ubIny    Pipe Dreams  RegularSpread         0.446   \n",
       "269  1X3GHmCJQ9v53Ll6CLuUZJ           Sexy          Jilly         0.719   \n",
       "\n",
       "     energy key  loudness  speechiness  acousticness  instrumentalness  \\\n",
       "168   0.351   9    -9.551       0.2910       0.62500           0.83600   \n",
       "15    0.855   1    -7.625       0.0596       0.00633           0.88300   \n",
       "83    0.343   5   -11.150       0.0512       0.26900           0.01870   \n",
       "117   0.557   4    -6.517       0.0381       0.62800           0.00982   \n",
       "269   0.737   0    -6.631       0.0873       0.24000           0.00128   \n",
       "\n",
       "     liveness  valence    tempo  prediction  \n",
       "168    0.0938   0.4170   99.991           2  \n",
       "15     0.1110   0.0373  134.006           1  \n",
       "83     0.0723   0.4380  115.998           0  \n",
       "117    0.5140   0.3230  174.084           1  \n",
       "269    0.1610   0.7890  159.068           1  "
      ]
     },
     "execution_count": 69,
     "metadata": {},
     "output_type": "execute_result"
    }
   ],
   "source": [
    "df_final.sample(5)"
   ]
  },
  {
   "cell_type": "code",
   "execution_count": 70,
   "id": "a9e46234",
   "metadata": {},
   "outputs": [],
   "source": [
    "# Cria o objeto\n",
    "reco_obj = RecoSystem(df_final)"
   ]
  },
  {
   "cell_type": "code",
   "execution_count": 71,
   "id": "da2b4030",
   "metadata": {},
   "outputs": [],
   "source": [
    "musica = df_musica_randomica['name'].tolist()[0]"
   ]
  },
  {
   "cell_type": "code",
   "execution_count": 72,
   "id": "9d407636",
   "metadata": {},
   "outputs": [
    {
     "name": "stdout",
     "output_type": "stream",
     "text": [
      "虹の彼方に\n"
     ]
    }
   ],
   "source": [
    "print(musica)"
   ]
  },
  {
   "cell_type": "code",
   "execution_count": 73,
   "id": "ce5aa52b",
   "metadata": {},
   "outputs": [
    {
     "name": "stderr",
     "output_type": "stream",
     "text": [
      "100%|█████████████████████████████████████████████████████████████████████████████| 236/236 [00:00<00:00, 33706.40it/s]\n",
      "C:\\Users\\andrew\\AppData\\Local\\Temp\\ipykernel_28536\\105898628.py:32: SettingWithCopyWarning: \n",
      "A value is trying to be set on a copy of a slice from a DataFrame.\n",
      "Try using .loc[row_indexer,col_indexer] = value instead\n",
      "\n",
      "See the caveats in the documentation: https://pandas.pydata.org/pandas-docs/stable/user_guide/indexing.html#returning-a-view-versus-a-copy\n",
      "  res_dt['distance'] = distancias\n"
     ]
    }
   ],
   "source": [
    "# Execura a recomendação\n",
    "recomendacao = reco_obj.Recom(musica)"
   ]
  },
  {
   "cell_type": "code",
   "execution_count": 74,
   "id": "0495e91e",
   "metadata": {},
   "outputs": [],
   "source": [
    "# Extrai a música randômica da lista de favoritos do Spotify\n",
    "y = df_musica_randomica[['id','name', \n",
    "                         'artists',  \n",
    "                         'acousticness', \n",
    "                         'liveness', \n",
    "                         'instrumentalness', \n",
    "                         'energy', \n",
    "                         'danceability', \n",
    "                         'valence']]"
   ]
  },
  {
   "cell_type": "code",
   "execution_count": 75,
   "id": "624ae0e5",
   "metadata": {},
   "outputs": [],
   "source": [
    "# Concatena a recomendação com a música randômica da lista de favoritos do Spotify\n",
    "recomendacao = pd.concat([recomendacao, y])"
   ]
  },
  {
   "cell_type": "code",
   "execution_count": 76,
   "id": "9ec202f1",
   "metadata": {},
   "outputs": [],
   "source": [
    "# Salva a recomendação em disco\n",
    "recomendacao.to_csv('recomendacoes/recomendacao.csv')"
   ]
  },
  {
   "cell_type": "code",
   "execution_count": 77,
   "id": "eb18b6bd",
   "metadata": {},
   "outputs": [],
   "source": [
    "# Carrega o arquivo do diso\n",
    "df_reco = (spark.read.format('csv').options(header = \"true\").load(\"recomendacoes/recomendacao.csv\"))"
   ]
  },
  {
   "cell_type": "code",
   "execution_count": 78,
   "id": "3521c8b6",
   "metadata": {},
   "outputs": [
    {
     "name": "stdout",
     "output_type": "stream",
     "text": [
      "+---+--------------------+--------------+--------+------------+--------+----------------+------+------------+-------+\n",
      "|_c0|                  id|          name| artists|acousticness|liveness|instrumentalness|energy|danceability|valence|\n",
      "+---+--------------------+--------------+--------+------------+--------+----------------+------+------------+-------+\n",
      "|271|6q44hsVA6PwiK9dB5...|Circle of Life|LunarRAE|      0.0168|   0.166|        0.000178| 0.668|        0.56|  0.553|\n",
      "|  0|73EQPKdoo72AxZXJ7...|    虹の彼方に|   ReoNa|       0.945|   0.124|        1.62e-05| 0.214|       0.605|  0.391|\n",
      "+---+--------------------+--------------+--------+------------+--------+----------------+------+------------+-------+\n",
      "\n"
     ]
    }
   ],
   "source": [
    "# Recomendação de música\n",
    "df_reco.show()"
   ]
  },
  {
   "cell_type": "markdown",
   "id": "894f19e0",
   "metadata": {},
   "source": [
    "# Fim"
   ]
  }
 ],
 "metadata": {
  "kernelspec": {
   "display_name": "Python 3 (ipykernel)",
   "language": "python",
   "name": "python3"
  },
  "language_info": {
   "codemirror_mode": {
    "name": "ipython",
    "version": 3
   },
   "file_extension": ".py",
   "mimetype": "text/x-python",
   "name": "python",
   "nbconvert_exporter": "python",
   "pygments_lexer": "ipython3",
   "version": "3.9.13"
  }
 },
 "nbformat": 4,
 "nbformat_minor": 5
}
