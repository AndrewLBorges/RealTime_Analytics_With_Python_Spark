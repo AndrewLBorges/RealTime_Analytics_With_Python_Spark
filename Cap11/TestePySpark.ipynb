{
 "cells": [
  {
   "cell_type": "markdown",
   "id": "de33ac37",
   "metadata": {},
   "source": [
    "## Testando a Instalação do PySpark"
   ]
  },
  {
   "cell_type": "code",
   "execution_count": null,
   "id": "07ba96af",
   "metadata": {},
   "outputs": [],
   "source": [
    "!pip install findspark"
   ]
  },
  {
   "cell_type": "code",
   "execution_count": 1,
   "id": "9b36c542",
   "metadata": {},
   "outputs": [],
   "source": [
    "import findspark\n",
    "findspark.init()"
   ]
  },
  {
   "cell_type": "code",
   "execution_count": 2,
   "id": "f51ce479",
   "metadata": {},
   "outputs": [],
   "source": [
    "import pyspark\n",
    "import random"
   ]
  },
  {
   "cell_type": "code",
   "execution_count": 3,
   "id": "ae345393",
   "metadata": {},
   "outputs": [],
   "source": [
    "sc = pyspark.SparkContext(appName = 'TestePySpark')"
   ]
  },
  {
   "cell_type": "code",
   "execution_count": 4,
   "id": "48718aae",
   "metadata": {},
   "outputs": [],
   "source": [
    "sc.setLogLevel(\"INFO\")"
   ]
  },
  {
   "cell_type": "code",
   "execution_count": 5,
   "id": "7fbf19ee",
   "metadata": {},
   "outputs": [
    {
     "data": {
      "text/html": [
       "\n",
       "        <div>\n",
       "            <p><b>SparkContext</b></p>\n",
       "\n",
       "            <p><a href=\"http://localhost:4040\">Spark UI</a></p>\n",
       "\n",
       "            <dl>\n",
       "              <dt>Version</dt>\n",
       "                <dd><code>v3.3.2</code></dd>\n",
       "              <dt>Master</dt>\n",
       "                <dd><code>local[*]</code></dd>\n",
       "              <dt>AppName</dt>\n",
       "                <dd><code>TestePySpark</code></dd>\n",
       "            </dl>\n",
       "        </div>\n",
       "        "
      ],
      "text/plain": [
       "<SparkContext master=local[*] appName=TestePySpark>"
      ]
     },
     "execution_count": 5,
     "metadata": {},
     "output_type": "execute_result"
    }
   ],
   "source": [
    "sc"
   ]
  },
  {
   "cell_type": "code",
   "execution_count": 6,
   "id": "ff71c33b",
   "metadata": {},
   "outputs": [],
   "source": [
    "numero_amostras = 1000000"
   ]
  },
  {
   "cell_type": "code",
   "execution_count": 7,
   "id": "d3f2ec07",
   "metadata": {},
   "outputs": [],
   "source": [
    "# Função para gerar valores randômicos\n",
    "def gera_numeros(p):\n",
    "    x, y = random.random(), random.random()\n",
    "    return x*x + y*y < 1"
   ]
  },
  {
   "cell_type": "code",
   "execution_count": 8,
   "id": "acf7691a",
   "metadata": {},
   "outputs": [],
   "source": [
    "# Função parallelizze() executa paralelização de operações\n",
    "contagem = sc.parallelize(range(0, numero_amostras)).filter(gera_numeros).count()"
   ]
  },
  {
   "cell_type": "code",
   "execution_count": 9,
   "id": "4bfa377f",
   "metadata": {},
   "outputs": [],
   "source": [
    "valor_pi = 4 * contagem / numero_amostras"
   ]
  },
  {
   "cell_type": "code",
   "execution_count": 10,
   "id": "26b90366",
   "metadata": {},
   "outputs": [
    {
     "name": "stdout",
     "output_type": "stream",
     "text": [
      "3.142996\n"
     ]
    }
   ],
   "source": [
    "print(valor_pi)"
   ]
  }
 ],
 "metadata": {
  "kernelspec": {
   "display_name": "Python 3 (ipykernel)",
   "language": "python",
   "name": "python3"
  },
  "language_info": {
   "codemirror_mode": {
    "name": "ipython",
    "version": 3
   },
   "file_extension": ".py",
   "mimetype": "text/x-python",
   "name": "python",
   "nbconvert_exporter": "python",
   "pygments_lexer": "ipython3",
   "version": "3.9.13"
  }
 },
 "nbformat": 4,
 "nbformat_minor": 5
}
