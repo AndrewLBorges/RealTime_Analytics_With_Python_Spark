{
 "cells": [
  {
   "cell_type": "markdown",
   "id": "1e1f88c1",
   "metadata": {},
   "source": [
    "# Big Data Real-Time Analytics com Python e Spark\n",
    "\n",
    "## Capítulo 3 - Manipulação de Dados em Python com Pandas\n",
    "https://pandas.pydata.org/\n",
    "\n",
    "### Estudo de Caso 2\n",
    "\n",
    "### Data Science na Educação - Análise de Dados Escolares com Pandas"
   ]
  },
  {
   "cell_type": "code",
   "execution_count": 1,
   "id": "3a6f5304",
   "metadata": {},
   "outputs": [
    {
     "name": "stdout",
     "output_type": "stream",
     "text": [
      "Versão da Linguagem Python Usada Neste Jupyter Notebook: 3.9.13\n"
     ]
    }
   ],
   "source": [
    "# Versão da Linguagem Python\n",
    "from platform import python_version\n",
    "print('Versão da Linguagem Python Usada Neste Jupyter Notebook:', python_version())"
   ]
  },
  {
   "cell_type": "code",
   "execution_count": 2,
   "id": "b7f87db5",
   "metadata": {},
   "outputs": [],
   "source": [
    "# Para atualizar um pacote, execute o comando abaixo no terminal ou prompt de comando:\n",
    "# pip install -U nome_pacote\n",
    "\n",
    "# para instalar a versão exata de um pacote, execute o comando abaixo no terminal ou prompt de comando:\n",
    "# !pip install nome_pacote==versao_desejada\n",
    "\n",
    "# Depois de instalar ou atualizar o pacote, reinicie o jupyter notebook.\n",
    "#!pip install -q -U pandas"
   ]
  },
  {
   "cell_type": "code",
   "execution_count": 3,
   "id": "278e5115",
   "metadata": {},
   "outputs": [],
   "source": [
    "# Importando o módulo Pandas\n",
    "import pandas as pd"
   ]
  },
  {
   "cell_type": "code",
   "execution_count": 4,
   "id": "5a2cd192",
   "metadata": {},
   "outputs": [
    {
     "name": "stdout",
     "output_type": "stream",
     "text": [
      "Author: Andrew Borges\n",
      "\n",
      "pandas: 1.5.3\n",
      "\n"
     ]
    }
   ],
   "source": [
    "# Versões dos pacotes usados neste jupyter notebook\n",
    "%reload_ext watermark\n",
    "%watermark -a \"Andrew Borges\" --iversions"
   ]
  },
  {
   "cell_type": "markdown",
   "id": "7cf691f7",
   "metadata": {},
   "source": [
    "## Carregando os Dados"
   ]
  },
  {
   "cell_type": "code",
   "execution_count": 5,
   "id": "968efda2",
   "metadata": {},
   "outputs": [],
   "source": [
    "# Carrega o dataset de escolas\n",
    "dados_escolas = pd.read_csv(\"dados/dataset_escolas.csv\")"
   ]
  },
  {
   "cell_type": "code",
   "execution_count": 6,
   "id": "50fc38bd",
   "metadata": {},
   "outputs": [
    {
     "data": {
      "text/plain": [
       "(15, 5)"
      ]
     },
     "execution_count": 6,
     "metadata": {},
     "output_type": "execute_result"
    }
   ],
   "source": [
    "# Shape\n",
    "dados_escolas.shape"
   ]
  },
  {
   "cell_type": "code",
   "execution_count": 7,
   "id": "09cb0048",
   "metadata": {},
   "outputs": [
    {
     "data": {
      "text/html": [
       "<div>\n",
       "<style scoped>\n",
       "    .dataframe tbody tr th:only-of-type {\n",
       "        vertical-align: middle;\n",
       "    }\n",
       "\n",
       "    .dataframe tbody tr th {\n",
       "        vertical-align: top;\n",
       "    }\n",
       "\n",
       "    .dataframe thead th {\n",
       "        text-align: right;\n",
       "    }\n",
       "</style>\n",
       "<table border=\"1\" class=\"dataframe\">\n",
       "  <thead>\n",
       "    <tr style=\"text-align: right;\">\n",
       "      <th></th>\n",
       "      <th>ID_Escola</th>\n",
       "      <th>Nome_Escola</th>\n",
       "      <th>Tipo_Escola</th>\n",
       "      <th>Numero_Alunos</th>\n",
       "      <th>Orcamento_Anual</th>\n",
       "    </tr>\n",
       "  </thead>\n",
       "  <tbody>\n",
       "    <tr>\n",
       "      <th>0</th>\n",
       "      <td>0</td>\n",
       "      <td>Escola A</td>\n",
       "      <td>Publica</td>\n",
       "      <td>2917</td>\n",
       "      <td>1910635</td>\n",
       "    </tr>\n",
       "    <tr>\n",
       "      <th>1</th>\n",
       "      <td>1</td>\n",
       "      <td>Escola B</td>\n",
       "      <td>Publica</td>\n",
       "      <td>2949</td>\n",
       "      <td>1884411</td>\n",
       "    </tr>\n",
       "    <tr>\n",
       "      <th>2</th>\n",
       "      <td>2</td>\n",
       "      <td>Escola C</td>\n",
       "      <td>Particular</td>\n",
       "      <td>1761</td>\n",
       "      <td>1056600</td>\n",
       "    </tr>\n",
       "    <tr>\n",
       "      <th>3</th>\n",
       "      <td>3</td>\n",
       "      <td>Escola D</td>\n",
       "      <td>Publica</td>\n",
       "      <td>4635</td>\n",
       "      <td>3022020</td>\n",
       "    </tr>\n",
       "    <tr>\n",
       "      <th>4</th>\n",
       "      <td>4</td>\n",
       "      <td>Escola E</td>\n",
       "      <td>Particular</td>\n",
       "      <td>1468</td>\n",
       "      <td>917500</td>\n",
       "    </tr>\n",
       "  </tbody>\n",
       "</table>\n",
       "</div>"
      ],
      "text/plain": [
       "   ID_Escola Nome_Escola Tipo_Escola  Numero_Alunos  Orcamento_Anual\n",
       "0          0    Escola A     Publica           2917          1910635\n",
       "1          1    Escola B     Publica           2949          1884411\n",
       "2          2    Escola C  Particular           1761          1056600\n",
       "3          3    Escola D     Publica           4635          3022020\n",
       "4          4    Escola E  Particular           1468           917500"
      ]
     },
     "execution_count": 7,
     "metadata": {},
     "output_type": "execute_result"
    }
   ],
   "source": [
    "# Visualiza\n",
    "dados_escolas.head()"
   ]
  },
  {
   "cell_type": "code",
   "execution_count": 8,
   "id": "ae737f5e",
   "metadata": {},
   "outputs": [],
   "source": [
    "# Dataset de estudantes\n",
    "dados_estudantes = pd.read_csv(\"dados/dataset_estudantes.csv\")"
   ]
  },
  {
   "cell_type": "code",
   "execution_count": 9,
   "id": "1f806632",
   "metadata": {},
   "outputs": [
    {
     "data": {
      "text/plain": [
       "(39160, 7)"
      ]
     },
     "execution_count": 9,
     "metadata": {},
     "output_type": "execute_result"
    }
   ],
   "source": [
    "# Shape\n",
    "dados_estudantes.shape"
   ]
  },
  {
   "cell_type": "code",
   "execution_count": 10,
   "id": "87861ea5",
   "metadata": {},
   "outputs": [
    {
     "data": {
      "text/html": [
       "<div>\n",
       "<style scoped>\n",
       "    .dataframe tbody tr th:only-of-type {\n",
       "        vertical-align: middle;\n",
       "    }\n",
       "\n",
       "    .dataframe tbody tr th {\n",
       "        vertical-align: top;\n",
       "    }\n",
       "\n",
       "    .dataframe thead th {\n",
       "        text-align: right;\n",
       "    }\n",
       "</style>\n",
       "<table border=\"1\" class=\"dataframe\">\n",
       "  <thead>\n",
       "    <tr style=\"text-align: right;\">\n",
       "      <th></th>\n",
       "      <th>ID_Estudante</th>\n",
       "      <th>Nome_Estudante</th>\n",
       "      <th>Genero</th>\n",
       "      <th>Serie</th>\n",
       "      <th>Nome_Escola</th>\n",
       "      <th>Nota_Redacao</th>\n",
       "      <th>Nota_Matematica</th>\n",
       "    </tr>\n",
       "  </thead>\n",
       "  <tbody>\n",
       "    <tr>\n",
       "      <th>0</th>\n",
       "      <td>0</td>\n",
       "      <td>Kevin Bradley</td>\n",
       "      <td>M</td>\n",
       "      <td>6</td>\n",
       "      <td>Escola A</td>\n",
       "      <td>66</td>\n",
       "      <td>79</td>\n",
       "    </tr>\n",
       "    <tr>\n",
       "      <th>1</th>\n",
       "      <td>1</td>\n",
       "      <td>Paul Smith</td>\n",
       "      <td>M</td>\n",
       "      <td>9</td>\n",
       "      <td>Escola A</td>\n",
       "      <td>94</td>\n",
       "      <td>61</td>\n",
       "    </tr>\n",
       "    <tr>\n",
       "      <th>2</th>\n",
       "      <td>2</td>\n",
       "      <td>John Rodriguez</td>\n",
       "      <td>M</td>\n",
       "      <td>9</td>\n",
       "      <td>Escola A</td>\n",
       "      <td>90</td>\n",
       "      <td>60</td>\n",
       "    </tr>\n",
       "    <tr>\n",
       "      <th>3</th>\n",
       "      <td>3</td>\n",
       "      <td>Oliver Scott</td>\n",
       "      <td>M</td>\n",
       "      <td>9</td>\n",
       "      <td>Escola A</td>\n",
       "      <td>67</td>\n",
       "      <td>58</td>\n",
       "    </tr>\n",
       "    <tr>\n",
       "      <th>4</th>\n",
       "      <td>4</td>\n",
       "      <td>William Ray</td>\n",
       "      <td>F</td>\n",
       "      <td>6</td>\n",
       "      <td>Escola A</td>\n",
       "      <td>97</td>\n",
       "      <td>84</td>\n",
       "    </tr>\n",
       "  </tbody>\n",
       "</table>\n",
       "</div>"
      ],
      "text/plain": [
       "   ID_Estudante  Nome_Estudante Genero  Serie Nome_Escola  Nota_Redacao  \\\n",
       "0             0   Kevin Bradley      M      6    Escola A            66   \n",
       "1             1      Paul Smith      M      9    Escola A            94   \n",
       "2             2  John Rodriguez      M      9    Escola A            90   \n",
       "3             3    Oliver Scott      M      9    Escola A            67   \n",
       "4             4     William Ray      F      6    Escola A            97   \n",
       "\n",
       "   Nota_Matematica  \n",
       "0               79  \n",
       "1               61  \n",
       "2               60  \n",
       "3               58  \n",
       "4               84  "
      ]
     },
     "execution_count": 10,
     "metadata": {},
     "output_type": "execute_result"
    }
   ],
   "source": [
    "# Visualiza\n",
    "dados_estudantes.head()"
   ]
  },
  {
   "cell_type": "code",
   "execution_count": 11,
   "id": "f8534ad6",
   "metadata": {},
   "outputs": [],
   "source": [
    "# Combina os datasets\n",
    "dados_full = pd.merge(dados_estudantes, dados_escolas, how = \"left\", on = [\"Nome_Escola\", \"Nome_Escola\"])"
   ]
  },
  {
   "cell_type": "code",
   "execution_count": 12,
   "id": "be4c93b2",
   "metadata": {},
   "outputs": [
    {
     "data": {
      "text/plain": [
       "(39160, 11)"
      ]
     },
     "execution_count": 12,
     "metadata": {},
     "output_type": "execute_result"
    }
   ],
   "source": [
    "# Shape\n",
    "dados_full.shape"
   ]
  },
  {
   "cell_type": "code",
   "execution_count": 13,
   "id": "b4d7b424",
   "metadata": {},
   "outputs": [
    {
     "data": {
      "text/html": [
       "<div>\n",
       "<style scoped>\n",
       "    .dataframe tbody tr th:only-of-type {\n",
       "        vertical-align: middle;\n",
       "    }\n",
       "\n",
       "    .dataframe tbody tr th {\n",
       "        vertical-align: top;\n",
       "    }\n",
       "\n",
       "    .dataframe thead th {\n",
       "        text-align: right;\n",
       "    }\n",
       "</style>\n",
       "<table border=\"1\" class=\"dataframe\">\n",
       "  <thead>\n",
       "    <tr style=\"text-align: right;\">\n",
       "      <th></th>\n",
       "      <th>ID_Estudante</th>\n",
       "      <th>Nome_Estudante</th>\n",
       "      <th>Genero</th>\n",
       "      <th>Serie</th>\n",
       "      <th>Nome_Escola</th>\n",
       "      <th>Nota_Redacao</th>\n",
       "      <th>Nota_Matematica</th>\n",
       "      <th>ID_Escola</th>\n",
       "      <th>Tipo_Escola</th>\n",
       "      <th>Numero_Alunos</th>\n",
       "      <th>Orcamento_Anual</th>\n",
       "    </tr>\n",
       "  </thead>\n",
       "  <tbody>\n",
       "    <tr>\n",
       "      <th>0</th>\n",
       "      <td>0</td>\n",
       "      <td>Kevin Bradley</td>\n",
       "      <td>M</td>\n",
       "      <td>6</td>\n",
       "      <td>Escola A</td>\n",
       "      <td>66</td>\n",
       "      <td>79</td>\n",
       "      <td>0</td>\n",
       "      <td>Publica</td>\n",
       "      <td>2917</td>\n",
       "      <td>1910635</td>\n",
       "    </tr>\n",
       "    <tr>\n",
       "      <th>1</th>\n",
       "      <td>1</td>\n",
       "      <td>Paul Smith</td>\n",
       "      <td>M</td>\n",
       "      <td>9</td>\n",
       "      <td>Escola A</td>\n",
       "      <td>94</td>\n",
       "      <td>61</td>\n",
       "      <td>0</td>\n",
       "      <td>Publica</td>\n",
       "      <td>2917</td>\n",
       "      <td>1910635</td>\n",
       "    </tr>\n",
       "    <tr>\n",
       "      <th>2</th>\n",
       "      <td>2</td>\n",
       "      <td>John Rodriguez</td>\n",
       "      <td>M</td>\n",
       "      <td>9</td>\n",
       "      <td>Escola A</td>\n",
       "      <td>90</td>\n",
       "      <td>60</td>\n",
       "      <td>0</td>\n",
       "      <td>Publica</td>\n",
       "      <td>2917</td>\n",
       "      <td>1910635</td>\n",
       "    </tr>\n",
       "    <tr>\n",
       "      <th>3</th>\n",
       "      <td>3</td>\n",
       "      <td>Oliver Scott</td>\n",
       "      <td>M</td>\n",
       "      <td>9</td>\n",
       "      <td>Escola A</td>\n",
       "      <td>67</td>\n",
       "      <td>58</td>\n",
       "      <td>0</td>\n",
       "      <td>Publica</td>\n",
       "      <td>2917</td>\n",
       "      <td>1910635</td>\n",
       "    </tr>\n",
       "    <tr>\n",
       "      <th>4</th>\n",
       "      <td>4</td>\n",
       "      <td>William Ray</td>\n",
       "      <td>F</td>\n",
       "      <td>6</td>\n",
       "      <td>Escola A</td>\n",
       "      <td>97</td>\n",
       "      <td>84</td>\n",
       "      <td>0</td>\n",
       "      <td>Publica</td>\n",
       "      <td>2917</td>\n",
       "      <td>1910635</td>\n",
       "    </tr>\n",
       "  </tbody>\n",
       "</table>\n",
       "</div>"
      ],
      "text/plain": [
       "   ID_Estudante  Nome_Estudante Genero  Serie Nome_Escola  Nota_Redacao  \\\n",
       "0             0   Kevin Bradley      M      6    Escola A            66   \n",
       "1             1      Paul Smith      M      9    Escola A            94   \n",
       "2             2  John Rodriguez      M      9    Escola A            90   \n",
       "3             3    Oliver Scott      M      9    Escola A            67   \n",
       "4             4     William Ray      F      6    Escola A            97   \n",
       "\n",
       "   Nota_Matematica  ID_Escola Tipo_Escola  Numero_Alunos  Orcamento_Anual  \n",
       "0               79          0     Publica           2917          1910635  \n",
       "1               61          0     Publica           2917          1910635  \n",
       "2               60          0     Publica           2917          1910635  \n",
       "3               58          0     Publica           2917          1910635  \n",
       "4               84          0     Publica           2917          1910635  "
      ]
     },
     "execution_count": 13,
     "metadata": {},
     "output_type": "execute_result"
    }
   ],
   "source": [
    "# Visualiza\n",
    "dados_full.head()"
   ]
  },
  {
   "cell_type": "code",
   "execution_count": 16,
   "id": "75e7ddac",
   "metadata": {},
   "outputs": [
    {
     "data": {
      "text/plain": [
       "array([6, 9, 8, 7], dtype=int64)"
      ]
     },
     "execution_count": 16,
     "metadata": {},
     "output_type": "execute_result"
    }
   ],
   "source": [
    "# Séries escolares no dataset\n",
    "dados_full[\"Serie\"].unique()"
   ]
  },
  {
   "cell_type": "code",
   "execution_count": 17,
   "id": "3b69fa16",
   "metadata": {},
   "outputs": [
    {
     "data": {
      "text/plain": [
       "array(['M', 'F'], dtype=object)"
      ]
     },
     "execution_count": 17,
     "metadata": {},
     "output_type": "execute_result"
    }
   ],
   "source": [
    "# Genero\n",
    "dados_full[\"Genero\"].unique()"
   ]
  },
  {
   "cell_type": "markdown",
   "id": "a15feca2",
   "metadata": {},
   "source": [
    "## Desafio de Análise de Dados\n",
    "\n",
    "Responda as perguntas abaixo."
   ]
  },
  {
   "cell_type": "markdown",
   "id": "fac65b6c",
   "metadata": {},
   "source": [
    "> 1 - Temos dados de quantas escolas?"
   ]
  },
  {
   "cell_type": "code",
   "execution_count": 50,
   "id": "990ced9b",
   "metadata": {},
   "outputs": [
    {
     "data": {
      "text/plain": [
       "15"
      ]
     },
     "execution_count": 50,
     "metadata": {},
     "output_type": "execute_result"
    }
   ],
   "source": [
    "escolas = dados_full[\"Nome_Escola\"].nunique()\n",
    "escolas"
   ]
  },
  {
   "cell_type": "markdown",
   "id": "14db9e03",
   "metadata": {},
   "source": [
    "> 2 - Qual o total de registros de estudantes na base de dados?"
   ]
  },
  {
   "cell_type": "code",
   "execution_count": 86,
   "id": "50a1da1c",
   "metadata": {},
   "outputs": [
    {
     "data": {
      "text/plain": [
       "numpy.int64"
      ]
     },
     "execution_count": 86,
     "metadata": {},
     "output_type": "execute_result"
    }
   ],
   "source": [
    "estudantes = dados_full[\"ID_Estudante\"].count()\n",
    "estudantes"
   ]
  },
  {
   "cell_type": "markdown",
   "id": "cb398c97",
   "metadata": {},
   "source": [
    "> 3 - Qual o orçamento total considerando todas as escolas?"
   ]
  },
  {
   "cell_type": "code",
   "execution_count": 64,
   "id": "5e1807e1",
   "metadata": {},
   "outputs": [
    {
     "data": {
      "text/plain": [
       "24649428"
      ]
     },
     "execution_count": 64,
     "metadata": {},
     "output_type": "execute_result"
    }
   ],
   "source": [
    "orcamento = dados_escolas[\"Orcamento_Anual\"].sum()\n",
    "orcamento"
   ]
  },
  {
   "cell_type": "markdown",
   "id": "c653de54",
   "metadata": {},
   "source": [
    "> 4 - Qual a média da nota dos alunos em Redação?"
   ]
  },
  {
   "cell_type": "code",
   "execution_count": 53,
   "id": "1c8c2088",
   "metadata": {},
   "outputs": [
    {
     "data": {
      "text/plain": [
       "81.87574055158325"
      ]
     },
     "execution_count": 53,
     "metadata": {},
     "output_type": "execute_result"
    }
   ],
   "source": [
    "media_redacao = dados_full[\"Nota_Redacao\"].mean()\n",
    "media_redacao"
   ]
  },
  {
   "cell_type": "markdown",
   "id": "6ff09360",
   "metadata": {},
   "source": [
    "> 5 - Qual a média da nota dos alunos em Matemática?"
   ]
  },
  {
   "cell_type": "code",
   "execution_count": 54,
   "id": "7abcbdaa",
   "metadata": {},
   "outputs": [
    {
     "data": {
      "text/plain": [
       "78.98493360572012"
      ]
     },
     "execution_count": 54,
     "metadata": {},
     "output_type": "execute_result"
    }
   ],
   "source": [
    "media_mat = dados_full[\"Nota_Matematica\"].mean()\n",
    "media_mat"
   ]
  },
  {
   "cell_type": "markdown",
   "id": "074d0b69",
   "metadata": {},
   "source": [
    "> 6 - Considerando que a nota de aprovação é 70, quantos alunos foram aprovados em Redação? (Entregue o resultado em valor absoluto e percentual)"
   ]
  },
  {
   "cell_type": "code",
   "execution_count": 42,
   "id": "c5da8c96",
   "metadata": {},
   "outputs": [
    {
     "data": {
      "text/plain": [
       "33600"
      ]
     },
     "execution_count": 42,
     "metadata": {},
     "output_type": "execute_result"
    }
   ],
   "source": [
    "aprovados = dados_full.loc[:, 'Nota_Redacao'] >= 70\n",
    "aprovados_qtd = dados_full.loc[aprovados, 'Nome_Estudante'].count()\n",
    "aprovados_qtd"
   ]
  },
  {
   "cell_type": "code",
   "execution_count": 65,
   "id": "7f736154",
   "metadata": {},
   "outputs": [
    {
     "name": "stdout",
     "output_type": "stream",
     "text": [
      "85.80183861082737 %\n"
     ]
    }
   ],
   "source": [
    "porcentagem = aprovados_qtd / estudantes * 100\n",
    "print(porcentagem, \"%\")"
   ]
  },
  {
   "cell_type": "markdown",
   "id": "21bf4d3c",
   "metadata": {},
   "source": [
    "> 7 - Considerando que a nota de aprovação é 70, quantos alunos foram aprovados em Matemática? (Entregue o resultado em valor absoluto e percentual)"
   ]
  },
  {
   "cell_type": "code",
   "execution_count": 45,
   "id": "6471e7ee",
   "metadata": {},
   "outputs": [
    {
     "data": {
      "text/plain": [
       "29360"
      ]
     },
     "execution_count": 45,
     "metadata": {},
     "output_type": "execute_result"
    }
   ],
   "source": [
    "aprovados_mat = dados_full.loc[:, 'Nota_Matematica'] >= 70\n",
    "aprovados_mat_qtd = dados_full.loc[aprovados_mat, 'Nome_Estudante'].count()\n",
    "aprovados_mat_qtd"
   ]
  },
  {
   "cell_type": "code",
   "execution_count": 66,
   "id": "318929b8",
   "metadata": {},
   "outputs": [
    {
     "name": "stdout",
     "output_type": "stream",
     "text": [
      "74.97446373850867 %\n"
     ]
    }
   ],
   "source": [
    "porcentagem_mat = aprovados_mat_qtd / estudantes * 100\n",
    "print(porcentagem_mat, \"%\")"
   ]
  },
  {
   "cell_type": "markdown",
   "id": "fe33e97b",
   "metadata": {},
   "source": [
    "> 8 - Considerando que a nota de aprovação é 70, quantos alunos foram aprovados em Matemática e Redação? (Entregue o resultado em valor absoluto e percentual)"
   ]
  },
  {
   "cell_type": "code",
   "execution_count": 48,
   "id": "564a0ba5",
   "metadata": {},
   "outputs": [
    {
     "data": {
      "text/plain": [
       "25518"
      ]
     },
     "execution_count": 48,
     "metadata": {},
     "output_type": "execute_result"
    }
   ],
   "source": [
    "aprovados_both = dados_full.loc[aprovados & aprovados_mat, 'Nome_Estudante'].count()\n",
    "aprovados_both"
   ]
  },
  {
   "cell_type": "code",
   "execution_count": 67,
   "id": "4aebd805",
   "metadata": {},
   "outputs": [
    {
     "name": "stdout",
     "output_type": "stream",
     "text": [
      "65.16343207354444 %\n"
     ]
    }
   ],
   "source": [
    "porcentagem_both = aprovados_both / estudantes * 100\n",
    "print(porcentagem_both, \"%\")"
   ]
  },
  {
   "cell_type": "markdown",
   "id": "4759ea44",
   "metadata": {},
   "source": [
    "> 9 - Crie um dataframe com os resultados das questões 1 a 8 que você calculou acima. (Dica: crie um dicionário e depois converta em dataframe do Pandas)"
   ]
  },
  {
   "cell_type": "code",
   "execution_count": 82,
   "id": "ad2281ff",
   "metadata": {},
   "outputs": [],
   "source": [
    "respostas_dict = {\"Total_Escolas\": escolas, \"Total_Estudantes\": estudantes, \"Total_Orcamento\": orcamento,\n",
    "                  \"Media_Redacao\": media_redacao, \"Media_Matematica\": media_mat, \"Aprovados_Redacao\": aprovados_qtd,\n",
    "                 \"Aprovados_Redacao_Porc\": porcentagem, \"Aprovados_Matematica\": aprovados_mat_qtd,\n",
    "                 \"Aprovados_Matematica_Porc\": porcentagem_mat, \"Aprovados_Ambos\": aprovados_both,\n",
    "                 \"Aprovados_Ambos_Porc\": porcentagem_both}\n",
    "\n",
    "df_respostas = pd.DataFrame(respostas_dict, index = [\"Repostas\"])"
   ]
  },
  {
   "cell_type": "code",
   "execution_count": 83,
   "id": "4faaa44f",
   "metadata": {},
   "outputs": [
    {
     "data": {
      "text/html": [
       "<div>\n",
       "<style scoped>\n",
       "    .dataframe tbody tr th:only-of-type {\n",
       "        vertical-align: middle;\n",
       "    }\n",
       "\n",
       "    .dataframe tbody tr th {\n",
       "        vertical-align: top;\n",
       "    }\n",
       "\n",
       "    .dataframe thead th {\n",
       "        text-align: right;\n",
       "    }\n",
       "</style>\n",
       "<table border=\"1\" class=\"dataframe\">\n",
       "  <thead>\n",
       "    <tr style=\"text-align: right;\">\n",
       "      <th></th>\n",
       "      <th>Total_Escolas</th>\n",
       "      <th>Total_Estudantes</th>\n",
       "      <th>Total_Orcamento</th>\n",
       "      <th>Media_Redacao</th>\n",
       "      <th>Media_Matematica</th>\n",
       "      <th>Aprovados_Redacao</th>\n",
       "      <th>Aprovados_Redacao_Porc</th>\n",
       "      <th>Aprovados_Matematica</th>\n",
       "      <th>Aprovados_Matematica_Porc</th>\n",
       "      <th>Aprovados_Ambos</th>\n",
       "      <th>Aprovados_Ambos_Porc</th>\n",
       "    </tr>\n",
       "  </thead>\n",
       "  <tbody>\n",
       "    <tr>\n",
       "      <th>Repostas</th>\n",
       "      <td>15</td>\n",
       "      <td>39160</td>\n",
       "      <td>24649428</td>\n",
       "      <td>81.875741</td>\n",
       "      <td>78.984934</td>\n",
       "      <td>33600</td>\n",
       "      <td>85.801839</td>\n",
       "      <td>29360</td>\n",
       "      <td>74.974464</td>\n",
       "      <td>25518</td>\n",
       "      <td>65.163432</td>\n",
       "    </tr>\n",
       "  </tbody>\n",
       "</table>\n",
       "</div>"
      ],
      "text/plain": [
       "          Total_Escolas  Total_Estudantes  Total_Orcamento  Media_Redacao  \\\n",
       "Repostas             15             39160         24649428      81.875741   \n",
       "\n",
       "          Media_Matematica  Aprovados_Redacao  Aprovados_Redacao_Porc  \\\n",
       "Repostas         78.984934              33600               85.801839   \n",
       "\n",
       "          Aprovados_Matematica  Aprovados_Matematica_Porc  Aprovados_Ambos  \\\n",
       "Repostas                 29360                  74.974464            25518   \n",
       "\n",
       "          Aprovados_Ambos_Porc  \n",
       "Repostas             65.163432  "
      ]
     },
     "execution_count": 83,
     "metadata": {},
     "output_type": "execute_result"
    }
   ],
   "source": [
    "df_respostas"
   ]
  },
  {
   "cell_type": "code",
   "execution_count": 71,
   "id": "b75a4fb2",
   "metadata": {},
   "outputs": [
    {
     "data": {
      "text/plain": [
       "pandas.core.frame.DataFrame"
      ]
     },
     "execution_count": 71,
     "metadata": {},
     "output_type": "execute_result"
    }
   ],
   "source": [
    "type(df_respostas)"
   ]
  },
  {
   "cell_type": "markdown",
   "id": "38e63079",
   "metadata": {},
   "source": [
    "> 10 - Formate as colunas \"Total de Estudantes\" e \"Total Orçamento\" ajustando as casas decimais."
   ]
  },
  {
   "cell_type": "code",
   "execution_count": 84,
   "id": "84a188b3",
   "metadata": {},
   "outputs": [],
   "source": [
    "df_respostas[\"Total_Estudantes\"] = pd.to_numeric(df_respostas[\"Total_Estudantes\"])\n",
    "df_respostas[\"Total_Estudantes\"] = df_respostas[\"Total_Estudantes\"].map(\"{:,}\".format)\n",
    "df_respostas[\"Total_Orcamento\"] = df_respostas[\"Total_Orcamento\"].map(\"${:,.2f}\".format)"
   ]
  },
  {
   "cell_type": "code",
   "execution_count": 85,
   "id": "184c29f4",
   "metadata": {},
   "outputs": [
    {
     "data": {
      "text/html": [
       "<div>\n",
       "<style scoped>\n",
       "    .dataframe tbody tr th:only-of-type {\n",
       "        vertical-align: middle;\n",
       "    }\n",
       "\n",
       "    .dataframe tbody tr th {\n",
       "        vertical-align: top;\n",
       "    }\n",
       "\n",
       "    .dataframe thead th {\n",
       "        text-align: right;\n",
       "    }\n",
       "</style>\n",
       "<table border=\"1\" class=\"dataframe\">\n",
       "  <thead>\n",
       "    <tr style=\"text-align: right;\">\n",
       "      <th></th>\n",
       "      <th>Total_Escolas</th>\n",
       "      <th>Total_Estudantes</th>\n",
       "      <th>Total_Orcamento</th>\n",
       "      <th>Media_Redacao</th>\n",
       "      <th>Media_Matematica</th>\n",
       "      <th>Aprovados_Redacao</th>\n",
       "      <th>Aprovados_Redacao_Porc</th>\n",
       "      <th>Aprovados_Matematica</th>\n",
       "      <th>Aprovados_Matematica_Porc</th>\n",
       "      <th>Aprovados_Ambos</th>\n",
       "      <th>Aprovados_Ambos_Porc</th>\n",
       "    </tr>\n",
       "  </thead>\n",
       "  <tbody>\n",
       "    <tr>\n",
       "      <th>Repostas</th>\n",
       "      <td>15</td>\n",
       "      <td>39,160</td>\n",
       "      <td>$24,649,428.00</td>\n",
       "      <td>81.875741</td>\n",
       "      <td>78.984934</td>\n",
       "      <td>33600</td>\n",
       "      <td>85.801839</td>\n",
       "      <td>29360</td>\n",
       "      <td>74.974464</td>\n",
       "      <td>25518</td>\n",
       "      <td>65.163432</td>\n",
       "    </tr>\n",
       "  </tbody>\n",
       "</table>\n",
       "</div>"
      ],
      "text/plain": [
       "          Total_Escolas Total_Estudantes Total_Orcamento  Media_Redacao  \\\n",
       "Repostas             15           39,160  $24,649,428.00      81.875741   \n",
       "\n",
       "          Media_Matematica  Aprovados_Redacao  Aprovados_Redacao_Porc  \\\n",
       "Repostas         78.984934              33600               85.801839   \n",
       "\n",
       "          Aprovados_Matematica  Aprovados_Matematica_Porc  Aprovados_Ambos  \\\n",
       "Repostas                 29360                  74.974464            25518   \n",
       "\n",
       "          Aprovados_Ambos_Porc  \n",
       "Repostas             65.163432  "
      ]
     },
     "execution_count": 85,
     "metadata": {},
     "output_type": "execute_result"
    }
   ],
   "source": [
    "df_respostas"
   ]
  },
  {
   "cell_type": "markdown",
   "id": "8db18496",
   "metadata": {},
   "source": [
    "# Fim"
   ]
  }
 ],
 "metadata": {
  "kernelspec": {
   "display_name": "Python 3 (ipykernel)",
   "language": "python",
   "name": "python3"
  },
  "language_info": {
   "codemirror_mode": {
    "name": "ipython",
    "version": 3
   },
   "file_extension": ".py",
   "mimetype": "text/x-python",
   "name": "python",
   "nbconvert_exporter": "python",
   "pygments_lexer": "ipython3",
   "version": "3.9.13"
  }
 },
 "nbformat": 4,
 "nbformat_minor": 5
}
