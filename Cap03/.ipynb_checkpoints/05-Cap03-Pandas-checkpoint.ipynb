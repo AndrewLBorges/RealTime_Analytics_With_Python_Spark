{
 "cells": [
  {
   "cell_type": "markdown",
   "id": "df1f4d5d",
   "metadata": {},
   "source": [
    "# Big Data Real-Time Analytics com Python e Spark\n",
    "\n",
    "## Capítulo 3 - Manipulação de Dados em Python com Pandas\n",
    "https://pandas.pydata.org/"
   ]
  },
  {
   "cell_type": "code",
   "execution_count": 1,
   "id": "b5da2946",
   "metadata": {},
   "outputs": [
    {
     "name": "stdout",
     "output_type": "stream",
     "text": [
      "Versão da Linguagem Python Usada Neste Jupyter Notebook: 3.9.13\n"
     ]
    }
   ],
   "source": [
    "# Versão da Linguagem Python\n",
    "from platform import python_version\n",
    "print('Versão da Linguagem Python Usada Neste Jupyter Notebook:', python_version())"
   ]
  },
  {
   "cell_type": "code",
   "execution_count": 2,
   "id": "01c96f54",
   "metadata": {},
   "outputs": [],
   "source": [
    "# Para atualizar um pacote, execute o comando abaixo no terminal ou prompt de comando:\n",
    "# pip install -U nome_pacote\n",
    "\n",
    "# para instalar a versão exata de um pacote, execute o comando abaixo no terminal ou prompt de comando:\n",
    "# !pip install nome_pacote==versao_desejada\n",
    "\n",
    "# Depois de instalar ou atualizar o pacote, reinicie o jupyter notebook.\n",
    "#!pip install -q -U pandas"
   ]
  },
  {
   "cell_type": "code",
   "execution_count": 5,
   "id": "546a2a26",
   "metadata": {},
   "outputs": [],
   "source": [
    "# Importando o módulo Pandas\n",
    "import numpy as np\n",
    "import pandas as pd"
   ]
  },
  {
   "cell_type": "code",
   "execution_count": 4,
   "id": "2274c8b8",
   "metadata": {},
   "outputs": [
    {
     "name": "stdout",
     "output_type": "stream",
     "text": [
      "Author: Andrew Borges\n",
      "\n",
      "pandas: 1.5.3\n",
      "\n"
     ]
    }
   ],
   "source": [
    "# Versões dos pacotes usados neste jupyter notebook\n",
    "%reload_ext watermark\n",
    "%watermark -a \"Andrew Borges\" --iversions"
   ]
  },
  {
   "cell_type": "markdown",
   "id": "104742fb",
   "metadata": {},
   "source": [
    "## Operações com Series"
   ]
  },
  {
   "cell_type": "code",
   "execution_count": 6,
   "id": "96015054",
   "metadata": {},
   "outputs": [],
   "source": [
    "# Lista de listas (matriz)\n",
    "matriz = [[9, 4, 3], [2, 6, 1], [7, 5, 8]]"
   ]
  },
  {
   "cell_type": "code",
   "execution_count": 14,
   "id": "4d81853f",
   "metadata": {},
   "outputs": [
    {
     "data": {
      "text/plain": [
       "[[9, 4, 3], [2, 6, 1], [7, 5, 8]]"
      ]
     },
     "execution_count": 14,
     "metadata": {},
     "output_type": "execute_result"
    }
   ],
   "source": [
    "matriz"
   ]
  },
  {
   "cell_type": "code",
   "execution_count": 7,
   "id": "dc445c0e",
   "metadata": {},
   "outputs": [],
   "source": [
    "# Converte a matriz em dataframe\n",
    "df = pd.DataFrame(matriz)"
   ]
  },
  {
   "cell_type": "code",
   "execution_count": 8,
   "id": "bee12b21",
   "metadata": {},
   "outputs": [
    {
     "data": {
      "text/plain": [
       "pandas.core.frame.DataFrame"
      ]
     },
     "execution_count": 8,
     "metadata": {},
     "output_type": "execute_result"
    }
   ],
   "source": [
    "type(df)"
   ]
  },
  {
   "cell_type": "code",
   "execution_count": 9,
   "id": "d5ee59f2",
   "metadata": {},
   "outputs": [],
   "source": [
    "# Extrai a linha de índice 0\n",
    "linha = df.iloc[0, :]"
   ]
  },
  {
   "cell_type": "code",
   "execution_count": 10,
   "id": "1be431cf",
   "metadata": {},
   "outputs": [
    {
     "data": {
      "text/plain": [
       "pandas.core.series.Series"
      ]
     },
     "execution_count": 10,
     "metadata": {},
     "output_type": "execute_result"
    }
   ],
   "source": [
    "# Uma linha do dataframe é uma série no Pandas\n",
    "type(linha)"
   ]
  },
  {
   "cell_type": "code",
   "execution_count": 12,
   "id": "83de3808",
   "metadata": {},
   "outputs": [],
   "source": [
    "# Extrai a coluna de índice 0\n",
    "coluna = df[0]"
   ]
  },
  {
   "cell_type": "code",
   "execution_count": 13,
   "id": "31e595ae",
   "metadata": {},
   "outputs": [
    {
     "data": {
      "text/plain": [
       "pandas.core.series.Series"
      ]
     },
     "execution_count": 13,
     "metadata": {},
     "output_type": "execute_result"
    }
   ],
   "source": [
    "# Uma coluna do dataframe é uma série no Pandas\n",
    "type(coluna)"
   ]
  },
  {
   "cell_type": "code",
   "execution_count": 15,
   "id": "7aa6c925",
   "metadata": {},
   "outputs": [],
   "source": [
    "# Cria uma série\n",
    "serie_pandas = pd.Series(['a', 'b', 'c', 'd', 'e'])"
   ]
  },
  {
   "cell_type": "code",
   "execution_count": 21,
   "id": "c7e223c8",
   "metadata": {},
   "outputs": [
    {
     "data": {
      "text/plain": [
       "0    a\n",
       "1    b\n",
       "2    c\n",
       "3    d\n",
       "4    e\n",
       "dtype: object"
      ]
     },
     "execution_count": 21,
     "metadata": {},
     "output_type": "execute_result"
    }
   ],
   "source": [
    "serie_pandas"
   ]
  },
  {
   "cell_type": "code",
   "execution_count": 16,
   "id": "f9a65671",
   "metadata": {},
   "outputs": [
    {
     "data": {
      "text/plain": [
       "RangeIndex(start=0, stop=5, step=1)"
      ]
     },
     "execution_count": 16,
     "metadata": {},
     "output_type": "execute_result"
    }
   ],
   "source": [
    "# Visualiza os índices\n",
    "serie_pandas.index"
   ]
  },
  {
   "cell_type": "code",
   "execution_count": 17,
   "id": "7694533c",
   "metadata": {},
   "outputs": [
    {
     "data": {
      "text/plain": [
       "array(['a', 'b', 'c', 'd', 'e'], dtype=object)"
      ]
     },
     "execution_count": 17,
     "metadata": {},
     "output_type": "execute_result"
    }
   ],
   "source": [
    "# Visualiza os valores \n",
    "serie_pandas.values"
   ]
  },
  {
   "cell_type": "code",
   "execution_count": 19,
   "id": "daa8b8d0",
   "metadata": {},
   "outputs": [
    {
     "data": {
      "text/plain": [
       "dtype('O')"
      ]
     },
     "execution_count": 19,
     "metadata": {},
     "output_type": "execute_result"
    }
   ],
   "source": [
    "# Visualiza o tipo dos dados\n",
    "serie_pandas.dtypes"
   ]
  },
  {
   "cell_type": "code",
   "execution_count": 20,
   "id": "865d2d36",
   "metadata": {},
   "outputs": [
    {
     "data": {
      "text/plain": [
       "(5,)"
      ]
     },
     "execution_count": 20,
     "metadata": {},
     "output_type": "execute_result"
    }
   ],
   "source": [
    "# Visualiza o shape\n",
    "serie_pandas.shape"
   ]
  },
  {
   "cell_type": "markdown",
   "id": "0c2c62e7",
   "metadata": {},
   "source": [
    "> Podemos ter uma série com dados de tipos diferentes?"
   ]
  },
  {
   "cell_type": "code",
   "execution_count": 22,
   "id": "350392d3",
   "metadata": {},
   "outputs": [],
   "source": [
    "serie_pandas = pd.Series(['a', 'b', 'c', 10, True], index = [10, 20, 30, 40, 50])"
   ]
  },
  {
   "cell_type": "code",
   "execution_count": 23,
   "id": "9b9fee70",
   "metadata": {},
   "outputs": [
    {
     "data": {
      "text/plain": [
       "Int64Index([10, 20, 30, 40, 50], dtype='int64')"
      ]
     },
     "execution_count": 23,
     "metadata": {},
     "output_type": "execute_result"
    }
   ],
   "source": [
    "serie_pandas.index"
   ]
  },
  {
   "cell_type": "code",
   "execution_count": 24,
   "id": "924d90c2",
   "metadata": {},
   "outputs": [
    {
     "data": {
      "text/plain": [
       "dtype('O')"
      ]
     },
     "execution_count": 24,
     "metadata": {},
     "output_type": "execute_result"
    }
   ],
   "source": [
    "serie_pandas.dtypes"
   ]
  },
  {
   "cell_type": "code",
   "execution_count": 25,
   "id": "ef8f47a5",
   "metadata": {},
   "outputs": [
    {
     "data": {
      "text/plain": [
       "array(['a', 'b', 'c', 10, True], dtype=object)"
      ]
     },
     "execution_count": 25,
     "metadata": {},
     "output_type": "execute_result"
    }
   ],
   "source": [
    "# Visualiza os valores\n",
    "serie_pandas.values"
   ]
  },
  {
   "cell_type": "code",
   "execution_count": 28,
   "id": "be2ccb18",
   "metadata": {},
   "outputs": [
    {
     "data": {
      "text/plain": [
       "0       a\n",
       "1       b\n",
       "2       c\n",
       "3      10\n",
       "4    True\n",
       "dtype: object"
      ]
     },
     "execution_count": 28,
     "metadata": {},
     "output_type": "execute_result"
    }
   ],
   "source": [
    "serie_pandas"
   ]
  },
  {
   "cell_type": "code",
   "execution_count": 26,
   "id": "0cc05055",
   "metadata": {},
   "outputs": [],
   "source": [
    "serie_pandas = pd.Series(['a', 'b', 'c', 10, True])"
   ]
  },
  {
   "cell_type": "code",
   "execution_count": 27,
   "id": "028cc864",
   "metadata": {},
   "outputs": [
    {
     "data": {
      "text/plain": [
       "dtype('O')"
      ]
     },
     "execution_count": 27,
     "metadata": {},
     "output_type": "execute_result"
    }
   ],
   "source": [
    "serie_pandas.dtypes"
   ]
  },
  {
   "cell_type": "code",
   "execution_count": 29,
   "id": "e17b1b7a",
   "metadata": {},
   "outputs": [
    {
     "name": "stdout",
     "output_type": "stream",
     "text": [
      "a\n"
     ]
    }
   ],
   "source": [
    "print(serie_pandas[0])"
   ]
  },
  {
   "cell_type": "code",
   "execution_count": 30,
   "id": "2340f912",
   "metadata": {},
   "outputs": [
    {
     "data": {
      "text/plain": [
       "str"
      ]
     },
     "execution_count": 30,
     "metadata": {},
     "output_type": "execute_result"
    }
   ],
   "source": [
    "type(serie_pandas[0])"
   ]
  },
  {
   "cell_type": "code",
   "execution_count": 31,
   "id": "a788cae8",
   "metadata": {},
   "outputs": [
    {
     "name": "stdout",
     "output_type": "stream",
     "text": [
      "10\n"
     ]
    }
   ],
   "source": [
    "print(serie_pandas[3])"
   ]
  },
  {
   "cell_type": "code",
   "execution_count": 32,
   "id": "06001e57",
   "metadata": {},
   "outputs": [
    {
     "data": {
      "text/plain": [
       "int"
      ]
     },
     "execution_count": 32,
     "metadata": {},
     "output_type": "execute_result"
    }
   ],
   "source": [
    "type(serie_pandas[3])"
   ]
  },
  {
   "cell_type": "code",
   "execution_count": 33,
   "id": "5e7f95c4",
   "metadata": {},
   "outputs": [
    {
     "name": "stdout",
     "output_type": "stream",
     "text": [
      "True\n"
     ]
    }
   ],
   "source": [
    "print(serie_pandas[4])"
   ]
  },
  {
   "cell_type": "code",
   "execution_count": 34,
   "id": "bb3fe18c",
   "metadata": {},
   "outputs": [
    {
     "data": {
      "text/plain": [
       "bool"
      ]
     },
     "execution_count": 34,
     "metadata": {},
     "output_type": "execute_result"
    }
   ],
   "source": [
    "type(serie_pandas[4])"
   ]
  },
  {
   "cell_type": "code",
   "execution_count": 35,
   "id": "5d0bf955",
   "metadata": {},
   "outputs": [],
   "source": [
    "resultado = serie_pandas[3] + 1"
   ]
  },
  {
   "cell_type": "code",
   "execution_count": 36,
   "id": "2416fcc1",
   "metadata": {},
   "outputs": [
    {
     "name": "stdout",
     "output_type": "stream",
     "text": [
      "11\n"
     ]
    }
   ],
   "source": [
    "print(resultado)"
   ]
  },
  {
   "cell_type": "code",
   "execution_count": 37,
   "id": "33d1c9dc",
   "metadata": {},
   "outputs": [
    {
     "ename": "TypeError",
     "evalue": "can only concatenate str (not \"int\") to str",
     "output_type": "error",
     "traceback": [
      "\u001b[1;31m---------------------------------------------------------------------------\u001b[0m",
      "\u001b[1;31mTypeError\u001b[0m                                 Traceback (most recent call last)",
      "\u001b[1;32m~\\AppData\\Local\\Temp\\ipykernel_13640\\3085763786.py\u001b[0m in \u001b[0;36m<module>\u001b[1;34m\u001b[0m\n\u001b[0;32m      1\u001b[0m \u001b[1;31m# Por que esta célula gera erro?\u001b[0m\u001b[1;33m\u001b[0m\u001b[1;33m\u001b[0m\u001b[0m\n\u001b[1;32m----> 2\u001b[1;33m \u001b[0mresultado\u001b[0m \u001b[1;33m=\u001b[0m \u001b[0mserie_pandas\u001b[0m\u001b[1;33m[\u001b[0m\u001b[1;36m2\u001b[0m\u001b[1;33m]\u001b[0m \u001b[1;33m+\u001b[0m \u001b[1;36m1\u001b[0m\u001b[1;33m\u001b[0m\u001b[1;33m\u001b[0m\u001b[0m\n\u001b[0m",
      "\u001b[1;31mTypeError\u001b[0m: can only concatenate str (not \"int\") to str"
     ]
    }
   ],
   "source": [
    "# Por que esta célula gera erro?\n",
    "resultado = serie_pandas[2] + 1"
   ]
  },
  {
   "cell_type": "code",
   "execution_count": 38,
   "id": "c6b0c141",
   "metadata": {},
   "outputs": [],
   "source": [
    "lista = ['Data', 'Science', 'Python']"
   ]
  },
  {
   "cell_type": "code",
   "execution_count": 39,
   "id": "88e0fc59",
   "metadata": {},
   "outputs": [],
   "source": [
    "serie_pandas = pd.Series(lista)"
   ]
  },
  {
   "cell_type": "code",
   "execution_count": 40,
   "id": "f9f42eb9",
   "metadata": {},
   "outputs": [
    {
     "name": "stdout",
     "output_type": "stream",
     "text": [
      "0       Data\n",
      "1    Science\n",
      "2     Python\n",
      "dtype: object\n"
     ]
    }
   ],
   "source": [
    "print(serie_pandas)"
   ]
  },
  {
   "cell_type": "code",
   "execution_count": 41,
   "id": "b4ab5d85",
   "metadata": {},
   "outputs": [],
   "source": [
    "dicionario = {'a': 'Data', 'b': 'Science', 'c': 'Pyton'}"
   ]
  },
  {
   "cell_type": "code",
   "execution_count": 42,
   "id": "3309c723",
   "metadata": {},
   "outputs": [],
   "source": [
    "serie_pandas = pd.Series(dicionario)"
   ]
  },
  {
   "cell_type": "code",
   "execution_count": 43,
   "id": "a3bae02d",
   "metadata": {},
   "outputs": [
    {
     "name": "stdout",
     "output_type": "stream",
     "text": [
      "a       Data\n",
      "b    Science\n",
      "c      Pyton\n",
      "dtype: object\n"
     ]
    }
   ],
   "source": [
    "print(serie_pandas)"
   ]
  },
  {
   "cell_type": "code",
   "execution_count": 44,
   "id": "b6b6fc83",
   "metadata": {},
   "outputs": [],
   "source": [
    "# Cria um array Numpy\n",
    "arr = np.random.randint(0, 10, size = 5)"
   ]
  },
  {
   "cell_type": "code",
   "execution_count": 45,
   "id": "3183dc49",
   "metadata": {},
   "outputs": [
    {
     "name": "stdout",
     "output_type": "stream",
     "text": [
      "[5 8 5 7 8]\n"
     ]
    }
   ],
   "source": [
    "print(arr)"
   ]
  },
  {
   "cell_type": "code",
   "execution_count": 46,
   "id": "409ca36f",
   "metadata": {},
   "outputs": [],
   "source": [
    "serie_pandas = pd.Series(arr)"
   ]
  },
  {
   "cell_type": "code",
   "execution_count": 47,
   "id": "984c8bf1",
   "metadata": {},
   "outputs": [
    {
     "name": "stdout",
     "output_type": "stream",
     "text": [
      "0    5\n",
      "1    8\n",
      "2    5\n",
      "3    7\n",
      "4    8\n",
      "dtype: int32\n"
     ]
    }
   ],
   "source": [
    "print(serie_pandas)"
   ]
  },
  {
   "cell_type": "code",
   "execution_count": 48,
   "id": "b6e3da77",
   "metadata": {},
   "outputs": [],
   "source": [
    "serie_pandas = pd.Series({1: 'data', 2: 'science'})"
   ]
  },
  {
   "cell_type": "code",
   "execution_count": 49,
   "id": "0c25065f",
   "metadata": {},
   "outputs": [
    {
     "data": {
      "text/plain": [
       "1       data\n",
       "2    science\n",
       "dtype: object"
      ]
     },
     "execution_count": 49,
     "metadata": {},
     "output_type": "execute_result"
    }
   ],
   "source": [
    "serie_pandas"
   ]
  },
  {
   "cell_type": "code",
   "execution_count": 50,
   "id": "6fb56ebc",
   "metadata": {},
   "outputs": [
    {
     "name": "stdout",
     "output_type": "stream",
     "text": [
      "data\n"
     ]
    }
   ],
   "source": [
    "print(serie_pandas[1])"
   ]
  },
  {
   "cell_type": "code",
   "execution_count": 51,
   "id": "8f855e59",
   "metadata": {},
   "outputs": [],
   "source": [
    "serie_pandas = pd.Series([1, 2, 3, 4, 5])"
   ]
  },
  {
   "cell_type": "code",
   "execution_count": 52,
   "id": "ad7b0658",
   "metadata": {},
   "outputs": [
    {
     "name": "stdout",
     "output_type": "stream",
     "text": [
      "0    1\n",
      "1    2\n",
      "2    3\n",
      "3    4\n",
      "4    5\n",
      "dtype: int64\n"
     ]
    }
   ],
   "source": [
    "print(serie_pandas)"
   ]
  },
  {
   "cell_type": "code",
   "execution_count": 53,
   "id": "2d32d006",
   "metadata": {},
   "outputs": [],
   "source": [
    "serie_pandas = pd.Series([1, 2, 3, 4, 5], dtype = 'float')"
   ]
  },
  {
   "cell_type": "code",
   "execution_count": 54,
   "id": "d5b05404",
   "metadata": {},
   "outputs": [
    {
     "name": "stdout",
     "output_type": "stream",
     "text": [
      "0    1.0\n",
      "1    2.0\n",
      "2    3.0\n",
      "3    4.0\n",
      "4    5.0\n",
      "dtype: float64\n"
     ]
    }
   ],
   "source": [
    "print(serie_pandas)"
   ]
  },
  {
   "cell_type": "code",
   "execution_count": 55,
   "id": "bd618d44",
   "metadata": {},
   "outputs": [],
   "source": [
    "serie_pandas = pd.Series(['Azul', 'Amarelo', 'Azul', 'Branco', 'Branco', 'Verde', 'Azul'])"
   ]
  },
  {
   "cell_type": "code",
   "execution_count": 56,
   "id": "a88bbeb4",
   "metadata": {},
   "outputs": [
    {
     "name": "stdout",
     "output_type": "stream",
     "text": [
      "['Azul' 'Amarelo' 'Branco' 'Verde']\n"
     ]
    }
   ],
   "source": [
    "print(serie_pandas.unique())"
   ]
  },
  {
   "cell_type": "code",
   "execution_count": 57,
   "id": "33ccbaef",
   "metadata": {},
   "outputs": [
    {
     "name": "stdout",
     "output_type": "stream",
     "text": [
      "4\n"
     ]
    }
   ],
   "source": [
    "print(serie_pandas.nunique())"
   ]
  },
  {
   "cell_type": "code",
   "execution_count": 58,
   "id": "c633965f",
   "metadata": {},
   "outputs": [],
   "source": [
    "serie_pandas = pd.Series([201, 323, 17, 97, 43, 9, 26, 4])"
   ]
  },
  {
   "cell_type": "code",
   "execution_count": 59,
   "id": "ae767997",
   "metadata": {},
   "outputs": [
    {
     "name": "stdout",
     "output_type": "stream",
     "text": [
      "1    323\n",
      "0    201\n",
      "3     97\n",
      "dtype: int64\n"
     ]
    }
   ],
   "source": [
    "print(serie_pandas.nlargest(n = 3))"
   ]
  },
  {
   "cell_type": "code",
   "execution_count": 60,
   "id": "c67db53c",
   "metadata": {},
   "outputs": [
    {
     "name": "stdout",
     "output_type": "stream",
     "text": [
      "7    4\n",
      "5    9\n",
      "dtype: int64\n"
     ]
    }
   ],
   "source": [
    "print(serie_pandas.nsmallest(n = 2))"
   ]
  },
  {
   "cell_type": "code",
   "execution_count": 61,
   "id": "7326f243",
   "metadata": {},
   "outputs": [],
   "source": [
    "serie_pandas = pd.Series(['Azul', 'Amarelo', 'Azul', 'Branco', 'Branco', 'Verde', 'Azul'])"
   ]
  },
  {
   "cell_type": "code",
   "execution_count": 63,
   "id": "eae0d1fd",
   "metadata": {},
   "outputs": [
    {
     "name": "stdout",
     "output_type": "stream",
     "text": [
      "Azul       3\n",
      "Branco     2\n",
      "Amarelo    1\n",
      "Verde      1\n",
      "dtype: int64\n"
     ]
    }
   ],
   "source": [
    "print(serie_pandas.value_counts())"
   ]
  },
  {
   "cell_type": "code",
   "execution_count": 64,
   "id": "0e270253",
   "metadata": {},
   "outputs": [],
   "source": [
    "serie_pandas = pd.Series([1, 2, 3, np.nan, np.nan])"
   ]
  },
  {
   "cell_type": "code",
   "execution_count": 65,
   "id": "cbfb92a0",
   "metadata": {},
   "outputs": [
    {
     "name": "stdout",
     "output_type": "stream",
     "text": [
      "0    False\n",
      "1    False\n",
      "2    False\n",
      "3     True\n",
      "4     True\n",
      "dtype: bool\n"
     ]
    }
   ],
   "source": [
    "print(serie_pandas.isna())"
   ]
  },
  {
   "cell_type": "code",
   "execution_count": 67,
   "id": "d996e796",
   "metadata": {},
   "outputs": [
    {
     "name": "stdout",
     "output_type": "stream",
     "text": [
      "2\n"
     ]
    }
   ],
   "source": [
    "print(serie_pandas.isna().sum())"
   ]
  },
  {
   "cell_type": "code",
   "execution_count": 68,
   "id": "159787fe",
   "metadata": {},
   "outputs": [
    {
     "name": "stdout",
     "output_type": "stream",
     "text": [
      "3\n"
     ]
    }
   ],
   "source": [
    "print(serie_pandas.count())"
   ]
  },
  {
   "cell_type": "code",
   "execution_count": 69,
   "id": "ce14171e",
   "metadata": {},
   "outputs": [],
   "source": [
    "serie_pandas = pd.Series([1, 2, 3, 4])"
   ]
  },
  {
   "cell_type": "code",
   "execution_count": 70,
   "id": "e31fce18",
   "metadata": {},
   "outputs": [
    {
     "name": "stdout",
     "output_type": "stream",
     "text": [
      "0    False\n",
      "1    False\n",
      "2     True\n",
      "3    False\n",
      "dtype: bool\n"
     ]
    }
   ],
   "source": [
    "print(serie_pandas.eq(3))"
   ]
  },
  {
   "cell_type": "code",
   "execution_count": 71,
   "id": "bae8bbfc",
   "metadata": {},
   "outputs": [
    {
     "name": "stdout",
     "output_type": "stream",
     "text": [
      "0    False\n",
      "1    False\n",
      "2     True\n",
      "3     True\n",
      "dtype: bool\n"
     ]
    }
   ],
   "source": [
    "print(serie_pandas.gt(2))"
   ]
  },
  {
   "cell_type": "code",
   "execution_count": 73,
   "id": "c28f6bc4",
   "metadata": {},
   "outputs": [],
   "source": [
    "serie_pandas = pd.Series([56, 34, 68, 21, 49])"
   ]
  },
  {
   "cell_type": "code",
   "execution_count": 74,
   "id": "ce3cfd69",
   "metadata": {},
   "outputs": [
    {
     "name": "stdout",
     "output_type": "stream",
     "text": [
      "45.6\n"
     ]
    }
   ],
   "source": [
    "print(serie_pandas.mean())"
   ]
  },
  {
   "cell_type": "code",
   "execution_count": 76,
   "id": "51ed4a1c",
   "metadata": {},
   "outputs": [
    {
     "name": "stdout",
     "output_type": "stream",
     "text": [
      "mean       45.6\n",
      "median     49.0\n",
      "sum       228.0\n",
      "count       5.0\n",
      "dtype: float64\n"
     ]
    }
   ],
   "source": [
    "print(serie_pandas.agg(['mean', 'median', 'sum', 'count']))"
   ]
  },
  {
   "cell_type": "markdown",
   "id": "ec008331",
   "metadata": {},
   "source": [
    "# Fim"
   ]
  }
 ],
 "metadata": {
  "kernelspec": {
   "display_name": "Python 3 (ipykernel)",
   "language": "python",
   "name": "python3"
  },
  "language_info": {
   "codemirror_mode": {
    "name": "ipython",
    "version": 3
   },
   "file_extension": ".py",
   "mimetype": "text/x-python",
   "name": "python",
   "nbconvert_exporter": "python",
   "pygments_lexer": "ipython3",
   "version": "3.9.13"
  }
 },
 "nbformat": 4,
 "nbformat_minor": 5
}
