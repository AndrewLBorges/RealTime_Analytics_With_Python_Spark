{
 "cells": [
  {
   "cell_type": "markdown",
   "id": "e1044612",
   "metadata": {},
   "source": [
    "# <font color='blue'>Big Data Real-Time Analytics com Python e Spark</font>\n",
    "\n",
    "# <font color='blue'>Capítulo 7</font>"
   ]
  },
  {
   "cell_type": "code",
   "execution_count": 1,
   "id": "45186bf3",
   "metadata": {},
   "outputs": [
    {
     "name": "stdout",
     "output_type": "stream",
     "text": [
      "Versão da Linguagem Python Usada Neste Jupyter Notebook: 3.9.13\n"
     ]
    }
   ],
   "source": [
    "# Versão da Linguagem Python\n",
    "from platform import python_version\n",
    "print('Versão da Linguagem Python Usada Neste Jupyter Notebook:', python_version())"
   ]
  },
  {
   "cell_type": "code",
   "execution_count": 2,
   "id": "1c104e5b",
   "metadata": {},
   "outputs": [],
   "source": [
    "# Para atualizar um pacote, execute o comando abaixo no terminal ou prompt de comando:\n",
    "# pip install -U nome_pacote\n",
    "\n",
    "# Para instalar a versão exata de um pacote, execute o comando abaixo no terminal ou prompt de comando:\n",
    "#!pip install nome_pacote==versão_desejada\n",
    "\n",
    "# Depois de instalar ou atualizar o pacote, reinicie o jupyter notebook.\n",
    "\n",
    "# Instala o pacote watermark. \n",
    "# Esse pacote é usado para gravar as versões de outros pacotes usados neste jupyter notebook.\n",
    "# !pip install -q -U watermark"
   ]
  },
  {
   "cell_type": "markdown",
   "id": "11574154",
   "metadata": {},
   "source": [
    "## Distribuição de Frequência\n"
   ]
  },
  {
   "cell_type": "markdown",
   "id": "81f65e8e",
   "metadata": {},
   "source": [
    "O instrutor da DSA coletou as notas de todos os alunos na avaliação final do curso de Machine Learning. O instrutor gostaria de tabular os dados a fim de extrair insights e compreender como os dados estão organizados. Crie uma distribuição de frequência para ajudar o instrutor."
   ]
  },
  {
   "cell_type": "code",
   "execution_count": 3,
   "id": "e2bf4f3f",
   "metadata": {},
   "outputs": [],
   "source": [
    "# Imports\n",
    "import pandas as pd"
   ]
  },
  {
   "cell_type": "code",
   "execution_count": 4,
   "id": "718b82f6",
   "metadata": {},
   "outputs": [],
   "source": [
    "# Lista de notas de alunos na avaliação final do curso de Machine Learning\n",
    "notas_alunos = [92, 81, 100, 92, 71, 73, 100, 92, 84, 100, 73, 92, 73, 84, 92, 92, 92, 84, 73, 100]"
   ]
  },
  {
   "cell_type": "code",
   "execution_count": 5,
   "id": "16abec02",
   "metadata": {},
   "outputs": [
    {
     "data": {
      "text/plain": [
       "20"
      ]
     },
     "execution_count": 5,
     "metadata": {},
     "output_type": "execute_result"
    }
   ],
   "source": [
    "len(notas_alunos)"
   ]
  },
  {
   "cell_type": "markdown",
   "id": "9d00062e",
   "metadata": {},
   "source": [
    "## Solução com Series em Pandas"
   ]
  },
  {
   "cell_type": "code",
   "execution_count": 6,
   "id": "1f8a0c94",
   "metadata": {},
   "outputs": [],
   "source": [
    "# Cria uma série com notas e frequências (contagens por nota)\n",
    "df1 = pd.Series(notas_alunos).value_counts().reset_index().sort_values('index').reset_index(drop = True)"
   ]
  },
  {
   "cell_type": "code",
   "execution_count": 7,
   "id": "96e7d0e2",
   "metadata": {},
   "outputs": [
    {
     "data": {
      "text/plain": [
       "pandas.core.frame.DataFrame"
      ]
     },
     "execution_count": 7,
     "metadata": {},
     "output_type": "execute_result"
    }
   ],
   "source": [
    "type(df1)"
   ]
  },
  {
   "cell_type": "code",
   "execution_count": 9,
   "id": "4763bc01",
   "metadata": {},
   "outputs": [],
   "source": [
    "# Altera os nomes das colunas\n",
    "df1.columns = ['Nota', 'Frequencia']"
   ]
  },
  {
   "cell_type": "code",
   "execution_count": 10,
   "id": "c4d2a811",
   "metadata": {},
   "outputs": [
    {
     "name": "stdout",
     "output_type": "stream",
     "text": [
      "   Nota  Frequencia\n",
      "0    71           1\n",
      "1    73           4\n",
      "2    81           1\n",
      "3    84           3\n",
      "4    92           7\n",
      "5   100           4\n"
     ]
    }
   ],
   "source": [
    "print(df1)"
   ]
  },
  {
   "cell_type": "code",
   "execution_count": 11,
   "id": "1900e3d8",
   "metadata": {},
   "outputs": [
    {
     "name": "stdout",
     "output_type": "stream",
     "text": [
      "               Nota  Frequencia\n",
      "0   (70.97, 80.667]           5\n",
      "1  (80.667, 90.333]           4\n",
      "2   (90.333, 100.0]          11\n"
     ]
    }
   ],
   "source": [
    "# Série com notas e frequências, alterando a quantidade de classes\n",
    "df1 = pd.Series(notas_alunos).value_counts(bins = 3).reset_index().sort_values('index').reset_index(drop=True)\n",
    "df1.columns = ['Nota', 'Frequencia']\n",
    "print(df1)"
   ]
  },
  {
   "cell_type": "markdown",
   "id": "61743d90",
   "metadata": {},
   "source": [
    "## Solução com Dataframes em Pandas"
   ]
  },
  {
   "cell_type": "markdown",
   "id": "984a7141",
   "metadata": {},
   "source": [
    "### Distribuição de Frequência Simples ou Absoluta - fi\n",
    "\n",
    "São os valores representam o número de dados de cada classe. A soma das frequências simples é igual ao número total dos dados."
   ]
  },
  {
   "cell_type": "code",
   "execution_count": 12,
   "id": "9428c81d",
   "metadata": {},
   "outputs": [
    {
     "name": "stdout",
     "output_type": "stream",
     "text": [
      "      fi\n",
      "Nota    \n",
      "71     1\n",
      "73     4\n",
      "81     1\n",
      "84     3\n",
      "92     7\n",
      "100    4\n"
     ]
    }
   ],
   "source": [
    "df2 = pd.value_counts(notas_alunos).to_frame(name = 'fi').rename_axis('Nota').sort_index()\n",
    "print(df2)"
   ]
  },
  {
   "cell_type": "markdown",
   "id": "91e77a25",
   "metadata": {},
   "source": [
    "### Distribuição de Frequência Relativa Simples - fri\n",
    "\n",
    "Permite visualizar os valores das razões entre as Frequências Simples e Frequência Total."
   ]
  },
  {
   "cell_type": "code",
   "execution_count": 13,
   "id": "3b0f0cfc",
   "metadata": {},
   "outputs": [
    {
     "name": "stdout",
     "output_type": "stream",
     "text": [
      "      fi   fri\n",
      "Nota          \n",
      "71     1  0.05\n",
      "73     4  0.20\n",
      "81     1  0.05\n",
      "84     3  0.15\n",
      "92     7  0.35\n",
      "100    4  0.20\n"
     ]
    }
   ],
   "source": [
    "df2['fri'] = pd.value_counts(notas_alunos) / len(notas_alunos)\n",
    "print(df2)"
   ]
  },
  {
   "cell_type": "markdown",
   "id": "0f0043cd",
   "metadata": {},
   "source": [
    "### Distribuição de Frequência Acumulada - Fi\n",
    "\n",
    "Permite visualizar o total das Frequências de todos os valores inferiores superior do intervalo de uma dada classe."
   ]
  },
  {
   "cell_type": "code",
   "execution_count": 15,
   "id": "7149da1f",
   "metadata": {},
   "outputs": [
    {
     "name": "stdout",
     "output_type": "stream",
     "text": [
      "      fi   fri  Fi\n",
      "Nota              \n",
      "71     1  0.05   1\n",
      "73     4  0.20   5\n",
      "81     1  0.05   6\n",
      "84     3  0.15   9\n",
      "92     7  0.35  16\n",
      "100    4  0.20  20\n"
     ]
    }
   ],
   "source": [
    "df2['Fi'] = df2.fi.cumsum()\n",
    "print(df2)"
   ]
  },
  {
   "cell_type": "markdown",
   "id": "c2722e8c",
   "metadata": {},
   "source": [
    "### Distribuição de Frequência Relativa Acumulada - Fri\n",
    "\n",
    "Permite visualizar a frequência acumulada da classe, dividida pela frequência total da distribuição."
   ]
  },
  {
   "cell_type": "code",
   "execution_count": 16,
   "id": "3cff30b0",
   "metadata": {},
   "outputs": [
    {
     "name": "stdout",
     "output_type": "stream",
     "text": [
      "      fi   fri  Fi   Fri\n",
      "Nota                    \n",
      "71     1  0.05   1  0.05\n",
      "73     4  0.20   5  0.25\n",
      "81     1  0.05   6  0.30\n",
      "84     3  0.15   9  0.45\n",
      "92     7  0.35  16  0.80\n",
      "100    4  0.20  20  1.00\n"
     ]
    }
   ],
   "source": [
    "df2['Fri'] = df2.fi.cumsum() / len(notas_alunos)\n",
    "print(df2)"
   ]
  },
  {
   "cell_type": "code",
   "execution_count": 17,
   "id": "67c72ee7",
   "metadata": {},
   "outputs": [
    {
     "name": "stdout",
     "output_type": "stream",
     "text": [
      "Author: Andrew Borges\n",
      "\n",
      "pandas: 1.5.3\n",
      "\n"
     ]
    }
   ],
   "source": [
    "# Versões dos pacotes usados neste jupyter notebook\n",
    "%reload_ext watermark\n",
    "%watermark -a \"Andrew Borges\" --iversions"
   ]
  },
  {
   "cell_type": "markdown",
   "id": "df7a48fd",
   "metadata": {},
   "source": [
    "# Fim"
   ]
  }
 ],
 "metadata": {
  "kernelspec": {
   "display_name": "Python 3 (ipykernel)",
   "language": "python",
   "name": "python3"
  },
  "language_info": {
   "codemirror_mode": {
    "name": "ipython",
    "version": 3
   },
   "file_extension": ".py",
   "mimetype": "text/x-python",
   "name": "python",
   "nbconvert_exporter": "python",
   "pygments_lexer": "ipython3",
   "version": "3.9.13"
  }
 },
 "nbformat": 4,
 "nbformat_minor": 5
}
