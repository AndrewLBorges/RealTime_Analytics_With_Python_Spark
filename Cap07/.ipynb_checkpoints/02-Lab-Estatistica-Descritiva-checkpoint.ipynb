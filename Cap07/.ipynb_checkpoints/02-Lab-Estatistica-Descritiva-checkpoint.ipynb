{
 "cells": [
  {
   "cell_type": "markdown",
   "id": "df413461",
   "metadata": {},
   "source": [
    "# <font color='blue'>Big Data Real-Time Analytics com Python e Spark</font>\n",
    "\n",
    "# <font color='blue'>Capítulo 7</font>"
   ]
  },
  {
   "cell_type": "code",
   "execution_count": 1,
   "id": "bc16b201",
   "metadata": {},
   "outputs": [
    {
     "name": "stdout",
     "output_type": "stream",
     "text": [
      "Versão da Linguagem Python Usada Neste Jupyter Notebook: 3.9.13\n"
     ]
    }
   ],
   "source": [
    "# Versão da Linguagem Python\n",
    "from platform import python_version\n",
    "print('Versão da Linguagem Python Usada Neste Jupyter Notebook:', python_version())"
   ]
  },
  {
   "cell_type": "code",
   "execution_count": 2,
   "id": "033ae14c",
   "metadata": {},
   "outputs": [],
   "source": [
    "# Para atualizar um pacote, execute o comando abaixo no terminal ou prompt de comando:\n",
    "# pip install -U nome_pacote\n",
    "\n",
    "# Para instalar a versão exata de um pacote, execute o comando abaixo no terminal ou prompt de comando:\n",
    "#!pip install nome_pacote==versão_desejada\n",
    "\n",
    "# Depois de instalar ou atualizar o pacote, reinicie o jupyter notebook.\n",
    "\n",
    "# Instala o pacote watermark. \n",
    "# Esse pacote é usado para gravar as versões de outros pacotes usados neste jupyter notebook.\n",
    "# !pip install -q -U watermark"
   ]
  },
  {
   "cell_type": "markdown",
   "id": "e0686780",
   "metadata": {},
   "source": [
    "## Estatística Descritiva"
   ]
  },
  {
   "cell_type": "code",
   "execution_count": 3,
   "id": "8de78346",
   "metadata": {},
   "outputs": [],
   "source": [
    "# Imports\n",
    "import pandas as pd\n",
    "import matplotlib.pyplot as plt\n",
    "%matplotlib inline"
   ]
  },
  {
   "cell_type": "code",
   "execution_count": 4,
   "id": "57d48a98",
   "metadata": {},
   "outputs": [],
   "source": [
    "# Dicionário de notas de alunos\n",
    "notas = {'idade': [22, 23, 26, 24, 23, 25, 28, 23, 18, 21, 22, 25, 27, 24, 22, 25, 27, 23, 19, 22],\n",
    "         'teste': [41, 50, 61, 70, 80, 79, 82, 87, 90, 93, 42, 52, 64, 71, 81, 78, 83, 84, 91, 94],\n",
    "         'prova_final': [45, 57, 68, 81, 81, 82, 85, 92, 93, 98, 46, 58, 69, 80, 83, 84, 87, 94, 95, 97]}"
   ]
  },
  {
   "cell_type": "code",
   "execution_count": 7,
   "id": "551ea699",
   "metadata": {},
   "outputs": [],
   "source": [
    "# Converte o dicionário para dataframe e ajusta o nome das colunas\n",
    "df = pd.DataFrame(notas, columns = ['idade', 'teste', 'prova_final'])"
   ]
  },
  {
   "cell_type": "code",
   "execution_count": 8,
   "id": "1d2b9d74",
   "metadata": {},
   "outputs": [
    {
     "name": "stdout",
     "output_type": "stream",
     "text": [
      "    idade  teste  prova_final\n",
      "0      22     41           45\n",
      "1      23     50           57\n",
      "2      26     61           68\n",
      "3      24     70           81\n",
      "4      23     80           81\n",
      "5      25     79           82\n",
      "6      28     82           85\n",
      "7      23     87           92\n",
      "8      18     90           93\n",
      "9      21     93           98\n",
      "10     22     42           46\n",
      "11     25     52           58\n",
      "12     27     64           69\n",
      "13     24     71           80\n",
      "14     22     81           83\n",
      "15     25     78           84\n",
      "16     27     83           87\n",
      "17     23     84           94\n",
      "18     19     91           95\n",
      "19     22     94           97\n"
     ]
    }
   ],
   "source": [
    "print(df)"
   ]
  },
  {
   "cell_type": "code",
   "execution_count": 9,
   "id": "e4e7aa65",
   "metadata": {},
   "outputs": [
    {
     "name": "stdout",
     "output_type": "stream",
     "text": [
      "<class 'pandas.core.frame.DataFrame'>\n",
      "RangeIndex: 20 entries, 0 to 19\n",
      "Data columns (total 3 columns):\n",
      " #   Column       Non-Null Count  Dtype\n",
      "---  ------       --------------  -----\n",
      " 0   idade        20 non-null     int64\n",
      " 1   teste        20 non-null     int64\n",
      " 2   prova_final  20 non-null     int64\n",
      "dtypes: int64(3)\n",
      "memory usage: 608.0 bytes\n"
     ]
    }
   ],
   "source": [
    "# Verifica os tipos de dados\n",
    "df.info()"
   ]
  },
  {
   "cell_type": "code",
   "execution_count": 10,
   "id": "451e8344",
   "metadata": {},
   "outputs": [
    {
     "data": {
      "text/html": [
       "<div>\n",
       "<style scoped>\n",
       "    .dataframe tbody tr th:only-of-type {\n",
       "        vertical-align: middle;\n",
       "    }\n",
       "\n",
       "    .dataframe tbody tr th {\n",
       "        vertical-align: top;\n",
       "    }\n",
       "\n",
       "    .dataframe thead th {\n",
       "        text-align: right;\n",
       "    }\n",
       "</style>\n",
       "<table border=\"1\" class=\"dataframe\">\n",
       "  <thead>\n",
       "    <tr style=\"text-align: right;\">\n",
       "      <th></th>\n",
       "      <th>idade</th>\n",
       "      <th>teste</th>\n",
       "      <th>prova_final</th>\n",
       "    </tr>\n",
       "  </thead>\n",
       "  <tbody>\n",
       "    <tr>\n",
       "      <th>count</th>\n",
       "      <td>20.000000</td>\n",
       "      <td>20.000000</td>\n",
       "      <td>20.000000</td>\n",
       "    </tr>\n",
       "    <tr>\n",
       "      <th>mean</th>\n",
       "      <td>23.450000</td>\n",
       "      <td>73.650000</td>\n",
       "      <td>78.750000</td>\n",
       "    </tr>\n",
       "    <tr>\n",
       "      <th>std</th>\n",
       "      <td>2.564433</td>\n",
       "      <td>16.718332</td>\n",
       "      <td>16.351002</td>\n",
       "    </tr>\n",
       "    <tr>\n",
       "      <th>min</th>\n",
       "      <td>18.000000</td>\n",
       "      <td>41.000000</td>\n",
       "      <td>45.000000</td>\n",
       "    </tr>\n",
       "    <tr>\n",
       "      <th>25%</th>\n",
       "      <td>22.000000</td>\n",
       "      <td>63.250000</td>\n",
       "      <td>68.750000</td>\n",
       "    </tr>\n",
       "    <tr>\n",
       "      <th>50%</th>\n",
       "      <td>23.000000</td>\n",
       "      <td>79.500000</td>\n",
       "      <td>82.500000</td>\n",
       "    </tr>\n",
       "    <tr>\n",
       "      <th>75%</th>\n",
       "      <td>25.000000</td>\n",
       "      <td>84.750000</td>\n",
       "      <td>92.250000</td>\n",
       "    </tr>\n",
       "    <tr>\n",
       "      <th>max</th>\n",
       "      <td>28.000000</td>\n",
       "      <td>94.000000</td>\n",
       "      <td>98.000000</td>\n",
       "    </tr>\n",
       "  </tbody>\n",
       "</table>\n",
       "</div>"
      ],
      "text/plain": [
       "           idade      teste  prova_final\n",
       "count  20.000000  20.000000    20.000000\n",
       "mean   23.450000  73.650000    78.750000\n",
       "std     2.564433  16.718332    16.351002\n",
       "min    18.000000  41.000000    45.000000\n",
       "25%    22.000000  63.250000    68.750000\n",
       "50%    23.000000  79.500000    82.500000\n",
       "75%    25.000000  84.750000    92.250000\n",
       "max    28.000000  94.000000    98.000000"
      ]
     },
     "execution_count": 10,
     "metadata": {},
     "output_type": "execute_result"
    }
   ],
   "source": [
    "# Descrição de cada variável\n",
    "df.describe()"
   ]
  },
  {
   "cell_type": "code",
   "execution_count": 11,
   "id": "cd01b1f6",
   "metadata": {},
   "outputs": [
    {
     "data": {
      "text/plain": [
       "count    20.000000\n",
       "mean     78.750000\n",
       "std      16.351002\n",
       "min      45.000000\n",
       "25%      68.750000\n",
       "50%      82.500000\n",
       "75%      92.250000\n",
       "max      98.000000\n",
       "Name: prova_final, dtype: float64"
      ]
     },
     "execution_count": 11,
     "metadata": {},
     "output_type": "execute_result"
    }
   ],
   "source": [
    "# Descrição da variável 'prova_final'\n",
    "df['prova_final'].describe()"
   ]
  },
  {
   "cell_type": "code",
   "execution_count": 12,
   "id": "371bbf60",
   "metadata": {},
   "outputs": [
    {
     "data": {
      "text/plain": [
       "78.75"
      ]
     },
     "execution_count": 12,
     "metadata": {},
     "output_type": "execute_result"
    }
   ],
   "source": [
    "# Média\n",
    "df['prova_final'].mean()"
   ]
  },
  {
   "cell_type": "code",
   "execution_count": 13,
   "id": "6d462305",
   "metadata": {},
   "outputs": [
    {
     "data": {
      "text/plain": [
       "82.5"
      ]
     },
     "execution_count": 13,
     "metadata": {},
     "output_type": "execute_result"
    }
   ],
   "source": [
    "# Mediana\n",
    "df['prova_final'].median()"
   ]
  },
  {
   "cell_type": "code",
   "execution_count": 14,
   "id": "56953ab9",
   "metadata": {},
   "outputs": [
    {
     "data": {
      "text/plain": [
       "0    81\n",
       "Name: prova_final, dtype: int64"
      ]
     },
     "execution_count": 14,
     "metadata": {},
     "output_type": "execute_result"
    }
   ],
   "source": [
    "# Moda\n",
    "df['prova_final'].mode()"
   ]
  },
  {
   "cell_type": "code",
   "execution_count": 15,
   "id": "97b2d7de",
   "metadata": {},
   "outputs": [
    {
     "data": {
      "text/plain": [
       "81"
      ]
     },
     "execution_count": 15,
     "metadata": {},
     "output_type": "execute_result"
    }
   ],
   "source": [
    "# Moda\n",
    "from statistics import mode\n",
    "mode(df['prova_final'])"
   ]
  },
  {
   "cell_type": "code",
   "execution_count": 16,
   "id": "52544d72",
   "metadata": {},
   "outputs": [
    {
     "data": {
      "text/plain": [
       "20"
      ]
     },
     "execution_count": 16,
     "metadata": {},
     "output_type": "execute_result"
    }
   ],
   "source": [
    "# Contagem\n",
    "df['prova_final'].count()"
   ]
  },
  {
   "cell_type": "code",
   "execution_count": 17,
   "id": "3ec56776",
   "metadata": {},
   "outputs": [
    {
     "data": {
      "text/plain": [
       "45"
      ]
     },
     "execution_count": 17,
     "metadata": {},
     "output_type": "execute_result"
    }
   ],
   "source": [
    "# Valor mínimo\n",
    "df['prova_final'].min()"
   ]
  },
  {
   "cell_type": "code",
   "execution_count": 18,
   "id": "d6bac8dc",
   "metadata": {},
   "outputs": [
    {
     "data": {
      "text/plain": [
       "98"
      ]
     },
     "execution_count": 18,
     "metadata": {},
     "output_type": "execute_result"
    }
   ],
   "source": [
    "# Valor máximo\n",
    "df['prova_final'].max()"
   ]
  },
  {
   "cell_type": "code",
   "execution_count": 19,
   "id": "10f8e749",
   "metadata": {},
   "outputs": [
    {
     "data": {
      "text/plain": [
       "267.35526315789474"
      ]
     },
     "execution_count": 19,
     "metadata": {},
     "output_type": "execute_result"
    }
   ],
   "source": [
    "# Variância\n",
    "df['prova_final'].var()"
   ]
  },
  {
   "cell_type": "code",
   "execution_count": 20,
   "id": "915a6c6f",
   "metadata": {},
   "outputs": [
    {
     "data": {
      "text/plain": [
       "16.351001900736687"
      ]
     },
     "execution_count": 20,
     "metadata": {},
     "output_type": "execute_result"
    }
   ],
   "source": [
    "# Desvio padrão\n",
    "df['prova_final'].std()"
   ]
  },
  {
   "cell_type": "code",
   "execution_count": 21,
   "id": "6b107eae",
   "metadata": {},
   "outputs": [
    {
     "data": {
      "text/plain": [
       "-0.9044022716005735"
      ]
     },
     "execution_count": 21,
     "metadata": {},
     "output_type": "execute_result"
    }
   ],
   "source": [
    "# Skewness (assimetria)\n",
    "df['prova_final'].skew()"
   ]
  },
  {
   "cell_type": "markdown",
   "id": "9635c536",
   "metadata": {},
   "source": [
    "Geralmente, os dados e um determinado conjunto de dados não são distribuídos uniformemente em torno da média de dados em uma curva de distribuição normal. Um conjunto de dados negativamente assimétrico tem sua cauda estendida para a esquerda. É uma indicação de que a média é menor que a moda do conjunto de dados. Em suma, é a medida do grau de assimetria dos dados em torno de sua média.\n",
    "\n",
    "A assimetria é a medida em que os dados não são simétricos. Valores de assimetria iguais a zero, positivos ou negativos revelam informações sobre a forma dos dados.\n",
    "\n",
    "Um conjunto de dados negativamente assimétrico não tem uma curva de sino. Mais dados são concentrados no lado direito do eixo."
   ]
  },
  {
   "cell_type": "markdown",
   "id": "1de93acc",
   "metadata": {},
   "source": [
    "![title](imagens/skewness.png)"
   ]
  },
  {
   "cell_type": "code",
   "execution_count": 23,
   "id": "63d79257",
   "metadata": {},
   "outputs": [
    {
     "data": {
      "image/png": "[encoded data removed]",
      "text/plain": [
       "<Figure size 640x480 with 1 Axes>"
      ]
     },
     "metadata": {},
     "output_type": "display_data"
    }
   ],
   "source": [
    "# Histograma da variável prova final\n",
    "dados = df['prova_final']\n",
    "num_bins = 5\n",
    "plt.hist(dados, num_bins, facecolor = 'green', alpha = 0.5)\n",
    "plt.show()"
   ]
  },
  {
   "cell_type": "code",
   "execution_count": 24,
   "id": "07b9d303",
   "metadata": {},
   "outputs": [
    {
     "data": {
      "text/plain": [
       "-0.1728269349359346"
      ]
     },
     "execution_count": 24,
     "metadata": {},
     "output_type": "execute_result"
    }
   ],
   "source": [
    "# Kurtosis (curtose)\n",
    "df['prova_final'].kurt()"
   ]
  },
  {
   "cell_type": "markdown",
   "id": "6a6527dd",
   "metadata": {},
   "source": [
    "A curtose indica como as caudas de uma distribuição diferem da distribuição normal. Use curtose para ajudar você a entender inicialmente as características gerais sobre a distribuição de seus dados.\n",
    "\n",
    "Uma curtose negativa significa que su distribuição é mais plana que uma curva normal com a mesma média e desvio padrão."
   ]
  },
  {
   "cell_type": "markdown",
   "id": "4824d780",
   "metadata": {},
   "source": [
    "![title](imagens/Kurtosis.png)"
   ]
  },
  {
   "cell_type": "code",
   "execution_count": 25,
   "id": "eebf99c8",
   "metadata": {},
   "outputs": [
    {
     "data": {
      "text/html": [
       "<div>\n",
       "<style scoped>\n",
       "    .dataframe tbody tr th:only-of-type {\n",
       "        vertical-align: middle;\n",
       "    }\n",
       "\n",
       "    .dataframe tbody tr th {\n",
       "        vertical-align: top;\n",
       "    }\n",
       "\n",
       "    .dataframe thead th {\n",
       "        text-align: right;\n",
       "    }\n",
       "</style>\n",
       "<table border=\"1\" class=\"dataframe\">\n",
       "  <thead>\n",
       "    <tr style=\"text-align: right;\">\n",
       "      <th></th>\n",
       "      <th>idade</th>\n",
       "      <th>teste</th>\n",
       "      <th>prova_final</th>\n",
       "    </tr>\n",
       "  </thead>\n",
       "  <tbody>\n",
       "    <tr>\n",
       "      <th>idade</th>\n",
       "      <td>1.000000</td>\n",
       "      <td>-0.222014</td>\n",
       "      <td>-0.199262</td>\n",
       "    </tr>\n",
       "    <tr>\n",
       "      <th>teste</th>\n",
       "      <td>-0.222014</td>\n",
       "      <td>1.000000</td>\n",
       "      <td>0.987559</td>\n",
       "    </tr>\n",
       "    <tr>\n",
       "      <th>prova_final</th>\n",
       "      <td>-0.199262</td>\n",
       "      <td>0.987559</td>\n",
       "      <td>1.000000</td>\n",
       "    </tr>\n",
       "  </tbody>\n",
       "</table>\n",
       "</div>"
      ],
      "text/plain": [
       "                idade     teste  prova_final\n",
       "idade        1.000000 -0.222014    -0.199262\n",
       "teste       -0.222014  1.000000     0.987559\n",
       "prova_final -0.199262  0.987559     1.000000"
      ]
     },
     "execution_count": 25,
     "metadata": {},
     "output_type": "execute_result"
    }
   ],
   "source": [
    "# Correlação\n",
    "df.corr()"
   ]
  },
  {
   "cell_type": "code",
   "execution_count": 26,
   "id": "c254879e",
   "metadata": {},
   "outputs": [
    {
     "data": {
      "image/png": "[encoded data removed]",
      "text/plain": [
       "<Figure size 640x480 with 1 Axes>"
      ]
     },
     "metadata": {},
     "output_type": "display_data"
    }
   ],
   "source": [
    "# Gráfico de Dispersão\n",
    "\n",
    "# Valores de x e y\n",
    "x = df['teste']\n",
    "y = df['prova_final']\n",
    "\n",
    "# Plot\n",
    "plt.scatter(x, y, alpha = 0.5)\n",
    "plt.title('Teste x Prova Final')\n",
    "plt.xlabel('Teste')\n",
    "plt.ylabel('Prova Final')\n",
    "plt.show()"
   ]
  },
  {
   "cell_type": "markdown",
   "id": "923283c4",
   "metadata": {},
   "source": [
    "**ATENÇÃO:** Correlação não implica causalidade."
   ]
  },
  {
   "cell_type": "code",
   "execution_count": 29,
   "id": "a28d85d8",
   "metadata": {},
   "outputs": [
    {
     "name": "stdout",
     "output_type": "stream",
     "text": [
      "Author: Andrew Borges\n",
      "\n",
      "matplotlib: 3.5.2\n",
      "pandas    : 1.5.3\n",
      "\n"
     ]
    }
   ],
   "source": [
    "# Versões dos pacotes usados neste jupyter notebook\n",
    "%reload_ext watermark\n",
    "%watermark -a \"Andrew Borges\" --iversions"
   ]
  },
  {
   "cell_type": "markdown",
   "id": "ac1644ba",
   "metadata": {},
   "source": [
    "# Fim"
   ]
  }
 ],
 "metadata": {
  "kernelspec": {
   "display_name": "Python 3 (ipykernel)",
   "language": "python",
   "name": "python3"
  },
  "language_info": {
   "codemirror_mode": {
    "name": "ipython",
    "version": 3
   },
   "file_extension": ".py",
   "mimetype": "text/x-python",
   "name": "python",
   "nbconvert_exporter": "python",
   "pygments_lexer": "ipython3",
   "version": "3.9.13"
  }
 },
 "nbformat": 4,
 "nbformat_minor": 5
}
