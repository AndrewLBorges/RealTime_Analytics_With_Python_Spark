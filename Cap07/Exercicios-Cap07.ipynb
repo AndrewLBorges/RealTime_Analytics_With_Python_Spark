{
 "cells": [
  {
   "cell_type": "markdown",
   "id": "cbc7e7e2",
   "metadata": {},
   "source": [
    "# <font color='blue'>Big Data Real-Time Analytics com Python e Spark</font>\n",
    "\n",
    "## <font color='blue'>Exercícios do Capítulo 7</font>"
   ]
  },
  {
   "cell_type": "markdown",
   "id": "289211b6",
   "metadata": {},
   "source": [
    "O objetivo destes exercícios é desenvolver suas habilidades de programação ao mesmo tempo que pratica alguns dos principais conceitos de Estatística Descritiva. \n",
    "\n",
    "Uma parte do código está preenchida para você. A solução será apresentada no começo do próximo capítulo."
   ]
  },
  {
   "cell_type": "code",
   "execution_count": 1,
   "id": "95bbb2fa",
   "metadata": {},
   "outputs": [
    {
     "name": "stdout",
     "output_type": "stream",
     "text": [
      "Versão da Linguagem Python Usada Neste Jupyter Notebook: 3.9.13\n"
     ]
    }
   ],
   "source": [
    "# Versão da Linguagem Python\n",
    "from platform import python_version\n",
    "print('Versão da Linguagem Python Usada Neste Jupyter Notebook:', python_version())"
   ]
  },
  {
   "cell_type": "code",
   "execution_count": 2,
   "id": "78658596",
   "metadata": {},
   "outputs": [],
   "source": [
    "# Para atualizar um pacote, execute o comando abaixo no terminal ou prompt de comando:\n",
    "# pip install -U nome_pacote\n",
    "\n",
    "# Para instalar a versão exata de um pacote, execute o comando abaixo no terminal ou prompt de comando:\n",
    "#!pip install nome_pacote==versão_desejada\n",
    "\n",
    "# Depois de instalar ou atualizar o pacote, reinicie o jupyter notebook.\n",
    "\n",
    "# Instala o pacote watermark. \n",
    "# Esse pacote é usado para gravar as versões de outros pacotes usados neste jupyter notebook.\n",
    "# !pip install -q -U watermark"
   ]
  },
  {
   "cell_type": "markdown",
   "id": "379088a1",
   "metadata": {},
   "source": [
    "### Exercício 1 - Crie uma função Python usando somente operações matemáticas (não use outras funções ou métodos) que receba uma lista de números como argumento e devolva como resultado a média da lista de números."
   ]
  },
  {
   "cell_type": "code",
   "execution_count": 39,
   "id": "c911d2f2",
   "metadata": {},
   "outputs": [
    {
     "data": {
      "text/plain": [
       "81.5"
      ]
     },
     "execution_count": 39,
     "metadata": {},
     "output_type": "execute_result"
    }
   ],
   "source": [
    "# Solução\n",
    "\n",
    "# Lista de números\n",
    "lista_numeros = [78, 80, 79, 80, 87, 85]\n",
    "\n",
    "# Função\n",
    "def calcula_media(lista):     \n",
    "    soma = 0\n",
    "    \n",
    "    for elemento in lista:\n",
    "        soma += elemento\n",
    "        \n",
    "    return soma/len(lista)\n",
    "\n",
    "# Chamada à função\n",
    "calcula_media(lista_numeros)                          "
   ]
  },
  {
   "cell_type": "markdown",
   "id": "3a82d0d7",
   "metadata": {},
   "source": [
    "### Exercício 2 - Crie uma função Python que receba uma lista como argumento e retorne a mediana. A função deve retornar a mediana para lista com qualquer número de elementos. Use métodos auxiliares se necessário."
   ]
  },
  {
   "cell_type": "code",
   "execution_count": 15,
   "id": "e309e500",
   "metadata": {},
   "outputs": [
    {
     "name": "stdout",
     "output_type": "stream",
     "text": [
      "A mediana da lista 1 é: 80.5\n",
      "A mediana da lista 2 é: 80\n"
     ]
    }
   ],
   "source": [
    "# Solução\n",
    "\n",
    "# Listas de números\n",
    "lista_numeros_1 = [78, 80, 79, 81, 87, 85]\n",
    "lista_numeros_2 = [78, 80, 79, 87, 85]\n",
    "\n",
    "# Função\n",
    "def calcula_mediana(nums):\n",
    "    \n",
    "    tam_lista = len(nums)\n",
    "    nums.sort()\n",
    "    metade_tam = tam_lista // 2\n",
    "    \n",
    "    if tam_lista % 2 == 0:\n",
    "        return float(sum(nums[metade_tam - 1: metade_tam + 1])) / 2.0\n",
    "    \n",
    "    return nums[metade_tam]\n",
    "\n",
    "# Chamada à função\n",
    "resultado1 = calcula_mediana(lista_numeros_1)\n",
    "resultado2 = calcula_mediana(lista_numeros_2)\n",
    "\n",
    "print(\"A mediana da lista 1 é:\", resultado1)\n",
    "print(\"A mediana da lista 2 é:\", resultado2)"
   ]
  },
  {
   "cell_type": "markdown",
   "id": "17a0fa81",
   "metadata": {},
   "source": [
    "### Exercício 3 - Considerando a lista de elementos abaixo que representa o número de produtos vendidos por dia em uma empresa, crie uma função Python que receba a lista e retorne a variância. Use métodos auxiliares se necessário.\n",
    "\n",
    "Fórmula da variância:"
   ]
  },
  {
   "cell_type": "markdown",
   "id": "13b7e500",
   "metadata": {},
   "source": [
    "![title](imagens/var.png)"
   ]
  },
  {
   "cell_type": "code",
   "execution_count": 17,
   "id": "00c6f2f9",
   "metadata": {},
   "outputs": [],
   "source": [
    "# Lista de números\n",
    "unidades_vendidas = [5, 4, 3, 4, 8, 2, 5, 2, 5, 8, 10, 8, 7, 8, 7, 9, 10, 5, 7, 5, 7, 5, 4, 3, 5, 8, 4]"
   ]
  },
  {
   "cell_type": "code",
   "execution_count": 19,
   "id": "327d146e",
   "metadata": {},
   "outputs": [
    {
     "name": "stdout",
     "output_type": "stream",
     "text": [
      "A variância da lista é: 5.09\n"
     ]
    }
   ],
   "source": [
    "# Solução\n",
    "\n",
    "# Função \n",
    "def calcula_variancia(data):\n",
    "    \n",
    "    # Coloque aqui sua solução\n",
    "    n = len(data)\n",
    "    u = calcula_media(data)\n",
    "    \n",
    "    somatoria = 0\n",
    "    \n",
    "    for i in range(len(data)):\n",
    "        somatoria += (data[i] - u) ** 2\n",
    "    \n",
    "    return somatoria / n\n",
    "\n",
    "# Chamada à função\n",
    "v = round(calcula_variancia(unidades_vendidas), 2)\n",
    "\n",
    "print(\"A variância da lista é:\", v)"
   ]
  },
  {
   "cell_type": "markdown",
   "id": "5c5fdd1f",
   "metadata": {},
   "source": [
    "### Exercício 4 - Considerando a lista de elementos abaixo que representa o número de produtos vendidos por dia em uma empresa, crie uma função que calcule o desvio padrão. Desvio padrão é a raiz quadrada da variância."
   ]
  },
  {
   "cell_type": "code",
   "execution_count": null,
   "id": "f8395dcc",
   "metadata": {},
   "outputs": [],
   "source": [
    "# Lista de números\n",
    "unidades_vendidas = [5, 4, 3, 4, 8, 2, 5, 2, 5, 8, 10, 8, 7, 8, 7, 9, 10, 5, 7, 5, 7, 5, 4, 3, 5, 8, 4]"
   ]
  },
  {
   "cell_type": "code",
   "execution_count": 41,
   "id": "f7db955d",
   "metadata": {},
   "outputs": [
    {
     "name": "stdout",
     "output_type": "stream",
     "text": [
      "O desvio padrão da lista é: 2.26\n"
     ]
    }
   ],
   "source": [
    "# Solução\n",
    "\n",
    "# Import\n",
    "import math\n",
    "\n",
    "# Função\n",
    "def calcula_std(dados):\n",
    "    var = calcula_variancia(dados)\n",
    "    return math.sqrt(var)\n",
    "\n",
    "# Chamada à função\n",
    "s = round(calcula_std(unidades_vendidas), 2)\n",
    "print(\"O desvio padrão da lista é:\", s)"
   ]
  },
  {
   "cell_type": "markdown",
   "id": "24285ddc",
   "metadata": {},
   "source": [
    "### Exercício 5 - Usando os pacotes NumPy e Scipy, calcule as estatísticas descritivas de tendência central e dispersão da lista abaixo."
   ]
  },
  {
   "cell_type": "code",
   "execution_count": 22,
   "id": "788995db",
   "metadata": {},
   "outputs": [],
   "source": [
    "# Lista de números\n",
    "unidades = [5, 4, 3, 5, 8, 2, 5, 2, 5, 8, 10, 8, 7, 9, 10, 5, 7, 5, 7, 5, 4, 3, 5, 8, 4]"
   ]
  },
  {
   "cell_type": "code",
   "execution_count": 52,
   "id": "1cbfb92f",
   "metadata": {},
   "outputs": [
    {
     "name": "stdout",
     "output_type": "stream",
     "text": [
      "Range de valores: 8\n",
      "Média: 5.76\n",
      "Mediana: 5.0\n",
      "Moda: 5\n",
      "Variância: 5.14\n",
      "Desvio Padrão: 2.27\n",
      "Coeficiente de Skewness: 0.24\n",
      "Coeficiente de Kurtosis: -0.86\n"
     ]
    }
   ],
   "source": [
    "# Solução\n",
    "\n",
    "# Imports\n",
    "import numpy as np\n",
    "import scipy\n",
    "from scipy import stats\n",
    "\n",
    "# Coloque aqui sua solução\n",
    "\n",
    "# Média\n",
    "media = np.mean(unidades)\n",
    "\n",
    "# Mediana\n",
    "mediana = np.median(unidades)\n",
    "\n",
    "# Moda\n",
    "moda = (stats.mode(unidades, keepdims = True))[0][0]\n",
    "\n",
    "# Variância\n",
    "variancia = round(np.var(unidades), 2)\n",
    "\n",
    "# Desvio Padrão\n",
    "desvio_padrao = round(np.std(unidades), 2)\n",
    "\n",
    "# Range de valores\n",
    "range_valores = np.ptp(unidades)\n",
    "\n",
    "# Skewness\n",
    "skew = round(stats.skew(unidades), 2)\n",
    "\n",
    "# Kurtosis\n",
    "kurtosis = round(stats.kurtosis(unidades), 2)\n",
    "\n",
    "def display_stat():\n",
    "    print(\"Range de valores:\", range_valores)\n",
    "    print(\"Média:\", media)\n",
    "    print(\"Mediana:\", mediana)\n",
    "    print(\"Moda:\", moda)\n",
    "    print(\"Variância:\", variancia)\n",
    "    print(\"Desvio Padrão:\", desvio_padrao)\n",
    "    print(\"Coeficiente de Skewness:\", skew)\n",
    "    print(\"Coeficiente de Kurtosis:\", kurtosis)\n",
    "display_stat()"
   ]
  },
  {
   "cell_type": "code",
   "execution_count": 53,
   "id": "7ed37f2b",
   "metadata": {},
   "outputs": [
    {
     "name": "stdout",
     "output_type": "stream",
     "text": [
      "Author: Andrew Borges\n",
      "\n",
      "scipy: 1.9.1\n",
      "numpy: 1.22.3\n",
      "\n"
     ]
    }
   ],
   "source": [
    "# Versões dos pacotes usados neste jupyter notebook\n",
    "%reload_ext watermark\n",
    "%watermark -a \"Andrew Borges\" --iversions"
   ]
  },
  {
   "cell_type": "markdown",
   "id": "cdb99d20",
   "metadata": {},
   "source": [
    "# Fim"
   ]
  }
 ],
 "metadata": {
  "kernelspec": {
   "display_name": "Python 3 (ipykernel)",
   "language": "python",
   "name": "python3"
  },
  "language_info": {
   "codemirror_mode": {
    "name": "ipython",
    "version": 3
   },
   "file_extension": ".py",
   "mimetype": "text/x-python",
   "name": "python",
   "nbconvert_exporter": "python",
   "pygments_lexer": "ipython3",
   "version": "3.9.13"
  }
 },
 "nbformat": 4,
 "nbformat_minor": 5
}
