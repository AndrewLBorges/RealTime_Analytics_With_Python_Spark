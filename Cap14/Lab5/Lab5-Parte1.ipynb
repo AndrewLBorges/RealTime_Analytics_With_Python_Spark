{
 "cells": [
  {
   "cell_type": "markdown",
   "id": "65922936",
   "metadata": {},
   "source": [
    "# <font color='blue'>Big Data Real-Time Analytics com Python e Spark</font>\n",
    "\n",
    "## <font color='blue'>Lab 5</font>\n",
    "\n",
    "## <font color='blue'>Machine Learning com PySpark</font>"
   ]
  },
  {
   "cell_type": "markdown",
   "id": "769051ca",
   "metadata": {},
   "source": [
    "## <font color='blue'>Regressão Linear</font>"
   ]
  },
  {
   "cell_type": "markdown",
   "id": "8c4e0cc3",
   "metadata": {},
   "source": [
    "Usaremos Regressão Linear para prever o consumo de combustível de automóveis.\n",
    "\n",
    "A variável **consumo** no dataset1.csv será a variável target (dependente) e as demais variáveis serão candidatas a features (variáveis preditoras ou independentes). \n",
    "\n",
    "Este é, portanto, será um problema de Regressão Linear Múltipla (quando temos mais de 1 variável preditora ou independente)."
   ]
  },
  {
   "cell_type": "code",
   "execution_count": 1,
   "id": "1cd594c1",
   "metadata": {},
   "outputs": [
    {
     "name": "stdout",
     "output_type": "stream",
     "text": [
      "Versão da Linguagem Python Usada Neste Jupyter Notebook: 3.9.13\n"
     ]
    }
   ],
   "source": [
    "# Versão da Linguagem Python\n",
    "from platform import python_version\n",
    "print('Versão da Linguagem Python Usada Neste Jupyter Notebook:', python_version())"
   ]
  },
  {
   "cell_type": "code",
   "execution_count": 2,
   "id": "8cb96006",
   "metadata": {},
   "outputs": [],
   "source": [
    "# Para atualizar um pacote, execute o comando abaixo no terminal ou prompt de comando:\n",
    "# pip install -U nome_pacote\n",
    "\n",
    "# Para instalar a versão exata de um pacote, execute o comando abaixo no terminal ou prompt de comando:\n",
    "#!pip install nome_pacote==versão_desejada\n",
    "\n",
    "# Depois de instalar ou atualizar o pacote, reinicie o jupyter notebook.\n",
    "\n",
    "# Instala o pacote watermark. \n",
    "# Esse pacote é usado para gravar as versões de outros pacotes usados neste jupyter notebook.\n",
    "#!pip install -q -U watermark"
   ]
  },
  {
   "cell_type": "code",
   "execution_count": 3,
   "id": "435ef70b",
   "metadata": {},
   "outputs": [],
   "source": [
    "# Importa o findspark e inicializa\n",
    "import findspark\n",
    "findspark.init()"
   ]
  },
  {
   "cell_type": "code",
   "execution_count": 4,
   "id": "b720ab70",
   "metadata": {},
   "outputs": [],
   "source": [
    "# Imports\n",
    "import numpy as np\n",
    "import pyspark\n",
    "from pyspark import SparkContext\n",
    "from pyspark.sql import SparkSession\n",
    "from pyspark.sql import Row\n",
    "from pyspark.ml.linalg import Vectors\n",
    "from pyspark.ml.regression import LinearRegression\n",
    "from pyspark.ml.evaluation import RegressionEvaluator"
   ]
  },
  {
   "cell_type": "code",
   "execution_count": 5,
   "id": "aadedb01",
   "metadata": {},
   "outputs": [
    {
     "name": "stdout",
     "output_type": "stream",
     "text": [
      "Author: Andrew Borges\n",
      "\n",
      "findspark: 2.0.1\n",
      "numpy    : 1.22.3\n",
      "pyspark  : 3.3.2\n",
      "\n"
     ]
    }
   ],
   "source": [
    "# Versões dos pacotes usados neste jupyter notebook\n",
    "%reload_ext watermark\n",
    "%watermark -a \"Andrew Borges\" --iversions"
   ]
  },
  {
   "cell_type": "markdown",
   "id": "3cf41525",
   "metadata": {},
   "source": [
    "## Carregando os Dados"
   ]
  },
  {
   "cell_type": "code",
   "execution_count": 6,
   "id": "7e0b1222",
   "metadata": {},
   "outputs": [],
   "source": [
    "# Criando o Spark Context\n",
    "sc = SparkContext(appName = \"Lab5\")"
   ]
  },
  {
   "cell_type": "code",
   "execution_count": 7,
   "id": "0d0846f7",
   "metadata": {},
   "outputs": [],
   "source": [
    "sc.setLogLevel(\"ERROR\")"
   ]
  },
  {
   "cell_type": "code",
   "execution_count": 8,
   "id": "e764a437",
   "metadata": {},
   "outputs": [],
   "source": [
    "# Criando o Spark Session\n",
    "spSession = SparkSession.builder.master(\"local\").getOrCreate()"
   ]
  },
  {
   "cell_type": "code",
   "execution_count": 9,
   "id": "fc1fde0f",
   "metadata": {},
   "outputs": [],
   "source": [
    "# Carregando os dados e gerando um RDD\n",
    "dados = sc.textFile(\"dados/dataset1.csv\")"
   ]
  },
  {
   "cell_type": "code",
   "execution_count": 10,
   "id": "e8dcc0eb",
   "metadata": {},
   "outputs": [
    {
     "data": {
      "text/plain": [
       "pyspark.rdd.RDD"
      ]
     },
     "execution_count": 10,
     "metadata": {},
     "output_type": "execute_result"
    }
   ],
   "source": [
    "type(dados)"
   ]
  },
  {
   "cell_type": "code",
   "execution_count": 11,
   "id": "dac04945",
   "metadata": {},
   "outputs": [
    {
     "data": {
      "text/plain": [
       "dados/dataset1.csv MapPartitionsRDD[1] at textFile at NativeMethodAccessorImpl.java:0"
      ]
     },
     "execution_count": 11,
     "metadata": {},
     "output_type": "execute_result"
    }
   ],
   "source": [
    "# Colocando o RDD em cache. Esse processo otimiza a performance\n",
    "dados.cache()"
   ]
  },
  {
   "cell_type": "code",
   "execution_count": 12,
   "id": "0d3345db",
   "metadata": {},
   "outputs": [
    {
     "data": {
      "text/plain": [
       "399"
      ]
     },
     "execution_count": 12,
     "metadata": {},
     "output_type": "execute_result"
    }
   ],
   "source": [
    "# Número de registros\n",
    "dados.count()"
   ]
  },
  {
   "cell_type": "code",
   "execution_count": 13,
   "id": "e90c8ca4",
   "metadata": {},
   "outputs": [
    {
     "data": {
      "text/plain": [
       "['consumo,numero_cilindros,capacidade,horsepower,peso,aceleracao,ano,nome',\n",
       " '30,4,79,70,2074,19.5,71,peugeot 304',\n",
       " '30,4,88,76,2065,14.5,71,fiat 124b',\n",
       " '31,4,71,65,1773,19,71,toyota corolla 1200',\n",
       " '35,4,72,69,1613,18,71,datsun 1200']"
      ]
     },
     "execution_count": 13,
     "metadata": {},
     "output_type": "execute_result"
    }
   ],
   "source": [
    "# Visualizando as primeiras linhas\n",
    "dados.take(5)"
   ]
  },
  {
   "cell_type": "code",
   "execution_count": 14,
   "id": "0d32ed6b",
   "metadata": {},
   "outputs": [
    {
     "data": {
      "text/plain": [
       "398"
      ]
     },
     "execution_count": 14,
     "metadata": {},
     "output_type": "execute_result"
    }
   ],
   "source": [
    "# Removendo a primeira linha do arquivo (cabeçalho)\n",
    "dados2 = dados.filter(lambda x: \"horsepower\" not in x)\n",
    "dados2.count()"
   ]
  },
  {
   "cell_type": "markdown",
   "id": "902d7a2b",
   "metadata": {},
   "source": [
    "## Limpeza dos Dados\n",
    "\n",
    "Vamos verificar se há valores ausentes. RDDs são ótimos para processamento, mas ruins para exploração, então converteremos o RDD para DataFrame Spark e então para DataFrame Pandas."
   ]
  },
  {
   "cell_type": "code",
   "execution_count": 15,
   "id": "5bffb2cb",
   "metadata": {},
   "outputs": [],
   "source": [
    "# Converte RDD para DataFrame Spark\n",
    "df_spark = dados2.map(lambda x: str(x)).map(lambda w: w.split(',')).toDF()"
   ]
  },
  {
   "cell_type": "code",
   "execution_count": 22,
   "id": "455f143c",
   "metadata": {},
   "outputs": [
    {
     "data": {
      "text/plain": [
       "pyspark.sql.dataframe.DataFrame"
      ]
     },
     "execution_count": 22,
     "metadata": {},
     "output_type": "execute_result"
    }
   ],
   "source": [
    "type(df_spark)"
   ]
  },
  {
   "cell_type": "code",
   "execution_count": 16,
   "id": "37f6bc5b",
   "metadata": {},
   "outputs": [],
   "source": [
    "# Converte DataFrame Spark para DataFrame Pandas\n",
    "df_pandas = df_spark.toPandas()"
   ]
  },
  {
   "cell_type": "code",
   "execution_count": 23,
   "id": "1428372f",
   "metadata": {},
   "outputs": [
    {
     "data": {
      "text/plain": [
       "pandas.core.frame.DataFrame"
      ]
     },
     "execution_count": 23,
     "metadata": {},
     "output_type": "execute_result"
    }
   ],
   "source": [
    "type(df_pandas)"
   ]
  },
  {
   "cell_type": "code",
   "execution_count": 17,
   "id": "70e9295e",
   "metadata": {},
   "outputs": [
    {
     "data": {
      "text/html": [
       "<div>\n",
       "<style scoped>\n",
       "    .dataframe tbody tr th:only-of-type {\n",
       "        vertical-align: middle;\n",
       "    }\n",
       "\n",
       "    .dataframe tbody tr th {\n",
       "        vertical-align: top;\n",
       "    }\n",
       "\n",
       "    .dataframe thead th {\n",
       "        text-align: right;\n",
       "    }\n",
       "</style>\n",
       "<table border=\"1\" class=\"dataframe\">\n",
       "  <thead>\n",
       "    <tr style=\"text-align: right;\">\n",
       "      <th></th>\n",
       "      <th>_1</th>\n",
       "      <th>_2</th>\n",
       "      <th>_3</th>\n",
       "      <th>_4</th>\n",
       "      <th>_5</th>\n",
       "      <th>_6</th>\n",
       "      <th>_7</th>\n",
       "      <th>_8</th>\n",
       "    </tr>\n",
       "  </thead>\n",
       "  <tbody>\n",
       "    <tr>\n",
       "      <th>0</th>\n",
       "      <td>30</td>\n",
       "      <td>4</td>\n",
       "      <td>79</td>\n",
       "      <td>70</td>\n",
       "      <td>2074</td>\n",
       "      <td>19.5</td>\n",
       "      <td>71</td>\n",
       "      <td>peugeot 304</td>\n",
       "    </tr>\n",
       "    <tr>\n",
       "      <th>1</th>\n",
       "      <td>30</td>\n",
       "      <td>4</td>\n",
       "      <td>88</td>\n",
       "      <td>76</td>\n",
       "      <td>2065</td>\n",
       "      <td>14.5</td>\n",
       "      <td>71</td>\n",
       "      <td>fiat 124b</td>\n",
       "    </tr>\n",
       "    <tr>\n",
       "      <th>2</th>\n",
       "      <td>31</td>\n",
       "      <td>4</td>\n",
       "      <td>71</td>\n",
       "      <td>65</td>\n",
       "      <td>1773</td>\n",
       "      <td>19</td>\n",
       "      <td>71</td>\n",
       "      <td>toyota corolla 1200</td>\n",
       "    </tr>\n",
       "    <tr>\n",
       "      <th>3</th>\n",
       "      <td>35</td>\n",
       "      <td>4</td>\n",
       "      <td>72</td>\n",
       "      <td>69</td>\n",
       "      <td>1613</td>\n",
       "      <td>18</td>\n",
       "      <td>71</td>\n",
       "      <td>datsun 1200</td>\n",
       "    </tr>\n",
       "    <tr>\n",
       "      <th>4</th>\n",
       "      <td>27</td>\n",
       "      <td>4</td>\n",
       "      <td>97</td>\n",
       "      <td>60</td>\n",
       "      <td>1834</td>\n",
       "      <td>19</td>\n",
       "      <td>71</td>\n",
       "      <td>volkswagen model 111</td>\n",
       "    </tr>\n",
       "  </tbody>\n",
       "</table>\n",
       "</div>"
      ],
      "text/plain": [
       "   _1 _2  _3  _4    _5    _6  _7                    _8\n",
       "0  30  4  79  70  2074  19.5  71           peugeot 304\n",
       "1  30  4  88  76  2065  14.5  71             fiat 124b\n",
       "2  31  4  71  65  1773    19  71   toyota corolla 1200\n",
       "3  35  4  72  69  1613    18  71           datsun 1200\n",
       "4  27  4  97  60  1834    19  71  volkswagen model 111"
      ]
     },
     "execution_count": 17,
     "metadata": {},
     "output_type": "execute_result"
    }
   ],
   "source": [
    "df_pandas.head()"
   ]
  },
  {
   "cell_type": "code",
   "execution_count": 18,
   "id": "0a988c33",
   "metadata": {},
   "outputs": [
    {
     "data": {
      "text/plain": [
       "False"
      ]
     },
     "execution_count": 18,
     "metadata": {},
     "output_type": "execute_result"
    }
   ],
   "source": [
    "# Tem valores nulos?\n",
    "df_pandas.isnull().values.any()"
   ]
  },
  {
   "cell_type": "markdown",
   "id": "8b19a3e9",
   "metadata": {},
   "source": [
    "Não há valor nulo, mas será que há valor ausente (falta de informação)? Vamos checar."
   ]
  },
  {
   "cell_type": "code",
   "execution_count": 19,
   "id": "4753aa3a",
   "metadata": {},
   "outputs": [
    {
     "data": {
      "text/plain": [
       "6"
      ]
     },
     "execution_count": 19,
     "metadata": {},
     "output_type": "execute_result"
    }
   ],
   "source": [
    "# Verifica se há alguma linha com caracter especial \"?\"\n",
    "total = np.sum(df_pandas.apply(lambda x: x.str.contains('\\?')).values)\n",
    "total"
   ]
  },
  {
   "cell_type": "code",
   "execution_count": 24,
   "id": "db44d436",
   "metadata": {},
   "outputs": [
    {
     "data": {
      "text/plain": [
       "(array([ 48, 126, 330, 336, 354, 374], dtype=int64),\n",
       " array([3, 3, 3, 3, 3, 3], dtype=int64))"
      ]
     },
     "execution_count": 24,
     "metadata": {},
     "output_type": "execute_result"
    }
   ],
   "source": [
    "# Vejamos quais linhas e colunas têm o caracter especial\n",
    "np.where(df_pandas.apply(lambda x: x.str.contains('\\?')).values)"
   ]
  },
  {
   "cell_type": "code",
   "execution_count": 25,
   "id": "31db4f9a",
   "metadata": {},
   "outputs": [
    {
     "data": {
      "text/plain": [
       "_1                    40.9\n",
       "_2                       4\n",
       "_3                      85\n",
       "_4                       ?\n",
       "_5                    1835\n",
       "_6                    17.3\n",
       "_7                      80\n",
       "_8    renault lecar deluxe\n",
       "Name: 330, dtype: object"
      ]
     },
     "execution_count": 25,
     "metadata": {},
     "output_type": "execute_result"
    }
   ],
   "source": [
    "# Visualizando uma linha\n",
    "df_pandas.iloc[330]"
   ]
  },
  {
   "cell_type": "code",
   "execution_count": 26,
   "id": "f7474911",
   "metadata": {},
   "outputs": [],
   "source": [
    "# Usando um valor padrão para average HP (que será usado para preencher os valores ausentes)\n",
    "mediaHP = sc.broadcast(75.0)"
   ]
  },
  {
   "cell_type": "code",
   "execution_count": 28,
   "id": "c7cecf5b",
   "metadata": {},
   "outputs": [],
   "source": [
    "# Função para limpeza dos dados\n",
    "def limpa_dados(input_str):\n",
    "    # Variável global\n",
    "    global mediaHP\n",
    "    \n",
    "    # Lista de atributos\n",
    "    att_list = input_str.split(\",\")\n",
    "    \n",
    "    # Substitui o caracter ? por um valor na coluna de índice 3\n",
    "    hp_value = att_list[3]\n",
    "    if hp_value == \"?\":\n",
    "        hp_value = mediaHP.value\n",
    "        \n",
    "    # Cria uma linha usando a função Row, limpando e convertendo os dados de string para float\n",
    "    linha = Row(consumo = float(att_list[0]),\n",
    "                numero_cilindros = float(att_list[1]),\n",
    "                capacidade = float(att_list[2]),\n",
    "                horsepower = float(hp_value),\n",
    "                peso = float(att_list[4]),\n",
    "                aceleracao = float(att_list[5]),\n",
    "                ano = float(att_list[6]),\n",
    "                nome = att_list[7])\n",
    "    return linha"
   ]
  },
  {
   "cell_type": "code",
   "execution_count": 29,
   "id": "a3ba0b34",
   "metadata": {},
   "outputs": [
    {
     "data": {
      "text/plain": [
       "[Row(consumo=30.0, numero_cilindros=4.0, capacidade=79.0, horsepower=70.0, peso=2074.0, aceleracao=19.5, ano=71.0, nome='peugeot 304'),\n",
       " Row(consumo=30.0, numero_cilindros=4.0, capacidade=88.0, horsepower=76.0, peso=2065.0, aceleracao=14.5, ano=71.0, nome='fiat 124b'),\n",
       " Row(consumo=31.0, numero_cilindros=4.0, capacidade=71.0, horsepower=65.0, peso=1773.0, aceleracao=19.0, ano=71.0, nome='toyota corolla 1200'),\n",
       " Row(consumo=35.0, numero_cilindros=4.0, capacidade=72.0, horsepower=69.0, peso=1613.0, aceleracao=18.0, ano=71.0, nome='datsun 1200'),\n",
       " Row(consumo=27.0, numero_cilindros=4.0, capacidade=97.0, horsepower=60.0, peso=1834.0, aceleracao=19.0, ano=71.0, nome='volkswagen model 111')]"
      ]
     },
     "execution_count": 29,
     "metadata": {},
     "output_type": "execute_result"
    }
   ],
   "source": [
    "# Executa a função no RDD\n",
    "dados3 = dados2.map(limpa_dados)\n",
    "dados3.cache()\n",
    "dados3.take(5)"
   ]
  },
  {
   "cell_type": "markdown",
   "id": "3af0a7fa",
   "metadata": {},
   "source": [
    "## Análise Exploratória de Dados"
   ]
  },
  {
   "cell_type": "code",
   "execution_count": 30,
   "id": "c55d6df1",
   "metadata": {},
   "outputs": [],
   "source": [
    "# Cria um Dataframe\n",
    "df_carros = spSession.createDataFrame(dados3)"
   ]
  },
  {
   "cell_type": "code",
   "execution_count": 31,
   "id": "7c9efc9d",
   "metadata": {},
   "outputs": [
    {
     "name": "stdout",
     "output_type": "stream",
     "text": [
      "+-------+-----------------+-----------------+\n",
      "|summary|          consumo| numero_cilindros|\n",
      "+-------+-----------------+-----------------+\n",
      "|  count|              398|              398|\n",
      "|   mean|23.51457286432161|5.454773869346734|\n",
      "| stddev|7.815984312565782|1.701004244533212|\n",
      "|    min|              9.0|              3.0|\n",
      "|    max|             46.6|              8.0|\n",
      "+-------+-----------------+-----------------+\n",
      "\n"
     ]
    }
   ],
   "source": [
    "# Estatísticas descritivas de duas variáveis (como exemplo)\n",
    "df_carros.select('consumo', 'numero_cilindros').describe().show()"
   ]
  },
  {
   "cell_type": "code",
   "execution_count": 32,
   "id": "006ebf40",
   "metadata": {},
   "outputs": [
    {
     "name": "stdout",
     "output_type": "stream",
     "text": [
      "Correlação da Variável Target com: consumo 1.0\n",
      "Correlação da Variável Target com: numero_cilindros -0.7753962854205546\n",
      "Correlação da Variável Target com: capacidade -0.8042028248058979\n",
      "Correlação da Variável Target com: horsepower -0.7747041523498721\n",
      "Correlação da Variável Target com: peso -0.8317409332443347\n",
      "Correlação da Variável Target com: aceleracao 0.42028891210164976\n",
      "Correlação da Variável Target com: ano 0.5792671330833099\n"
     ]
    }
   ],
   "source": [
    "# Encontrando a correlação entre a variável target com as variáveis preditoras (exceto o nome)\n",
    "for i in df_carros.columns:\n",
    "    if not (isinstance(df_carros.select(i).take(1)[0][0], str)):\n",
    "        print(\"Correlação da Variável Target com:\", i, df_carros.stat.corr('consumo', i))"
   ]
  },
  {
   "cell_type": "markdown",
   "id": "b01deeaf",
   "metadata": {},
   "source": [
    "## Pré-Processamento dos Dados"
   ]
  },
  {
   "cell_type": "code",
   "execution_count": 33,
   "id": "e0a8641e",
   "metadata": {},
   "outputs": [],
   "source": [
    "# Convertendo para um LabeledPoint (target, Vector(features))\n",
    "# Remove colunas não relevantes ou com baixa correlação\n",
    "def transform_var(row):\n",
    "    obj = (row[\"consumo\"], Vectors.dense([row[\"peso\"], row[\"capacidade\"], row[\"numero_cilindros\"]]))\n",
    "    return obj"
   ]
  },
  {
   "cell_type": "code",
   "execution_count": 34,
   "id": "dfeebd14",
   "metadata": {},
   "outputs": [],
   "source": [
    "# Aplica a função no RDD e cria outro RDD\n",
    "dados4 = dados3.map(transform_var)"
   ]
  },
  {
   "cell_type": "code",
   "execution_count": 35,
   "id": "9f0ba56e",
   "metadata": {},
   "outputs": [
    {
     "data": {
      "text/plain": [
       "[(30.0, DenseVector([2074.0, 79.0, 4.0])),\n",
       " (30.0, DenseVector([2065.0, 88.0, 4.0])),\n",
       " (31.0, DenseVector([1773.0, 71.0, 4.0])),\n",
       " (35.0, DenseVector([1613.0, 72.0, 4.0])),\n",
       " (27.0, DenseVector([1834.0, 97.0, 4.0]))]"
      ]
     },
     "execution_count": 35,
     "metadata": {},
     "output_type": "execute_result"
    }
   ],
   "source": [
    "# Visualiza\n",
    "dados4.take(5)"
   ]
  },
  {
   "cell_type": "code",
   "execution_count": 36,
   "id": "3d62ab2f",
   "metadata": {},
   "outputs": [],
   "source": [
    "# Converte o RDD para DataFrame do Spark\n",
    "df_carros = spSession.createDataFrame(dados4, [\"label\", \"features\"])"
   ]
  },
  {
   "cell_type": "code",
   "execution_count": 37,
   "id": "aee80d63",
   "metadata": {},
   "outputs": [
    {
     "name": "stdout",
     "output_type": "stream",
     "text": [
      "+-----+------------------+\n",
      "|label|          features|\n",
      "+-----+------------------+\n",
      "| 30.0| [2074.0,79.0,4.0]|\n",
      "| 30.0| [2065.0,88.0,4.0]|\n",
      "| 31.0| [1773.0,71.0,4.0]|\n",
      "| 35.0| [1613.0,72.0,4.0]|\n",
      "| 27.0| [1834.0,97.0,4.0]|\n",
      "| 26.0| [1955.0,91.0,4.0]|\n",
      "| 24.0|[2278.0,113.0,4.0]|\n",
      "| 25.0| [2126.0,97.5,4.0]|\n",
      "| 23.0| [2254.0,97.0,4.0]|\n",
      "| 20.0|[2408.0,140.0,4.0]|\n",
      "+-----+------------------+\n",
      "only showing top 10 rows\n",
      "\n"
     ]
    }
   ],
   "source": [
    "# Visualiza label (y) e atributos (x)\n",
    "df_carros.select(\"label\", \"features\").show(10)"
   ]
  },
  {
   "cell_type": "code",
   "execution_count": 38,
   "id": "74a2b5bd",
   "metadata": {},
   "outputs": [],
   "source": [
    "# Divisão em dados de Treino e de Teste com split 70/30\n",
    "(dados_treino, dados_teste) = df_carros.randomSplit([0.7, 0.3])"
   ]
  },
  {
   "cell_type": "code",
   "execution_count": 39,
   "id": "263f1850",
   "metadata": {},
   "outputs": [
    {
     "data": {
      "text/plain": [
       "280"
      ]
     },
     "execution_count": 39,
     "metadata": {},
     "output_type": "execute_result"
    }
   ],
   "source": [
    "dados_treino.count()"
   ]
  },
  {
   "cell_type": "code",
   "execution_count": 40,
   "id": "125a09dd",
   "metadata": {},
   "outputs": [
    {
     "data": {
      "text/plain": [
       "118"
      ]
     },
     "execution_count": 40,
     "metadata": {},
     "output_type": "execute_result"
    }
   ],
   "source": [
    "dados_teste.count()"
   ]
  },
  {
   "cell_type": "markdown",
   "id": "d2c7858e",
   "metadata": {},
   "source": [
    "## Machine Learning"
   ]
  },
  {
   "cell_type": "code",
   "execution_count": 41,
   "id": "3f09a12c",
   "metadata": {},
   "outputs": [],
   "source": [
    "# Cria o objeto\n",
    "linearReg = LinearRegression()"
   ]
  },
  {
   "cell_type": "code",
   "execution_count": 42,
   "id": "98bac006",
   "metadata": {},
   "outputs": [],
   "source": [
    "# Treina o objeto com dados de treino e cria o modelo\n",
    "modelo = linearReg.fit(dados_treino)"
   ]
  },
  {
   "cell_type": "code",
   "execution_count": 43,
   "id": "6fb47ae4",
   "metadata": {},
   "outputs": [
    {
     "name": "stdout",
     "output_type": "stream",
     "text": [
      "LinearRegressionModel: uid=LinearRegression_78d31b28f34f, numFeatures=3\n"
     ]
    }
   ],
   "source": [
    "print(modelo)"
   ]
  },
  {
   "cell_type": "code",
   "execution_count": 44,
   "id": "6ed55fd8",
   "metadata": {},
   "outputs": [
    {
     "name": "stdout",
     "output_type": "stream",
     "text": [
      "Coeficientes: [-0.00569881369188783,-0.016884916274328737,0.022615039708999998]\n",
      "Intercepto: 43.68107558549755\n"
     ]
    }
   ],
   "source": [
    "# Imprimindo os coeficientes (o que o modelo aprendeu)\n",
    "print(\"Coeficientes: \" + str(modelo.coefficients))\n",
    "print(\"Intercepto: \" + str(modelo.intercept))"
   ]
  },
  {
   "cell_type": "code",
   "execution_count": 45,
   "id": "e648c5a4",
   "metadata": {},
   "outputs": [],
   "source": [
    "# Previsões com dados de teste\n",
    "predictions = modelo.transform(dados_teste)"
   ]
  },
  {
   "cell_type": "code",
   "execution_count": 46,
   "id": "353ae5c4",
   "metadata": {},
   "outputs": [
    {
     "name": "stdout",
     "output_type": "stream",
     "text": [
      "+------------------+------------------+\n",
      "|          features|        prediction|\n",
      "+------------------+------------------+\n",
      "|[4732.0,304.0,8.0]|11.762194965760411|\n",
      "|[4499.0,350.0,8.0]|12.313312407351152|\n",
      "|[4952.0,429.0,8.0]| 8.397841419253993|\n",
      "|[4100.0,350.0,8.0]|14.587139070414395|\n",
      "|[4274.0,350.0,8.0]|13.595545488025913|\n",
      "|[4502.0,350.0,8.0]|12.296215966275486|\n",
      "|[4746.0,400.0,8.0]|10.061459611738414|\n",
      "|[3609.0,340.0,8.0]|17.554105755874605|\n",
      "|[4129.0,351.0,8.0]| 14.40498855707532|\n",
      "|[4209.0,350.0,8.0]|13.965968377998621|\n",
      "|[4312.0,440.0,8.0]|11.859348103044585|\n",
      "|[4354.0,454.0,8.0]|11.383609100144689|\n",
      "|[4457.0,318.0,8.0]|13.092979903188962|\n",
      "|[4215.0,351.0,8.0]|13.914890579572965|\n",
      "|[3158.0,250.0,6.0]|21.598683116187605|\n",
      "|[4082.0,350.0,8.0]|14.689717716868376|\n",
      "|[4440.0,350.0,8.0]|12.649542415172533|\n",
      "|[3433.0,304.0,8.0]|19.164953951522698|\n",
      "|[3439.0,225.0,6.0]| 20.41943937562534|\n",
      "|[3329.0,250.0,6.0]|20.624185974874784|\n",
      "+------------------+------------------+\n",
      "only showing top 20 rows\n",
      "\n"
     ]
    }
   ],
   "source": [
    "# Visualiza as previsões\n",
    "predictions.select(\"features\", \"prediction\").show()"
   ]
  },
  {
   "cell_type": "code",
   "execution_count": 47,
   "id": "3434e0da",
   "metadata": {},
   "outputs": [],
   "source": [
    "# Coeficiente de determinação R2\n",
    "avaliador = RegressionEvaluator(predictionCol=\"prediction\", labelCol=\"label\", metricName=\"r2\")"
   ]
  },
  {
   "cell_type": "code",
   "execution_count": 48,
   "id": "5d84dbaa",
   "metadata": {},
   "outputs": [
    {
     "data": {
      "text/plain": [
       "0.7130183944985374"
      ]
     },
     "execution_count": 48,
     "metadata": {},
     "output_type": "execute_result"
    }
   ],
   "source": [
    "# Resultado\n",
    "avaliador.evaluate(predictions)"
   ]
  },
  {
   "cell_type": "markdown",
   "id": "cc29c94f",
   "metadata": {},
   "source": [
    "# Fim"
   ]
  }
 ],
 "metadata": {
  "kernelspec": {
   "display_name": "Python 3 (ipykernel)",
   "language": "python",
   "name": "python3"
  },
  "language_info": {
   "codemirror_mode": {
    "name": "ipython",
    "version": 3
   },
   "file_extension": ".py",
   "mimetype": "text/x-python",
   "name": "python",
   "nbconvert_exporter": "python",
   "pygments_lexer": "ipython3",
   "version": "3.9.13"
  }
 },
 "nbformat": 4,
 "nbformat_minor": 5
}
